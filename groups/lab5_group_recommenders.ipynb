{
 "cells": [
  {
   "cell_type": "markdown",
   "metadata": {},
   "source": [
    "# Lab 5 - Group Recommenders\n",
    "\n",
    "## Lab Setup\n",
    "\n",
    " * Download and extract: https://files.grouplens.org/datasets/movielens/ml-latest-small.zip\n",
    "   * Read more: https://grouplens.org/datasets/movielens/\n",
    " * [optional] Create virtual enviroment\n",
    " `python3 -m venv ./recsyslab5`\n",
    " * install needed libraries:\n",
    " `pip install numpy pandas matplotlib`"
   ]
  },
  {
   "cell_type": "markdown",
   "metadata": {},
   "source": [
    "## Part 1 - Data preparation and preprocessing"
   ]
  },
  {
   "cell_type": "code",
   "execution_count": 1,
   "metadata": {
    "ExecuteTime": {
     "end_time": "2023-11-18T19:11:30.407237Z",
     "start_time": "2023-11-18T19:11:30.208627900Z"
    }
   },
   "outputs": [],
   "source": [
    "# import needed packages\n",
    "\n",
    "import math\n",
    "import numpy as np\n",
    "import pandas\n",
    "\n",
    "from random import choice, sample\n",
    "from statistics import mean, stdev\n",
    "\n",
    "import pandas as pd\n",
    "\n",
    "from reco_utils import *"
   ]
  },
  {
   "cell_type": "code",
   "execution_count": 2,
   "metadata": {
    "scrolled": true,
    "ExecuteTime": {
     "end_time": "2023-11-18T19:11:46.054522600Z",
     "start_time": "2023-11-18T19:11:30.410237100Z"
    }
   },
   "outputs": [
    {
     "name": "stdout",
     "output_type": "stream",
     "text": [
      "Total error: 209368.3765321304\n",
      "Total error: 203045.75593634343\n",
      "Total error: 197139.04009666867\n",
      "Total error: 191609.073579633\n",
      "Total error: 186421.30643779968\n",
      "Total error: 181545.15717202215\n",
      "Total error: 176953.47702384955\n",
      "Total error: 172622.09723988906\n",
      "Total error: 168529.44469713667\n",
      "Total error: 164656.21417695555\n",
      "Total error: 160985.08783514946\n",
      "Total error: 157500.494190382\n",
      "Total error: 154188.40035700426\n",
      "Total error: 151036.13236624908\n",
      "Total error: 148032.21931570617\n",
      "Total error: 145166.2578095068\n",
      "Total error: 142428.79373771747\n",
      "Total error: 139811.2189214662\n",
      "Total error: 137305.68054231742\n",
      "Total error: 134905.0015974568\n",
      "Total error: 132602.6108897298\n",
      "Total error: 130392.48128407296\n",
      "Total error: 128269.0751477164\n",
      "Total error: 126227.29604738702\n",
      "Total error: 124262.44590793445\n",
      "Total error: 122370.18694763038\n",
      "Total error: 120546.50779932152\n",
      "Total error: 118787.69330648301\n",
      "Total error: 117090.29755131106\n",
      "Total error: 115451.11973022803\n",
      "Total error: 113867.18254208622\n",
      "Total error: 112335.71279724747\n",
      "Total error: 110854.12399266775\n",
      "Total error: 109420.00063000075\n",
      "Total error: 108031.08408131721\n",
      "Total error: 106685.25983093872\n",
      "Total error: 105380.54594263813\n",
      "Total error: 104115.08261949956\n",
      "Total error: 102887.12273945725\n",
      "Total error: 101695.02326324153\n",
      "Total error: 100537.2374234543\n",
      "Total error: 99412.30761396713\n",
      "Total error: 98318.8589080489\n",
      "Total error: 97255.59314166788\n",
      "Total error: 96221.28350551729\n",
      "Total error: 95214.76959553888\n",
      "Total error: 94234.95287720687\n",
      "Total error: 93280.79252368103\n",
      "Total error: 92351.30159221202\n",
      "Total error: 91445.54350695676\n",
      "Total error: 90562.62881971046\n",
      "Total error: 89701.71222302302\n",
      "Total error: 88861.98979279526\n",
      "Total error: 88042.69643978319\n",
      "Total error: 87243.10355151485\n",
      "Total error: 86462.51680796921\n",
      "Total error: 85700.27415600869\n",
      "Total error: 84955.74392902768\n",
      "Total error: 84228.32309958365\n",
      "Total error: 83517.43565395143\n",
      "Total error: 82822.53107858656\n",
      "Total error: 82143.08294941693\n",
      "Total error: 81478.58761573286\n",
      "Total error: 80828.56297118553\n",
      "Total error: 80192.54730509539\n",
      "Total error: 79570.09822787141\n",
      "Total error: 78960.79166489416\n",
      "Total error: 78364.22091371438\n",
      "Total error: 77779.99575985668\n",
      "Total error: 77207.74164692736\n",
      "Total error: 76647.09889708691\n",
      "Total error: 76097.72197827829\n",
      "Total error: 75559.27881489933\n",
      "Total error: 75031.45013888112\n",
      "Total error: 74513.92887837705\n",
      "Total error: 74006.4195814929\n",
      "Total error: 73508.63787269001\n",
      "Total error: 73020.30993968032\n",
      "Total error: 72541.17204879913\n",
      "Total error: 72070.97008699611\n",
      "Total error: 71609.45912872588\n",
      "Total error: 71156.40302614719\n",
      "Total error: 70711.5740211593\n",
      "Total error: 70274.75237790671\n",
      "Total error: 69845.72603449163\n",
      "Total error: 69424.2902727121\n",
      "Total error: 69010.24740473808\n",
      "Total error: 68603.40647570623\n",
      "Total error: 68203.58298129025\n",
      "Total error: 67810.59859936404\n",
      "Total error: 67424.28093493685\n",
      "Total error: 67044.46327759702\n",
      "Total error: 66670.98437074613\n",
      "Total error: 66303.68819195671\n",
      "Total error: 65942.42374383227\n",
      "Total error: 65587.04485478018\n",
      "Total error: 65237.409989156164\n",
      "Total error: 64893.382066264356\n",
      "Total error: 64554.828287736374\n",
      "Total error: 64221.61997283605\n",
      "Total error: 63893.63240127111\n",
      "Total error: 63570.74466311166\n",
      "Total error: 63252.83951544665\n",
      "Total error: 62939.80324542422\n",
      "Total error: 62631.525539350565\n",
      "Total error: 62327.899357533875\n",
      "Total error: 62028.82081458406\n",
      "Total error: 61734.18906489214\n",
      "Total error: 61443.90619303028\n",
      "Total error: 61157.87710882888\n",
      "Total error: 60876.00944689883\n",
      "Total error: 60598.21347038328\n",
      "Total error: 60324.40197873174\n",
      "Total error: 60054.49021930395\n",
      "Total error: 59788.39580261814\n",
      "Total error: 59526.03862107324\n",
      "Total error: 59267.340770977404\n",
      "Total error: 59012.22647773017\n",
      "Total error: 58760.6220240112\n",
      "Total error: 58512.455680834384\n",
      "Total error: 58267.65764133743\n",
      "Total error: 58026.159957181575\n",
      "Total error: 57787.896477441725\n",
      "Total error: 57552.8027898759\n",
      "Total error: 57320.816164467076\n",
      "Total error: 57091.87549913529\n",
      "Total error: 56865.921267524616\n",
      "Total error: 56642.89546877401\n",
      "Total error: 56422.741579184185\n",
      "Total error: 56205.404505699094\n",
      "Total error: 55990.830541122814\n",
      "Total error: 55778.967320997224\n",
      "Total error: 55569.763782070906\n",
      "Total error: 55363.170122289186\n",
      "Total error: 55159.13776224398\n",
      "Total error: 54957.61930801921\n",
      "Total error: 54758.568515376246\n",
      "Total error: 54561.94025522179\n",
      "Total error: 54367.69048030642\n",
      "Total error: 54175.77619310214\n",
      "Total error: 53986.15541481277\n",
      "Total error: 53798.78715546842\n",
      "Total error: 53613.6313850629\n",
      "Total error: 53430.64900569078\n",
      "Total error: 53249.80182464431\n",
      "Total error: 53071.05252843267\n",
      "Total error: 52894.364657686245\n",
      "Total error: 52719.70258291169\n",
      "Total error: 52547.031481065176\n",
      "Total error: 52376.317312909916\n",
      "Total error: 52207.52680113047\n",
      "Total error: 52040.627409172\n",
      "Total error: 51875.58732077905\n",
      "Total error: 51712.37542020491\n",
      "Total error: 51550.96127306895\n",
      "Total error: 51391.31510783437\n",
      "Total error: 51233.40779788574\n",
      "Total error: 51077.21084418216\n",
      "Total error: 50922.69635846617\n",
      "Total error: 50769.8370470064\n",
      "Total error: 50618.60619485544\n",
      "Total error: 50468.977650603265\n",
      "Total error: 50320.92581160947\n",
      "Total error: 50174.425609695056\n",
      "Total error: 50029.4524972794\n",
      "Total error: 49885.98243394377\n",
      "Total error: 49743.991873409504\n",
      "Total error: 49603.45775091345\n",
      "Total error: 49464.35747096683\n",
      "Total error: 49326.66889548648\n",
      "Total error: 49190.37033228171\n",
      "Total error: 49055.440523888145\n",
      "Total error: 48921.85863673329\n",
      "Total error: 48789.6042506248\n",
      "Total error: 48658.65734854882\n",
      "Total error: 48528.99830676875\n",
      "Total error: 48400.60788521371\n",
      "Total error: 48273.46721814685\n",
      "Total error: 48147.5578051043\n",
      "Total error: 48022.8615020959\n",
      "Total error: 47899.36051305836\n",
      "Total error: 47777.037381552625\n",
      "Total error: 47655.87498269821\n",
      "Total error: 47535.85651533524\n",
      "Total error: 47416.965494407785\n",
      "Total error: 47299.18574356154\n",
      "Total error: 47182.501387946526\n",
      "Total error: 47066.896847222764\n",
      "Total error: 46952.356828756776\n",
      "Total error: 46838.86632100751\n",
      "Total error: 46726.41058709263\n",
      "Total error: 46614.975158531415\n",
      "Total error: 46504.54582915692\n",
      "Total error: 46395.10864919375\n",
      "Total error: 46286.649919494565\n",
      "Total error: 46179.15618593242\n",
      "Total error: 46072.614233941764\n",
      "Total error: 45967.01108320496\n",
      "Total error: 45862.33398248041\n",
      "Total error: 45758.57040456548\n",
      "Total error: 45655.708041392856\n",
      "Total error: 45553.7347992549\n",
      "Total error: 45452.63879415202\n",
      "Total error: 45352.408347261466\n",
      "Total error: 45253.03198052363\n"
     ]
    },
    {
     "data": {
      "text/plain": "   1       2       3       4       5       6       7       8       9       \\\n1       6       7      10       6       7       7       5       4       7   \n2       2       0       0       1       9       7       7       8       3   \n3       4      10       1       1       8      10       0      10       0   \n4       7       4       5       8       6      10       4       9      10   \n5       3       2      10       5      10       2       7       0       0   \n\n   10      ...  193565  193567  193571  193573  193579  193581  193583  \\\n1       6  ...       9       7       8       6       8       3       4   \n2      10  ...       7      10       2      10       7       3      10   \n3       1  ...      10       9       0       0      10       8      10   \n4       4  ...       4       2      10       6       6       5       0   \n5      10  ...       7       8       8       5       0       6      10   \n\n   193585  193587  193609  \n1       7       6       4  \n2       2       0      10  \n3      10       0       0  \n4       2       0      10  \n5       8       6       3  \n\n[5 rows x 9724 columns]",
      "text/html": "<div>\n<style scoped>\n    .dataframe tbody tr th:only-of-type {\n        vertical-align: middle;\n    }\n\n    .dataframe tbody tr th {\n        vertical-align: top;\n    }\n\n    .dataframe thead th {\n        text-align: right;\n    }\n</style>\n<table border=\"1\" class=\"dataframe\">\n  <thead>\n    <tr style=\"text-align: right;\">\n      <th></th>\n      <th>1</th>\n      <th>2</th>\n      <th>3</th>\n      <th>4</th>\n      <th>5</th>\n      <th>6</th>\n      <th>7</th>\n      <th>8</th>\n      <th>9</th>\n      <th>10</th>\n      <th>...</th>\n      <th>193565</th>\n      <th>193567</th>\n      <th>193571</th>\n      <th>193573</th>\n      <th>193579</th>\n      <th>193581</th>\n      <th>193583</th>\n      <th>193585</th>\n      <th>193587</th>\n      <th>193609</th>\n    </tr>\n  </thead>\n  <tbody>\n    <tr>\n      <th>1</th>\n      <td>6</td>\n      <td>7</td>\n      <td>10</td>\n      <td>6</td>\n      <td>7</td>\n      <td>7</td>\n      <td>5</td>\n      <td>4</td>\n      <td>7</td>\n      <td>6</td>\n      <td>...</td>\n      <td>9</td>\n      <td>7</td>\n      <td>8</td>\n      <td>6</td>\n      <td>8</td>\n      <td>3</td>\n      <td>4</td>\n      <td>7</td>\n      <td>6</td>\n      <td>4</td>\n    </tr>\n    <tr>\n      <th>2</th>\n      <td>2</td>\n      <td>0</td>\n      <td>0</td>\n      <td>1</td>\n      <td>9</td>\n      <td>7</td>\n      <td>7</td>\n      <td>8</td>\n      <td>3</td>\n      <td>10</td>\n      <td>...</td>\n      <td>7</td>\n      <td>10</td>\n      <td>2</td>\n      <td>10</td>\n      <td>7</td>\n      <td>3</td>\n      <td>10</td>\n      <td>2</td>\n      <td>0</td>\n      <td>10</td>\n    </tr>\n    <tr>\n      <th>3</th>\n      <td>4</td>\n      <td>10</td>\n      <td>1</td>\n      <td>1</td>\n      <td>8</td>\n      <td>10</td>\n      <td>0</td>\n      <td>10</td>\n      <td>0</td>\n      <td>1</td>\n      <td>...</td>\n      <td>10</td>\n      <td>9</td>\n      <td>0</td>\n      <td>0</td>\n      <td>10</td>\n      <td>8</td>\n      <td>10</td>\n      <td>10</td>\n      <td>0</td>\n      <td>0</td>\n    </tr>\n    <tr>\n      <th>4</th>\n      <td>7</td>\n      <td>4</td>\n      <td>5</td>\n      <td>8</td>\n      <td>6</td>\n      <td>10</td>\n      <td>4</td>\n      <td>9</td>\n      <td>10</td>\n      <td>4</td>\n      <td>...</td>\n      <td>4</td>\n      <td>2</td>\n      <td>10</td>\n      <td>6</td>\n      <td>6</td>\n      <td>5</td>\n      <td>0</td>\n      <td>2</td>\n      <td>0</td>\n      <td>10</td>\n    </tr>\n    <tr>\n      <th>5</th>\n      <td>3</td>\n      <td>2</td>\n      <td>10</td>\n      <td>5</td>\n      <td>10</td>\n      <td>2</td>\n      <td>7</td>\n      <td>0</td>\n      <td>0</td>\n      <td>10</td>\n      <td>...</td>\n      <td>7</td>\n      <td>8</td>\n      <td>8</td>\n      <td>5</td>\n      <td>0</td>\n      <td>6</td>\n      <td>10</td>\n      <td>8</td>\n      <td>6</td>\n      <td>3</td>\n    </tr>\n  </tbody>\n</table>\n<p>5 rows × 9724 columns</p>\n</div>"
     },
     "execution_count": 2,
     "metadata": {},
     "output_type": "execute_result"
    }
   ],
   "source": [
    "# read user ratings and calculate expected movie ratings with collaborative filtering\n",
    "\n",
    "raw_ratings = pandas.read_csv(\"ml-latest-small/ratings.csv\").drop(columns=[\"timestamp\"])\n",
    "movies = list(raw_ratings[\"movieId\"].unique())\n",
    "users = list(raw_ratings[\"userId\"].unique())\n",
    "ratings = get_predicted_ratings(raw_ratings)\n",
    "ratings.head()"
   ]
  },
  {
   "cell_type": "code",
   "execution_count": 3,
   "metadata": {
    "ExecuteTime": {
     "end_time": "2023-11-18T19:11:46.163533400Z",
     "start_time": "2023-11-18T19:11:46.053522600Z"
    }
   },
   "outputs": [
    {
     "data": {
      "text/plain": "                                             title  \\\nmovieId                                              \n1                                 Toy Story (1995)   \n2                                   Jumanji (1995)   \n3                          Grumpier Old Men (1995)   \n4                         Waiting to Exhale (1995)   \n5               Father of the Bride Part II (1995)   \n...                                            ...   \n193581   Black Butler: Book of the Atlantic (2017)   \n193583                No Game No Life: Zero (2017)   \n193585                                Flint (2017)   \n193587         Bungo Stray Dogs: Dead Apple (2018)   \n193609         Andrew Dice Clay: Dice Rules (1991)   \n\n                                              genres  \nmovieId                                               \n1        Adventure|Animation|Children|Comedy|Fantasy  \n2                         Adventure|Children|Fantasy  \n3                                     Comedy|Romance  \n4                               Comedy|Drama|Romance  \n5                                             Comedy  \n...                                              ...  \n193581               Action|Animation|Comedy|Fantasy  \n193583                      Animation|Comedy|Fantasy  \n193585                                         Drama  \n193587                              Action|Animation  \n193609                                        Comedy  \n\n[9742 rows x 2 columns]",
      "text/html": "<div>\n<style scoped>\n    .dataframe tbody tr th:only-of-type {\n        vertical-align: middle;\n    }\n\n    .dataframe tbody tr th {\n        vertical-align: top;\n    }\n\n    .dataframe thead th {\n        text-align: right;\n    }\n</style>\n<table border=\"1\" class=\"dataframe\">\n  <thead>\n    <tr style=\"text-align: right;\">\n      <th></th>\n      <th>title</th>\n      <th>genres</th>\n    </tr>\n    <tr>\n      <th>movieId</th>\n      <th></th>\n      <th></th>\n    </tr>\n  </thead>\n  <tbody>\n    <tr>\n      <th>1</th>\n      <td>Toy Story (1995)</td>\n      <td>Adventure|Animation|Children|Comedy|Fantasy</td>\n    </tr>\n    <tr>\n      <th>2</th>\n      <td>Jumanji (1995)</td>\n      <td>Adventure|Children|Fantasy</td>\n    </tr>\n    <tr>\n      <th>3</th>\n      <td>Grumpier Old Men (1995)</td>\n      <td>Comedy|Romance</td>\n    </tr>\n    <tr>\n      <th>4</th>\n      <td>Waiting to Exhale (1995)</td>\n      <td>Comedy|Drama|Romance</td>\n    </tr>\n    <tr>\n      <th>5</th>\n      <td>Father of the Bride Part II (1995)</td>\n      <td>Comedy</td>\n    </tr>\n    <tr>\n      <th>...</th>\n      <td>...</td>\n      <td>...</td>\n    </tr>\n    <tr>\n      <th>193581</th>\n      <td>Black Butler: Book of the Atlantic (2017)</td>\n      <td>Action|Animation|Comedy|Fantasy</td>\n    </tr>\n    <tr>\n      <th>193583</th>\n      <td>No Game No Life: Zero (2017)</td>\n      <td>Animation|Comedy|Fantasy</td>\n    </tr>\n    <tr>\n      <th>193585</th>\n      <td>Flint (2017)</td>\n      <td>Drama</td>\n    </tr>\n    <tr>\n      <th>193587</th>\n      <td>Bungo Stray Dogs: Dead Apple (2018)</td>\n      <td>Action|Animation</td>\n    </tr>\n    <tr>\n      <th>193609</th>\n      <td>Andrew Dice Clay: Dice Rules (1991)</td>\n      <td>Comedy</td>\n    </tr>\n  </tbody>\n</table>\n<p>9742 rows × 2 columns</p>\n</div>"
     },
     "execution_count": 3,
     "metadata": {},
     "output_type": "execute_result"
    }
   ],
   "source": [
    "# read movie categories\n",
    "\n",
    "movies_metadata = pandas.read_csv(\"ml-latest-small/movies.csv\").set_index(\"movieId\")\n",
    "movies_metadata"
   ]
  },
  {
   "cell_type": "code",
   "execution_count": 4,
   "metadata": {
    "ExecuteTime": {
     "end_time": "2023-11-18T19:11:46.164533300Z",
     "start_time": "2023-11-18T19:11:46.085522200Z"
    }
   },
   "outputs": [
    {
     "data": {
      "text/plain": "(8, 5)"
     },
     "execution_count": 4,
     "metadata": {},
     "output_type": "execute_result"
    }
   ],
   "source": [
    "df = pandas.read_csv(\"groups.csv\")\n",
    "df.shape"
   ]
  },
  {
   "cell_type": "code",
   "execution_count": 5,
   "metadata": {
    "ExecuteTime": {
     "end_time": "2023-11-18T19:11:46.164533300Z",
     "start_time": "2023-11-18T19:11:46.103533200Z"
    }
   },
   "outputs": [
    {
     "data": {
      "text/plain": "[[606, 274, 474, 599, 448],\n [111, 307, 474, 599, 414],\n [469, 182, 232, 448, 600],\n [508, 581, 497, 402, 566],\n [300, 515, 245, 568, 507],\n [2, 371, 252, 518, 37],\n [269, 360, 469, 287, 308],\n [243, 527, 418, 118, 370],\n [186, 559, 327, 553, 314]]"
     },
     "execution_count": 5,
     "metadata": {},
     "output_type": "execute_result"
    }
   ],
   "source": [
    "# read example user groups\n",
    "groups = pandas.read_csv(\"groups.csv\", header=None).values.tolist()\n",
    "groups"
   ]
  },
  {
   "cell_type": "code",
   "execution_count": 6,
   "metadata": {
    "scrolled": true,
    "ExecuteTime": {
     "end_time": "2023-11-18T19:11:46.188376800Z",
     "start_time": "2023-11-18T19:11:46.118533800Z"
    }
   },
   "outputs": [
    {
     "name": "stdout",
     "output_type": "stream",
     "text": [
      "\n",
      "\n",
      "User ids: [243, 527, 418, 118, 370]\n",
      "\n",
      "Mean ratings deviation: 3.1911531189839435\n",
      "Median ratings deviation: 3.286335345030997\n",
      "Standard deviation of ratings deviation: 0.9092501305874031\n",
      "\n",
      "Best movies:\n",
      "It Can't Be! (1975), 9.4*\n",
      "Nature Calls (2012), 9.4*\n",
      "Halloween III: Season of the Witch (1982), 9.4*\n",
      "Beneath the Planet of the Apes (1970), 9.4*\n",
      "Jack Whitehall: At Large (2017), 9.2*\n",
      "Laws of Attraction (2004), 9.2*\n",
      "Chasers (1994), 9.0*\n",
      "Zombieland (2009), 9.0*\n",
      "Happening, The (2008), 9.0*\n",
      "Taming of the Shrew, The (1967), 9.0*\n",
      "\n",
      "Worst movies:\n",
      "Alaska (1996), 1.6*\n",
      "Gotcha! (1985), 1.6*\n",
      "Real McCoy, The (1993), 2.0*\n",
      "Upside Down: The Creation Records Story (2010), 2.2*\n",
      "Short Term 12 (2013), 2.2*\n",
      "Sullivan's Travels (1941), 2.2*\n",
      "Resident Evil: Retribution (2012), 2.4*\n",
      "Hope Floats (1998), 2.4*\n",
      "Stray Dog (Nora inu) (1949), 2.4*\n",
      "Grand Theft Parsons (2003), 2.4*\n"
     ]
    }
   ],
   "source": [
    "# helper function\n",
    "\n",
    "\n",
    "def describe_group(group, N=10):\n",
    "    print(f\"\\n\\nUser ids: {group}\")\n",
    "    group_size = len(group)\n",
    "\n",
    "    mean_stdev = ratings.loc[group].std(axis=0).mean()\n",
    "    median_stdev = ratings.loc[group].std(axis=0).median()\n",
    "    std_stdev = ratings.loc[group].std(axis=0).std()\n",
    "    print(f\"\\nMean ratings deviation: {mean_stdev}\")\n",
    "    print(f\"Median ratings deviation: {median_stdev}\")\n",
    "    print(f\"Standard deviation of ratings deviation: {std_stdev}\")\n",
    "\n",
    "    average_scores = ratings.iloc[group].mean(axis=0)\n",
    "    average_scores = average_scores.sort_values()\n",
    "    best_movies = [\n",
    "        (movies_metadata[\"title\"][movie_id], average_scores[movie_id])\n",
    "        for movie_id in list(average_scores[-N:].index)\n",
    "    ]\n",
    "    worst_movies = [\n",
    "        (movies_metadata[\"title\"][movie_id], average_scores[movie_id])\n",
    "        for movie_id in list(average_scores[:N].index)\n",
    "    ]\n",
    "\n",
    "    print(\"\\nBest movies:\")\n",
    "    for movie, score in best_movies[::-1]:\n",
    "        print(f\"{movie}, {score}*\")\n",
    "    print(\"\\nWorst movies:\")\n",
    "    for movie, score in worst_movies:\n",
    "        print(f\"{movie}, {score}*\")\n",
    "\n",
    "\n",
    "describe_group(groups[7])"
   ]
  },
  {
   "cell_type": "markdown",
   "metadata": {},
   "source": [
    "## Part 2 - simple algorithms"
   ]
  },
  {
   "cell_type": "code",
   "execution_count": 7,
   "metadata": {
    "ExecuteTime": {
     "end_time": "2023-11-18T19:11:46.189377800Z",
     "start_time": "2023-11-18T19:11:46.133532900Z"
    }
   },
   "outputs": [],
   "source": [
    "# define an interface for all recommending algorithms\n",
    "\n",
    "\n",
    "class Recommender:\n",
    "    def recommend(self, ratings, group, size):\n",
    "        pass\n",
    "\n",
    "\n",
    "# random algorithm - baseline and comparison\n",
    "\n",
    "\n",
    "class RandomRecommender(Recommender):\n",
    "    def __init__(self):\n",
    "        self.name = \"random\"\n",
    "\n",
    "    def recommend(self, ratings, group, size):\n",
    "        return pd.Index(sample(ratings.columns.to_list(), size))"
   ]
  },
  {
   "cell_type": "code",
   "execution_count": 8,
   "metadata": {
    "ExecuteTime": {
     "end_time": "2023-11-18T19:11:46.189377800Z",
     "start_time": "2023-11-18T19:11:46.149532800Z"
    }
   },
   "outputs": [],
   "source": [
    "# recommend movies with the highest average rating\n",
    "\n",
    "\n",
    "class AverageRecommender(Recommender):\n",
    "    def __init__(self):\n",
    "        self.name = \"average\"\n",
    "\n",
    "    def recommend(self, ratings, group, size):\n",
    "        return ratings.loc[group,].mean().sort_values(ascending=False).iloc[:size].index"
   ]
  },
  {
   "cell_type": "code",
   "execution_count": 9,
   "metadata": {
    "ExecuteTime": {
     "end_time": "2023-11-18T19:11:46.241377100Z",
     "start_time": "2023-11-18T19:11:46.164533300Z"
    }
   },
   "outputs": [],
   "source": [
    "# highest average rating but without movies with at least one score below the threshold\n",
    "\n",
    "\n",
    "class AverageWithoutMiseryRecommender(Recommender):\n",
    "    def __init__(self, score_threshold):\n",
    "        self.name = \"average_without_misery\"\n",
    "        self.score_threshold = score_threshold\n",
    "\n",
    "    def recommend(self, ratings, group, size):\n",
    "        rating = ratings.loc[group,]\n",
    "        idx = rating.columns[(rating > self.score_threshold).all(axis=0)]\n",
    "        return (\n",
    "            rating.loc[:, idx]\n",
    "            .mean()\n",
    "            .sort_values(ascending=False)[: min(size, len(idx))]\n",
    "            .index\n",
    "        )"
   ]
  },
  {
   "cell_type": "code",
   "execution_count": 10,
   "metadata": {
    "ExecuteTime": {
     "end_time": "2023-11-18T19:11:46.257377100Z",
     "start_time": "2023-11-18T19:11:46.180377100Z"
    }
   },
   "outputs": [],
   "source": [
    "# preferences of only one user in every iteration\n",
    "\n",
    "\n",
    "class FairnessRecommender(Recommender):\n",
    "    def __init__(self):\n",
    "        self.name = \"fairness\"\n",
    "\n",
    "    def recommend(self, ratings, group, size):\n",
    "        preference = {\n",
    "            g: ratings.loc[g,].sort_values(ascending=False).index for g in group\n",
    "        }\n",
    "        idx = {g: 0 for g in group}\n",
    "        result = set()\n",
    "        for i in range(size):\n",
    "            g = group[i % len(group)]\n",
    "            while preference[g][idx[g]] in result:\n",
    "                idx[g] += 1\n",
    "            result.add(preference[g][idx[g]])\n",
    "        return pd.Index(result)"
   ]
  },
  {
   "cell_type": "code",
   "execution_count": 11,
   "metadata": {
    "ExecuteTime": {
     "end_time": "2023-11-18T19:11:46.312376900Z",
     "start_time": "2023-11-18T19:11:46.195376900Z"
    }
   },
   "outputs": [],
   "source": [
    "# election algorithms (dictatorship, Bord, Copeland, simple vote)\n",
    "\n",
    "\n",
    "class VotingRecommender(Recommender):\n",
    "    def __init__(self):\n",
    "        self.name = \"Bord\"\n",
    "\n",
    "    def recommend(self, ratings, group, size):\n",
    "        rating = ratings.loc[group,].copy()\n",
    "        full_range = np.arange(ratings.shape[1])\n",
    "        for g in group:\n",
    "            rating.loc[g, rating.loc[g,].sort_values().index] = full_range\n",
    "        return rating.sum(axis=0).sort_values(ascending=False).iloc[:size].index"
   ]
  },
  {
   "cell_type": "code",
   "execution_count": 12,
   "metadata": {
    "ExecuteTime": {
     "end_time": "2023-11-18T19:11:46.313376900Z",
     "start_time": "2023-11-18T19:11:46.211377300Z"
    }
   },
   "outputs": [],
   "source": [
    "# greedy algorithm, approximate Proportional Approval Voting\n",
    "# in every iteration chose the movie that improves the PAV score\n",
    "\n",
    "\n",
    "class ProportionalApprovalVotingRecommender(Recommender):\n",
    "    def __init__(self, threshold):\n",
    "        self.threshold = threshold\n",
    "        self.name = \"PAV\"\n",
    "\n",
    "    def recommend(self, ratings, group, size):\n",
    "        ratings = (ratings.loc[group,] > self.threshold).astype(\"float32\").copy()\n",
    "        result = []\n",
    "        points = np.ones(len(group)).reshape(-1, 1)\n",
    "        for _ in range(size):\n",
    "            scores = ratings / points\n",
    "            scores = scores.sum(axis=0).sort_values(ascending=False)\n",
    "            best_idx = scores.iloc[:1].index.values[0]\n",
    "            points += ratings.loc[:, best_idx].to_numpy().reshape(-1, 1)\n",
    "            result.append(best_idx)\n",
    "            ratings.loc[:, best_idx] *= 0\n",
    "        return pd.Index(result)"
   ]
  },
  {
   "cell_type": "markdown",
   "metadata": {},
   "source": []
  },
  {
   "cell_type": "code",
   "execution_count": 13,
   "metadata": {
    "ExecuteTime": {
     "end_time": "2023-11-18T19:11:46.313376900Z",
     "start_time": "2023-11-18T19:11:46.227377200Z"
    }
   },
   "outputs": [],
   "source": [
    "# 2 helper functions\n",
    "# find user's favourite movies\n",
    "# calculate the sum of ratings given by a user for all movies in a give recommendation\n",
    "\n",
    "\n",
    "def top_n_movies_for_user(ratings, user_id, n):\n",
    "    return ratings.loc[user_id,].sort_values(ascending=False)[:n].index\n",
    "\n",
    "\n",
    "def total_score(recommendation, user_id, ratings):\n",
    "    return ratings.loc[user_id, recommendation].sum()"
   ]
  },
  {
   "cell_type": "code",
   "execution_count": 14,
   "metadata": {
    "ExecuteTime": {
     "end_time": "2023-11-18T19:11:46.314376800Z",
     "start_time": "2023-11-18T19:11:46.247377500Z"
    }
   },
   "outputs": [],
   "source": [
    "# function to calculate the satisfaction score for each user\n",
    "# fraction - satisfaction from generated recommendation/satisfaction from ideal recommendation\n",
    "def overall_user_satisfaction(recommendation, user_id, ratings):\n",
    "    num = total_score(recommendation, user_id, ratings)\n",
    "    den = total_score(\n",
    "        top_n_movies_for_user(ratings, user_id, len(recommendation)), user_id, ratings\n",
    "    )\n",
    "    return num / den\n",
    "\n",
    "\n",
    "# objective function - average satisfaction for all users in a group\n",
    "def overall_group_satisfaction(recommendation, group, ratings):\n",
    "    return np.average(\n",
    "        [overall_user_satisfaction(recommendation, id, ratings) for id in group]\n",
    "    )\n",
    "\n",
    "\n",
    "# objective function - difference between the highest and lowest satisfaction score\n",
    "def group_disagreement(recommendation, group, ratings):\n",
    "    group_satisfaction = [\n",
    "        overall_user_satisfaction(recommendation, id, ratings) for id in group\n",
    "    ]\n",
    "    return np.max(group_satisfaction) - np.min(group_satisfaction)"
   ]
  },
  {
   "cell_type": "markdown",
   "metadata": {},
   "source": [
    "## Part 4 - Sequential Hybrid Aggregation"
   ]
  },
  {
   "cell_type": "code",
   "execution_count": 15,
   "metadata": {
    "ExecuteTime": {
     "end_time": "2023-11-18T19:11:46.314376800Z",
     "start_time": "2023-11-18T19:11:46.260377100Z"
    }
   },
   "outputs": [],
   "source": [
    "# Algorithm to balance between highest scored elements and highest minimal score\n",
    "# in each iteration calcuate the alpha parameter\n",
    "class SequentialHybridAggregationRecommender(Recommender):\n",
    "    def __init__(self):\n",
    "        self.name = \"sequential_hybrid_aggregation\"\n",
    "\n",
    "    def recommend(self, ratings, group, size):\n",
    "        rating = ratings.loc[group,].copy()\n",
    "        alpha = 0\n",
    "        for _ in range(10):\n",
    "            score = (1 - alpha) * rating.mean() + alpha * rating.min(axis=0)\n",
    "            recommendation = score.sort_values(ascending=False).iloc[:size].index\n",
    "            alpha = group_disagreement(recommendation, group, ratings)\n",
    "        return recommendation"
   ]
  },
  {
   "cell_type": "markdown",
   "metadata": {},
   "source": [
    "## Part 5 - Algorithm comparison"
   ]
  },
  {
   "cell_type": "code",
   "execution_count": 16,
   "metadata": {
    "scrolled": true,
    "ExecuteTime": {
     "end_time": "2023-11-18T19:11:47.711636600Z",
     "start_time": "2023-11-18T19:11:46.276376900Z"
    }
   },
   "outputs": [
    {
     "name": "stdout",
     "output_type": "stream",
     "text": [
      "random\n",
      "satisfaction\n",
      " - mean :               0.6560108604845447\n",
      " - standard deviation : 0.11157338655768212\n",
      "disagreement\n",
      " - mean :               0.1965079365079365\n",
      " - standard deviation : 0.1057295379625903\n",
      "\n",
      "average\n",
      "satisfaction\n",
      " - mean :               0.9669224450013925\n",
      " - standard deviation : 0.022207924044160627\n",
      "disagreement\n",
      " - mean :               0.06254385964912282\n",
      " - standard deviation : 0.057886430850763504\n",
      "\n",
      "average_without_misery\n",
      "satisfaction\n",
      " - mean :               0.9668430799220273\n",
      " - standard deviation : 0.022330910451695513\n",
      "disagreement\n",
      " - mean :               0.07087719298245615\n",
      " - standard deviation : 0.05702115166640759\n",
      "\n",
      "fairness\n",
      "satisfaction\n",
      " - mean :               0.7260971874129768\n",
      " - standard deviation : 0.11439173739353786\n",
      "disagreement\n",
      " - mean :               0.18808201058201057\n",
      " - standard deviation : 0.11044192539633478\n",
      "\n",
      "Bord\n",
      "satisfaction\n",
      " - mean :               0.9469387357282094\n",
      " - standard deviation : 0.030242758621731782\n",
      "disagreement\n",
      " - mean :               0.08817460317460317\n",
      " - standard deviation : 0.04339753369680103\n",
      "\n",
      "PAV\n",
      "satisfaction\n",
      " - mean :               0.8502213868003342\n",
      " - standard deviation : 0.02241237031226989\n",
      "disagreement\n",
      " - mean :               0.1237698412698413\n",
      " - standard deviation : 0.06176887813349449\n",
      "\n",
      "sequential_hybrid_aggregation\n",
      "satisfaction\n",
      " - mean :               0.9665086326928434\n",
      " - standard deviation : 0.022695778909964364\n",
      "disagreement\n",
      " - mean :               0.06367376775271513\n",
      " - standard deviation : 0.045088530023241126\n"
     ]
    }
   ],
   "source": [
    "recommenders = [\n",
    "    RandomRecommender(),\n",
    "    AverageRecommender(),\n",
    "    AverageWithoutMiseryRecommender(5),\n",
    "    FairnessRecommender(),\n",
    "    VotingRecommender(),\n",
    "    ProportionalApprovalVotingRecommender(5),\n",
    "    SequentialHybridAggregationRecommender(),\n",
    "]\n",
    "\n",
    "recommendation_size = 10\n",
    "\n",
    "# for each algorithm:\n",
    "#  - generate one recommendation for each group\n",
    "#  - calculate the value of both objective functions for each recommendation\n",
    "#  - calculate mean and standard deviation for both objective functions\n",
    "#  - print the results\n",
    "\n",
    "size = 10\n",
    "\n",
    "for recommender in recommenders:\n",
    "    print(recommender.name)\n",
    "    recomendations = [recommender.recommend(ratings, g, size) for g in groups]\n",
    "    satisfactions = [\n",
    "        overall_group_satisfaction(r, g, ratings)\n",
    "        for r, g in zip(recomendations, groups)\n",
    "    ]\n",
    "    disagreements = [\n",
    "        group_disagreement(r, g, ratings) for r, g in zip(recomendations, groups)\n",
    "    ]\n",
    "    print(\n",
    "        f\"satisfaction\\n - mean :               {np.mean(satisfactions)}\\n - standard deviation : {np.std(satisfactions)}\"\n",
    "    )\n",
    "    print(\n",
    "        f\"disagreement\\n - mean :               {np.mean(disagreements)}\\n - standard deviation : {np.std(disagreements)}\"\n",
    "    )\n",
    "    print()"
   ]
  },
  {
   "cell_type": "code",
   "execution_count": 16,
   "outputs": [],
   "source": [],
   "metadata": {
    "collapsed": false,
    "ExecuteTime": {
     "end_time": "2023-11-18T19:11:47.721636500Z",
     "start_time": "2023-11-18T19:11:47.703636300Z"
    }
   }
  }
 ],
 "metadata": {
  "kernelspec": {
   "display_name": "Python 3 (ipykernel)",
   "language": "python",
   "name": "python3"
  },
  "language_info": {
   "codemirror_mode": {
    "name": "ipython",
    "version": 3
   },
   "file_extension": ".py",
   "mimetype": "text/x-python",
   "name": "python",
   "nbconvert_exporter": "python",
   "pygments_lexer": "ipython3",
   "version": "3.10.4"
  }
 },
 "nbformat": 4,
 "nbformat_minor": 4
}
