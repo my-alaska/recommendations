{
 "cells": [
  {
   "cell_type": "markdown",
   "metadata": {},
   "source": [
    "# Lab 5 - Group Recommenders\n",
    "\n",
    "## Lab Setup\n",
    "\n",
    " * Download and extract: https://files.grouplens.org/datasets/movielens/ml-latest-small.zip\n",
    "   * Read more: https://grouplens.org/datasets/movielens/\n",
    " * [optional] Create virtual enviroment\n",
    " `python3 -m venv ./recsyslab5`\n",
    " * install needed libraries:\n",
    " `pip install numpy pandas matplotlib`"
   ]
  },
  {
   "cell_type": "markdown",
   "metadata": {},
   "source": [
    "## Part 1 - Data preparation and preprocessing"
   ]
  },
  {
   "cell_type": "code",
   "execution_count": 1,
   "metadata": {
    "ExecuteTime": {
     "end_time": "2023-11-17T15:16:01.217582200Z",
     "start_time": "2023-11-17T15:16:00.411941400Z"
    }
   },
   "outputs": [],
   "source": [
    "# import needed packages\n",
    "\n",
    "import math\n",
    "import numpy as np\n",
    "import pandas\n",
    "\n",
    "from random import choice, sample\n",
    "from statistics import mean, stdev\n",
    "\n",
    "from reco_utils import *"
   ]
  },
  {
   "cell_type": "code",
   "execution_count": 2,
   "metadata": {
    "scrolled": true,
    "ExecuteTime": {
     "end_time": "2023-11-17T15:16:16.397511400Z",
     "start_time": "2023-11-17T15:16:01.217582200Z"
    }
   },
   "outputs": [
    {
     "name": "stdout",
     "output_type": "stream",
     "text": [
      "Total error: 206753.5768846482\n",
      "Total error: 200426.5449988558\n",
      "Total error: 194542.36289956825\n",
      "Total error: 189055.95861007823\n",
      "Total error: 183927.98457668154\n",
      "Total error: 179123.96546457818\n",
      "Total error: 174613.591590174\n",
      "Total error: 170370.12967927157\n",
      "Total error: 166369.92882904835\n",
      "Total error: 162592.00424313766\n",
      "Total error: 159017.68489771418\n",
      "Total error: 155630.31406491317\n",
      "Total error: 152414.99377303995\n",
      "Total error: 149358.36597050272\n",
      "Total error: 146448.42449276592\n",
      "Total error: 143674.3529908809\n",
      "Total error: 141026.3848279612\n",
      "Total error: 138495.6816327906\n",
      "Total error: 136074.22775299044\n",
      "Total error: 133754.73830094835\n",
      "Total error: 131530.57885496898\n",
      "Total error: 129395.695182089\n",
      "Total error: 127344.55160045293\n",
      "Total error: 125372.07680803278\n",
      "Total error: 123473.61617876054\n",
      "Total error: 121644.88967308539\n",
      "Total error: 119881.95463265023\n",
      "Total error: 118181.17283224627\n",
      "Total error: 116539.18124973624\n",
      "Total error: 114952.86608892484\n",
      "Total error: 113419.33965355462\n",
      "Total error: 111935.91972453646\n",
      "Total error: 110500.11113864067\n",
      "Total error: 109109.58930639656\n",
      "Total error: 107762.18544092448\n",
      "Total error: 106455.873298633\n",
      "Total error: 105188.75725794262\n",
      "Total error: 103959.06158396199\n",
      "Total error: 102765.12074590984\n",
      "Total error: 101605.37067040353\n",
      "Total error: 100478.34082794015\n",
      "Total error: 99382.64706222777\n",
      "Total error: 98316.98508277943\n",
      "Total error: 97280.12455055345\n",
      "Total error: 96270.90369461026\n",
      "Total error: 95288.22440491979\n",
      "Total error: 94331.04775271942\n",
      "Total error: 93398.38989532397\n",
      "Total error: 92489.3183271085\n",
      "Total error: 91602.94844263748\n",
      "Total error: 90738.44038163562\n",
      "Total error: 89894.99612879271\n",
      "Total error: 89071.856844295\n",
      "Total error: 88268.30040353652\n",
      "Total error: 87483.63912672961\n",
      "Total error: 86717.21768114438\n",
      "Total error: 85968.41114047727\n",
      "Total error: 85236.62318743557\n",
      "Total error: 84521.2844470146\n",
      "Total error: 83821.85093920304\n",
      "Total error: 83137.80264094924\n",
      "Total error: 82468.64214822126\n",
      "Total error: 81813.89342986578\n",
      "Total error: 81173.10066576785\n",
      "Total error: 80545.82716251367\n",
      "Total error: 79931.65434039073\n",
      "Total error: 79330.18078612795\n",
      "Total error: 78741.02136628349\n",
      "Total error: 78163.8063966441\n",
      "Total error: 77598.18086341675\n",
      "Total error: 77043.80369235143\n",
      "Total error: 76500.34706227978\n",
      "Total error: 75967.4957598448\n",
      "Total error: 75444.94657247644\n",
      "Total error: 74932.40771690656\n",
      "Total error: 74429.59830074705\n",
      "Total error: 73936.24781484944\n",
      "Total error: 73452.09565435213\n",
      "Total error: 72976.89066648776\n",
      "Total error: 72510.39072336977\n",
      "Total error: 72052.36231812321\n",
      "Total error: 71602.58018284113\n",
      "Total error: 71160.8269269713\n",
      "Total error: 70726.89269483542\n",
      "Total error: 70300.57484108508\n",
      "Total error: 69881.67762297965\n",
      "Total error: 69470.01190845868\n",
      "Total error: 69065.394899049\n",
      "Total error: 68667.64986671833\n",
      "Total error: 68276.60590384726\n",
      "Total error: 67892.09768554957\n",
      "Total error: 67513.96524362214\n",
      "Total error: 67142.05375145741\n",
      "Total error: 66776.21331929154\n",
      "Total error: 66416.2987992062\n",
      "Total error: 66062.1695993395\n",
      "Total error: 65713.68950679518\n",
      "Total error: 65370.726518774\n",
      "Total error: 65033.15268147967\n",
      "Total error: 64700.8439363822\n",
      "Total error: 64373.67997344416\n",
      "Total error: 64051.54409094293\n",
      "Total error: 63734.32306154284\n",
      "Total error: 63421.90700429028\n",
      "Total error: 63114.189262229935\n",
      "Total error: 62811.06628535157\n",
      "Total error: 62512.43751859802\n",
      "Total error: 62218.20529467973\n",
      "Total error: 61928.27473145648\n",
      "Total error: 61642.55363365849\n",
      "Total error: 61360.95239873514\n",
      "Total error: 61083.383926629314\n",
      "Total error: 60809.763533286954\n",
      "Total error: 60540.008867723176\n",
      "Total error: 60274.03983247385\n",
      "Total error: 60011.77850727454\n",
      "Total error: 59753.14907581255\n",
      "Total error: 59498.077755409584\n",
      "Total error: 59246.49272950048\n",
      "Total error: 58998.324082776286\n",
      "Total error: 58753.503738872394\n",
      "Total error: 58511.96540048519\n",
      "Total error: 58273.64449180726\n",
      "Total error: 58038.47810317749\n",
      "Total error: 57806.40493784742\n",
      "Total error: 57577.3652607707\n",
      "Total error: 57351.3008493249\n",
      "Total error: 57128.15494588415\n",
      "Total error: 56907.87221215896\n",
      "Total error: 56690.39868522982\n",
      "Total error: 56475.681735199796\n",
      "Total error: 56263.67002439829\n",
      "Total error: 56054.31346807062\n",
      "Total error: 55847.56319648865\n",
      "Total error: 55643.371518426036\n",
      "Total error: 55441.69188593887\n",
      "Total error: 55242.4788603988\n",
      "Total error: 55045.68807972689\n",
      "Total error: 54851.27622677951\n",
      "Total error: 54659.20099883832\n",
      "Total error: 54469.42107816103\n",
      "Total error: 54281.896103549145\n",
      "Total error: 54096.58664289349\n",
      "Total error: 53913.45416665639\n",
      "Total error: 53732.4610222563\n",
      "Total error: 53553.57040931691\n",
      "Total error: 53376.74635574803\n",
      "Total error: 53201.95369462664\n",
      "Total error: 53029.15804184502\n",
      "Total error: 52858.325774499244\n",
      "Total error: 52689.42400998703\n",
      "Total error: 52522.420585789965\n",
      "Total error: 52357.28403991282\n",
      "Total error: 52193.98359195636\n",
      "Total error: 52032.48912479864\n",
      "Total error: 51872.771166863815\n",
      "Total error: 51714.80087495446\n",
      "Total error: 51558.550017628855\n",
      "Total error: 51403.990959101706\n",
      "Total error: 51251.09664364963\n",
      "Total error: 51099.84058050376\n",
      "Total error: 50950.19682921056\n",
      "Total error: 50802.139985445\n",
      "Total error: 50655.64516725966\n",
      "Total error: 50510.68800175396\n",
      "Total error: 50367.24461214956\n",
      "Total error: 50225.29160525582\n",
      "Total error: 50084.8060593133\n",
      "Total error: 49945.76551220255\n",
      "Total error: 49808.147950002094\n",
      "Total error: 49671.93179588855\n",
      "Total error: 49537.09589936277\n",
      "Total error: 49403.61952579352\n",
      "Total error: 49271.48234626597\n",
      "Total error: 49140.664427726966\n",
      "Total error: 49011.14622341422\n",
      "Total error: 48882.90856356285\n",
      "Total error: 48755.93264637737\n",
      "Total error: 48630.200029262145\n",
      "Total error: 48505.69262030096\n",
      "Total error: 48382.392669977016\n",
      "Total error: 48260.28276312732\n",
      "Total error: 48139.34581112082\n",
      "Total error: 48019.56504425641\n",
      "Total error: 47900.924004371016\n",
      "Total error: 47783.406537652176\n",
      "Total error: 47666.99678764824\n",
      "Total error: 47551.67918847057\n",
      "Total error: 47437.438458180644\n",
      "Total error: 47324.25959235621\n",
      "Total error: 47212.12785783263\n",
      "Total error: 47101.028786610645\n",
      "Total error: 46990.948169929354\n",
      "Total error: 46881.872052495295\n",
      "Total error: 46773.7867268666\n",
      "Total error: 46666.67872798369\n",
      "Total error: 46560.53482784545\n",
      "Total error: 46455.34203032355\n",
      "Total error: 46351.08756611341\n",
      "Total error: 46247.758887814976\n",
      "Total error: 46145.34366514155\n",
      "Total error: 46043.82978025145\n",
      "Total error: 45943.20532320027\n",
      "Total error: 45843.45858750776\n"
     ]
    },
    {
     "data": {
      "text/plain": "     1       2       3       4       5       6       7       8       9       \\\n1         6       7       8       4       3       8       5       6       9   \n2         6       4       1       5       3       0      10       2       0   \n3         6       4       9       0       0      10       3       4       4   \n4         5       5       3       6       9       7       6      10       8   \n5         5      10      10       3       6       9       4      10       0   \n..      ...     ...     ...     ...     ...     ...     ...     ...     ...   \n606       6       6       6       6       6       6       6       6       6   \n607       7       8       2       9       4       7       5       4       3   \n608       6       6       6       6       6       6       7       5       6   \n609       3       0      10       0       7      10      10       7      10   \n610       6       6       6       6       6       6       6       6       6   \n\n     10      ...  193565  193567  193571  193573  193579  193581  193583  \\\n1         5  ...       4       6      10       6       6       7       5   \n2         4  ...      10      10       0       7      10       2       5   \n3         0  ...       8       1       9       8       6      10      10   \n4         8  ...       6       9       7       0       7       9      10   \n5         8  ...      10       9       3       6       0      10      10   \n..      ...  ...     ...     ...     ...     ...     ...     ...     ...   \n606       6  ...       6       6       7       6       6       6       6   \n607       8  ...       3       4       6      10       0      10       2   \n608       7  ...       5       7       6       7       6       5       5   \n609       4  ...       0      10      10       0      10       0       6   \n610       6  ...       6       6       6       6       7       6       6   \n\n     193585  193587  193609  \n1         5       6       4  \n2         9       3       9  \n3         4       5       6  \n4         8       9       6  \n5         7       3       5  \n..      ...     ...     ...  \n606       6       7       6  \n607       6       7      10  \n608       6       6       6  \n609       2       0      10  \n610       6       6       6  \n\n[610 rows x 9724 columns]",
      "text/html": "<div>\n<style scoped>\n    .dataframe tbody tr th:only-of-type {\n        vertical-align: middle;\n    }\n\n    .dataframe tbody tr th {\n        vertical-align: top;\n    }\n\n    .dataframe thead th {\n        text-align: right;\n    }\n</style>\n<table border=\"1\" class=\"dataframe\">\n  <thead>\n    <tr style=\"text-align: right;\">\n      <th></th>\n      <th>1</th>\n      <th>2</th>\n      <th>3</th>\n      <th>4</th>\n      <th>5</th>\n      <th>6</th>\n      <th>7</th>\n      <th>8</th>\n      <th>9</th>\n      <th>10</th>\n      <th>...</th>\n      <th>193565</th>\n      <th>193567</th>\n      <th>193571</th>\n      <th>193573</th>\n      <th>193579</th>\n      <th>193581</th>\n      <th>193583</th>\n      <th>193585</th>\n      <th>193587</th>\n      <th>193609</th>\n    </tr>\n  </thead>\n  <tbody>\n    <tr>\n      <th>1</th>\n      <td>6</td>\n      <td>7</td>\n      <td>8</td>\n      <td>4</td>\n      <td>3</td>\n      <td>8</td>\n      <td>5</td>\n      <td>6</td>\n      <td>9</td>\n      <td>5</td>\n      <td>...</td>\n      <td>4</td>\n      <td>6</td>\n      <td>10</td>\n      <td>6</td>\n      <td>6</td>\n      <td>7</td>\n      <td>5</td>\n      <td>5</td>\n      <td>6</td>\n      <td>4</td>\n    </tr>\n    <tr>\n      <th>2</th>\n      <td>6</td>\n      <td>4</td>\n      <td>1</td>\n      <td>5</td>\n      <td>3</td>\n      <td>0</td>\n      <td>10</td>\n      <td>2</td>\n      <td>0</td>\n      <td>4</td>\n      <td>...</td>\n      <td>10</td>\n      <td>10</td>\n      <td>0</td>\n      <td>7</td>\n      <td>10</td>\n      <td>2</td>\n      <td>5</td>\n      <td>9</td>\n      <td>3</td>\n      <td>9</td>\n    </tr>\n    <tr>\n      <th>3</th>\n      <td>6</td>\n      <td>4</td>\n      <td>9</td>\n      <td>0</td>\n      <td>0</td>\n      <td>10</td>\n      <td>3</td>\n      <td>4</td>\n      <td>4</td>\n      <td>0</td>\n      <td>...</td>\n      <td>8</td>\n      <td>1</td>\n      <td>9</td>\n      <td>8</td>\n      <td>6</td>\n      <td>10</td>\n      <td>10</td>\n      <td>4</td>\n      <td>5</td>\n      <td>6</td>\n    </tr>\n    <tr>\n      <th>4</th>\n      <td>5</td>\n      <td>5</td>\n      <td>3</td>\n      <td>6</td>\n      <td>9</td>\n      <td>7</td>\n      <td>6</td>\n      <td>10</td>\n      <td>8</td>\n      <td>8</td>\n      <td>...</td>\n      <td>6</td>\n      <td>9</td>\n      <td>7</td>\n      <td>0</td>\n      <td>7</td>\n      <td>9</td>\n      <td>10</td>\n      <td>8</td>\n      <td>9</td>\n      <td>6</td>\n    </tr>\n    <tr>\n      <th>5</th>\n      <td>5</td>\n      <td>10</td>\n      <td>10</td>\n      <td>3</td>\n      <td>6</td>\n      <td>9</td>\n      <td>4</td>\n      <td>10</td>\n      <td>0</td>\n      <td>8</td>\n      <td>...</td>\n      <td>10</td>\n      <td>9</td>\n      <td>3</td>\n      <td>6</td>\n      <td>0</td>\n      <td>10</td>\n      <td>10</td>\n      <td>7</td>\n      <td>3</td>\n      <td>5</td>\n    </tr>\n    <tr>\n      <th>...</th>\n      <td>...</td>\n      <td>...</td>\n      <td>...</td>\n      <td>...</td>\n      <td>...</td>\n      <td>...</td>\n      <td>...</td>\n      <td>...</td>\n      <td>...</td>\n      <td>...</td>\n      <td>...</td>\n      <td>...</td>\n      <td>...</td>\n      <td>...</td>\n      <td>...</td>\n      <td>...</td>\n      <td>...</td>\n      <td>...</td>\n      <td>...</td>\n      <td>...</td>\n      <td>...</td>\n    </tr>\n    <tr>\n      <th>606</th>\n      <td>6</td>\n      <td>6</td>\n      <td>6</td>\n      <td>6</td>\n      <td>6</td>\n      <td>6</td>\n      <td>6</td>\n      <td>6</td>\n      <td>6</td>\n      <td>6</td>\n      <td>...</td>\n      <td>6</td>\n      <td>6</td>\n      <td>7</td>\n      <td>6</td>\n      <td>6</td>\n      <td>6</td>\n      <td>6</td>\n      <td>6</td>\n      <td>7</td>\n      <td>6</td>\n    </tr>\n    <tr>\n      <th>607</th>\n      <td>7</td>\n      <td>8</td>\n      <td>2</td>\n      <td>9</td>\n      <td>4</td>\n      <td>7</td>\n      <td>5</td>\n      <td>4</td>\n      <td>3</td>\n      <td>8</td>\n      <td>...</td>\n      <td>3</td>\n      <td>4</td>\n      <td>6</td>\n      <td>10</td>\n      <td>0</td>\n      <td>10</td>\n      <td>2</td>\n      <td>6</td>\n      <td>7</td>\n      <td>10</td>\n    </tr>\n    <tr>\n      <th>608</th>\n      <td>6</td>\n      <td>6</td>\n      <td>6</td>\n      <td>6</td>\n      <td>6</td>\n      <td>6</td>\n      <td>7</td>\n      <td>5</td>\n      <td>6</td>\n      <td>7</td>\n      <td>...</td>\n      <td>5</td>\n      <td>7</td>\n      <td>6</td>\n      <td>7</td>\n      <td>6</td>\n      <td>5</td>\n      <td>5</td>\n      <td>6</td>\n      <td>6</td>\n      <td>6</td>\n    </tr>\n    <tr>\n      <th>609</th>\n      <td>3</td>\n      <td>0</td>\n      <td>10</td>\n      <td>0</td>\n      <td>7</td>\n      <td>10</td>\n      <td>10</td>\n      <td>7</td>\n      <td>10</td>\n      <td>4</td>\n      <td>...</td>\n      <td>0</td>\n      <td>10</td>\n      <td>10</td>\n      <td>0</td>\n      <td>10</td>\n      <td>0</td>\n      <td>6</td>\n      <td>2</td>\n      <td>0</td>\n      <td>10</td>\n    </tr>\n    <tr>\n      <th>610</th>\n      <td>6</td>\n      <td>6</td>\n      <td>6</td>\n      <td>6</td>\n      <td>6</td>\n      <td>6</td>\n      <td>6</td>\n      <td>6</td>\n      <td>6</td>\n      <td>6</td>\n      <td>...</td>\n      <td>6</td>\n      <td>6</td>\n      <td>6</td>\n      <td>6</td>\n      <td>7</td>\n      <td>6</td>\n      <td>6</td>\n      <td>6</td>\n      <td>6</td>\n      <td>6</td>\n    </tr>\n  </tbody>\n</table>\n<p>610 rows × 9724 columns</p>\n</div>"
     },
     "execution_count": 2,
     "metadata": {},
     "output_type": "execute_result"
    }
   ],
   "source": [
    "# read user ratings and calculate expected movie ratings with collaborative filtering\n",
    "\n",
    "raw_ratings = pandas.read_csv('ml-latest-small/ratings.csv').drop(columns=['timestamp'])\n",
    "movies = list(raw_ratings['movieId'].unique())\n",
    "users = list(raw_ratings['userId'].unique())\n",
    "ratings = get_predicted_ratings(raw_ratings)\n",
    "ratings"
   ]
  },
  {
   "cell_type": "code",
   "execution_count": 3,
   "metadata": {
    "ExecuteTime": {
     "end_time": "2023-11-17T15:16:16.423424600Z",
     "start_time": "2023-11-17T15:16:16.382561300Z"
    }
   },
   "outputs": [
    {
     "data": {
      "text/plain": "                                             title  \\\nmovieId                                              \n1                                 Toy Story (1995)   \n2                                   Jumanji (1995)   \n3                          Grumpier Old Men (1995)   \n4                         Waiting to Exhale (1995)   \n5               Father of the Bride Part II (1995)   \n...                                            ...   \n193581   Black Butler: Book of the Atlantic (2017)   \n193583                No Game No Life: Zero (2017)   \n193585                                Flint (2017)   \n193587         Bungo Stray Dogs: Dead Apple (2018)   \n193609         Andrew Dice Clay: Dice Rules (1991)   \n\n                                              genres  \nmovieId                                               \n1        Adventure|Animation|Children|Comedy|Fantasy  \n2                         Adventure|Children|Fantasy  \n3                                     Comedy|Romance  \n4                               Comedy|Drama|Romance  \n5                                             Comedy  \n...                                              ...  \n193581               Action|Animation|Comedy|Fantasy  \n193583                      Animation|Comedy|Fantasy  \n193585                                         Drama  \n193587                              Action|Animation  \n193609                                        Comedy  \n\n[9742 rows x 2 columns]",
      "text/html": "<div>\n<style scoped>\n    .dataframe tbody tr th:only-of-type {\n        vertical-align: middle;\n    }\n\n    .dataframe tbody tr th {\n        vertical-align: top;\n    }\n\n    .dataframe thead th {\n        text-align: right;\n    }\n</style>\n<table border=\"1\" class=\"dataframe\">\n  <thead>\n    <tr style=\"text-align: right;\">\n      <th></th>\n      <th>title</th>\n      <th>genres</th>\n    </tr>\n    <tr>\n      <th>movieId</th>\n      <th></th>\n      <th></th>\n    </tr>\n  </thead>\n  <tbody>\n    <tr>\n      <th>1</th>\n      <td>Toy Story (1995)</td>\n      <td>Adventure|Animation|Children|Comedy|Fantasy</td>\n    </tr>\n    <tr>\n      <th>2</th>\n      <td>Jumanji (1995)</td>\n      <td>Adventure|Children|Fantasy</td>\n    </tr>\n    <tr>\n      <th>3</th>\n      <td>Grumpier Old Men (1995)</td>\n      <td>Comedy|Romance</td>\n    </tr>\n    <tr>\n      <th>4</th>\n      <td>Waiting to Exhale (1995)</td>\n      <td>Comedy|Drama|Romance</td>\n    </tr>\n    <tr>\n      <th>5</th>\n      <td>Father of the Bride Part II (1995)</td>\n      <td>Comedy</td>\n    </tr>\n    <tr>\n      <th>...</th>\n      <td>...</td>\n      <td>...</td>\n    </tr>\n    <tr>\n      <th>193581</th>\n      <td>Black Butler: Book of the Atlantic (2017)</td>\n      <td>Action|Animation|Comedy|Fantasy</td>\n    </tr>\n    <tr>\n      <th>193583</th>\n      <td>No Game No Life: Zero (2017)</td>\n      <td>Animation|Comedy|Fantasy</td>\n    </tr>\n    <tr>\n      <th>193585</th>\n      <td>Flint (2017)</td>\n      <td>Drama</td>\n    </tr>\n    <tr>\n      <th>193587</th>\n      <td>Bungo Stray Dogs: Dead Apple (2018)</td>\n      <td>Action|Animation</td>\n    </tr>\n    <tr>\n      <th>193609</th>\n      <td>Andrew Dice Clay: Dice Rules (1991)</td>\n      <td>Comedy</td>\n    </tr>\n  </tbody>\n</table>\n<p>9742 rows × 2 columns</p>\n</div>"
     },
     "execution_count": 3,
     "metadata": {},
     "output_type": "execute_result"
    }
   ],
   "source": [
    "# read movie categories\n",
    "\n",
    "movies_metadata = pandas.read_csv('ml-latest-small/movies.csv').set_index('movieId')\n",
    "movies_metadata"
   ]
  },
  {
   "cell_type": "code",
   "execution_count": 4,
   "metadata": {
    "ExecuteTime": {
     "end_time": "2023-11-17T15:16:16.474322900Z",
     "start_time": "2023-11-17T15:16:16.413458400Z"
    }
   },
   "outputs": [
    {
     "data": {
      "text/plain": "(8, 5)"
     },
     "execution_count": 4,
     "metadata": {},
     "output_type": "execute_result"
    }
   ],
   "source": [
    "df = pandas.read_csv('groups.csv')\n",
    "df.shape"
   ]
  },
  {
   "cell_type": "code",
   "execution_count": 5,
   "metadata": {
    "ExecuteTime": {
     "end_time": "2023-11-17T15:16:16.569996400Z",
     "start_time": "2023-11-17T15:16:16.428408Z"
    }
   },
   "outputs": [
    {
     "data": {
      "text/plain": "[[606, 274, 474, 599, 448],\n [111, 307, 474, 599, 414],\n [469, 182, 232, 448, 600],\n [508, 581, 497, 402, 566],\n [300, 515, 245, 568, 507],\n [2, 371, 252, 518, 37],\n [269, 360, 469, 287, 308],\n [243, 527, 418, 118, 370],\n [186, 559, 327, 553, 314]]"
     },
     "execution_count": 5,
     "metadata": {},
     "output_type": "execute_result"
    }
   ],
   "source": [
    "# read example user groups\n",
    "groups = pandas.read_csv('groups.csv',header=None).values.tolist()\n",
    "groups"
   ]
  },
  {
   "cell_type": "code",
   "execution_count": 6,
   "metadata": {
    "scrolled": true,
    "ExecuteTime": {
     "end_time": "2023-11-17T15:16:16.590926700Z",
     "start_time": "2023-11-17T15:16:16.446348500Z"
    }
   },
   "outputs": [
    {
     "name": "stdout",
     "output_type": "stream",
     "text": [
      "\n",
      "\n",
      "User ids: [243, 527, 418, 118, 370]\n",
      "\n",
      "Mean ratings deviation: 3.139796671117475\n",
      "Median ratings deviation: 3.1937438845342627\n",
      "Standard deviation of ratings deviation: 0.890420398263921\n",
      "\n",
      "Best movies:\n",
      "Fathers' Day (1997), 9.6*\n",
      "National Security (2003), 9.6*\n",
      "Conformist, The (Conformista, Il) (1970), 9.6*\n",
      "Three O'Clock High (1987), 9.6*\n",
      "Divided We Fall (Musíme si pomáhat) (2000), 9.4*\n",
      "Modern Problems (1981), 9.4*\n",
      "King and I, The (1956), 9.4*\n",
      "Runaway Bride (1999), 9.4*\n",
      "Eden Lake (2008), 9.4*\n",
      "Benny & Joon (1993), 9.4*\n",
      "\n",
      "Worst movies:\n",
      "Rocky IV (1985), 0.8*\n",
      "Hyde Park on Hudson (2012), 1.0*\n",
      "Sorority Babes in the Slimeball Bowl-O-Rama (1988), 1.2*\n",
      "Last Stand, The (2013), 1.2*\n",
      "Big Green, The (1995), 1.2*\n",
      "Romy and Michele's High School Reunion (1997), 1.2*\n",
      "Vegas Vacation (National Lampoon's Las Vegas Vacation) (1997), 1.2*\n",
      "Jesus of Montreal (Jésus de Montréal) (1989), 1.2*\n",
      "Into the Blue (2005), 1.4*\n",
      "Freezer (2014), 1.4*\n"
     ]
    }
   ],
   "source": [
    "# helper function\n",
    "\n",
    "def describe_group(group, N=10):\n",
    "    print(f'\\n\\nUser ids: {group}')\n",
    "    group_size = len(group)\n",
    "    \n",
    "    mean_stdev = ratings.loc[group].std(axis=0).mean()\n",
    "    median_stdev = ratings.loc[group].std(axis=0).median()\n",
    "    std_stdev = ratings.loc[group].std(axis=0).std()\n",
    "    print(f'\\nMean ratings deviation: {mean_stdev}')\n",
    "    print(f'Median ratings deviation: {median_stdev}')\n",
    "    print(f'Standard deviation of ratings deviation: {std_stdev}')\n",
    "    \n",
    "    average_scores = ratings.iloc[group].mean(axis=0)\n",
    "    average_scores = average_scores.sort_values()\n",
    "    best_movies = [(movies_metadata['title'][movie_id], average_scores[movie_id]) for movie_id in list(average_scores[-N:].index)]\n",
    "    worst_movies = [(movies_metadata['title'][movie_id], average_scores[movie_id]) for movie_id in list(average_scores[:N].index)]\n",
    "    \n",
    "    print('\\nBest movies:')\n",
    "    for movie, score in best_movies[::-1]:\n",
    "        print(f'{movie}, {score}*')\n",
    "    print('\\nWorst movies:')\n",
    "    for movie, score in worst_movies:\n",
    "        print(f'{movie}, {score}*')\n",
    "\n",
    "describe_group(groups[7])"
   ]
  },
  {
   "cell_type": "markdown",
   "metadata": {},
   "source": [
    "## Part 2 - simple algorithms"
   ]
  },
  {
   "cell_type": "code",
   "execution_count": 7,
   "metadata": {
    "ExecuteTime": {
     "end_time": "2023-11-17T15:16:16.591923Z",
     "start_time": "2023-11-17T15:16:16.459305100Z"
    }
   },
   "outputs": [],
   "source": [
    "# define an interface for all recommending algorithms\n",
    "\n",
    "class Recommender:\n",
    "    def recommend(self, movies, ratings, group, size):\n",
    "        pass\n",
    "\n",
    "# random algorithm - baseline and comparison\n",
    "    \n",
    "class RandomRecommender(Recommender):\n",
    "    def __init__(self):\n",
    "        self.name = 'random'\n",
    "        \n",
    "    def recommend(self, movies, ratings, group, size):\n",
    "        return sample(movies, size)"
   ]
  },
  {
   "cell_type": "code",
   "execution_count": 8,
   "metadata": {
    "ExecuteTime": {
     "end_time": "2023-11-17T15:16:16.591923Z",
     "start_time": "2023-11-17T15:16:16.476361300Z"
    }
   },
   "outputs": [],
   "source": [
    "# recommend movies with the highest average rating\n",
    "\n",
    "class AverageRecommender(Recommender):\n",
    "    def __init__(self):\n",
    "        self.name = 'average'\n",
    "    \n",
    "    def recommend(self, movies, ratings, group, size):\n",
    "        return ratings.loc[group,].mean().sort_values(ascending=False)[:size].index   "
   ]
  },
  {
   "cell_type": "code",
   "execution_count": 64,
   "metadata": {},
   "outputs": [],
   "source": [
    "# highest average rating but without movies with at least one score below the threshold\n",
    "\n",
    "class AverageWithoutMiseryRecommender(Recommender):\n",
    "    def __init__(self, score_threshold):\n",
    "        self.name = 'average_without_misery'\n",
    "        self.score_threshold = score_threshold\n",
    "        \n",
    "    def recommend(self, movies, ratings, group, size):\n",
    "        rating = ratings.loc[group,]\n",
    "        idx = rating.columns[(rating<self.score_threshold).any(axis=0)]\n",
    "        return rating.loc[:,idx].mean().sort_values(ascending=False)[:min(size,len(idx))].index"
   ]
  },
  {
   "cell_type": "code",
   "execution_count": null,
   "metadata": {},
   "outputs": [],
   "source": [
    "# preferences of only one user in every iteration\n",
    "\n",
    "class FairnessRecommender(Recommender):\n",
    "    def __init__(self):\n",
    "        self.name = 'fairness'\n",
    "    \n",
    "    def recommend(self, movies, ratings, group, size):\n",
    "        preference = {g : ratings.loc[g,].sort_values(ascending=False).index for g in group}\n",
    "        idx = {g : 0 for g in group}\n",
    "        result = set()\n",
    "        for i in range(size):\n",
    "            g = groups[i%size]\n",
    "            while preference[g][idx[g]] in result:\n",
    "                idx[g]+=1\n",
    "            result += preference[g][idx[g]]\n",
    "        return list(result)"
   ]
  },
  {
   "cell_type": "code",
   "execution_count": null,
   "metadata": {},
   "outputs": [],
   "source": [
    "# election algorithms (dictatorship, Bord, Copeland, simple vote)\n",
    "\n",
    "class VotingRecommender(Recommender):\n",
    "    def __init__(self):\n",
    "        self.name = \"Bord\"\n",
    "    \n",
    "    def recommend(self, movies, ratings, group, size):\n",
    "        rating = ratings.loc[group,]\n",
    "        full_range = np.arange(ratings.shape[1])\n",
    "        for g in group:\n",
    "            rating.loc[g,rating.loc[g,].sort_values().index] = full_range\n",
    "        return rating.sum(axis=0).sort_values(ascending=False)[:size].index"
   ]
  },
  {
   "cell_type": "code",
   "execution_count": null,
   "metadata": {},
   "outputs": [],
   "source": [
    "# greedy algorithm, approximate Proportional Approval Voting\n",
    "#in every iteration chose the movie that improves the PAV score\n",
    "\n",
    "class ProportionalApprovalVotingRecommender(Recommender):\n",
    "    def __init__(self, threshold):\n",
    "        self.threshold = threshold\n",
    "        self.name = 'PAV'\n",
    "        \n",
    "    def recommend(self, movies, ratings, group, size):\n",
    "        raise NotImplementedError()"
   ]
  },
  {
   "cell_type": "markdown",
   "metadata": {},
   "source": [
    "## Part 3 - Objective function"
   ]
  },
  {
   "cell_type": "code",
   "execution_count": null,
   "metadata": {},
   "outputs": [],
   "source": [
    "# 2 helper functions\n",
    "# find user's favourite movies\n",
    "# calculate the sum of ratings given by a user for all movies in a give recommendation\n",
    "\n",
    "def top_n_movies_for_user(ratings, movies, user_id, n):\n",
    "    raise NotImplementedError()\n",
    "\n",
    "def total_score(recommendation, user_id, ratings):\n",
    "    raise NotImplementedError()"
   ]
  },
  {
   "cell_type": "code",
   "execution_count": null,
   "metadata": {},
   "outputs": [],
   "source": [
    "# function to calculate the satisfaction score for each user\n",
    "# fraction - satisfaction from generated recommendation/satisfaction from ideal recommendation\n",
    "def overall_user_satisfaction(recommendation, user_id, movies, ratings):\n",
    "    raise NotImplementedError()\n",
    "\n",
    "# objective function - average satisfaction for all users in a group\n",
    "def overall_group_satisfaction(recommendation, group, movies, ratings):\n",
    "    raise NotImplementedError()\n",
    "\n",
    "# objective function - difference between the highest and lowest satisfaction score\n",
    "def group_disagreement(recommendation, group, movies, ratings):\n",
    "    raise NotImplementedError()"
   ]
  },
  {
   "cell_type": "markdown",
   "metadata": {},
   "source": [
    "## Part 4 - Sequential Hybrid Aggregation"
   ]
  },
  {
   "cell_type": "code",
   "execution_count": null,
   "metadata": {},
   "outputs": [],
   "source": [
    "# Algorithm to balance between highest scored elements and highest minimal score\n",
    "# in each iteration calcuate the alpha parameter\n",
    "class SequentialHybridAggregationRecommender(Recommender):\n",
    "    def __init__(self):\n",
    "        self.name = 'sequential_hybrid_aggregation'\n",
    "    \n",
    "    def recommend(self, movies, ratings, group, size):\n",
    "        raise NotImplementedError()"
   ]
  },
  {
   "cell_type": "markdown",
   "metadata": {},
   "source": [
    "## Part 5 - Algorithm comparison"
   ]
  },
  {
   "cell_type": "code",
   "execution_count": null,
   "metadata": {
    "scrolled": true
   },
   "outputs": [],
   "source": [
    "recommenders = [\n",
    "    RandomRecommender(),\n",
    "    AverageRecommender(),\n",
    "    AverageWithoutMiseryRecommender(5),\n",
    "    FairnessRecommender(),\n",
    "    VotingRecommender(),\n",
    "    ProportionalApprovalVotingRecommender(5),\n",
    "    SequentialHybridAggregationRecommender()\n",
    "]\n",
    "\n",
    "recommendation_size = 10\n",
    "\n",
    "# for each algorithm:\n",
    "#  - generate one recommendation for each group\n",
    "#  - calculatevalue of both objective functions for each recommendation\n",
    "#  - calculate mean and standard deviation for both objective functions\n",
    "#  - print the results\n",
    "\n",
    "\n",
    "for recommender in recommenders:\n",
    "    raise NotImplementedError()"
   ]
  }
 ],
 "metadata": {
  "kernelspec": {
   "display_name": "Python 3 (ipykernel)",
   "language": "python",
   "name": "python3"
  },
  "language_info": {
   "codemirror_mode": {
    "name": "ipython",
    "version": 3
   },
   "file_extension": ".py",
   "mimetype": "text/x-python",
   "name": "python",
   "nbconvert_exporter": "python",
   "pygments_lexer": "ipython3",
   "version": "3.10.4"
  }
 },
 "nbformat": 4,
 "nbformat_minor": 4
}
