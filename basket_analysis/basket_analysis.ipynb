{
 "cells": [
  {
   "cell_type": "markdown",
   "metadata": {},
   "source": [
    "# Lab  1 - basket analysis\n",
    "\n",
    "## Lab preparation\n",
    "\n",
    " * Download and extract: https://kaggle.com/datasets/rashikrahmanpritom/groceries-dataset-for-market-basket-analysismba?resource=download&select=basket.csv\n",
    " * [opctional] Create a python virtual enviroment\n",
    " `python3 -m venv ./recsyslab1`\n",
    " * install needed libraries:\n",
    " `pip install more-itertools`"
   ]
  },
  {
   "cell_type": "code",
   "execution_count": 1,
   "metadata": {
    "ExecuteTime": {
     "end_time": "2023-10-11T15:08:37.359006100Z",
     "start_time": "2023-10-11T15:08:37.348561800Z"
    }
   },
   "outputs": [],
   "source": [
    "# !pip install more-itertools"
   ]
  },
  {
   "cell_type": "markdown",
   "metadata": {},
   "source": [
    "## Part 1 - data preparation/preprocessing"
   ]
  },
  {
   "cell_type": "code",
   "execution_count": 2,
   "metadata": {
    "ExecuteTime": {
     "end_time": "2023-10-11T15:08:37.384114500Z",
     "start_time": "2023-10-11T15:08:37.352561300Z"
    }
   },
   "outputs": [],
   "source": [
    "# import all needed packages\n",
    "\n",
    "from more_itertools import powerset"
   ]
  },
  {
   "cell_type": "code",
   "execution_count": 3,
   "metadata": {
    "ExecuteTime": {
     "end_time": "2023-10-11T15:08:37.390114Z",
     "start_time": "2023-10-11T15:08:37.360004100Z"
    }
   },
   "outputs": [],
   "source": [
    "# defining constants\n",
    "\n",
    "PATH = './basket.csv'\n",
    "EPSILON = 0.0001"
   ]
  },
  {
   "cell_type": "code",
   "execution_count": 4,
   "metadata": {
    "ExecuteTime": {
     "end_time": "2023-10-11T15:08:37.390114Z",
     "start_time": "2023-10-11T15:08:37.364560600Z"
    }
   },
   "outputs": [],
   "source": [
    "# reading basket data\n",
    "\n",
    "def read_baskets(path: str) -> list[tuple[str]]:\n",
    "    with open(path) as f:\n",
    "        raw = f.read()\n",
    "    baskets = [set([y.lower() for y in x.split(',') if y]) for x in raw.split('\\n')[1:] if x]\n",
    "    return baskets\n",
    "\n",
    "def unique_products(baskets: list[tuple[str]]) -> list[str]:\n",
    "    products = set()\n",
    "    for basket in baskets:\n",
    "        products.update(basket)\n",
    "    return sorted(list(products))\n",
    "\n",
    "# list of sets containing products from baskets\n",
    "baskets = read_baskets(PATH)\n",
    "\n",
    "# list of all available products\n",
    "products = unique_products(baskets)"
   ]
  },
  {
   "cell_type": "markdown",
   "metadata": {},
   "source": [
    "## Part 2 - Support, confidence and lift"
   ]
  },
  {
   "cell_type": "code",
   "execution_count": 5,
   "metadata": {
    "ExecuteTime": {
     "end_time": "2023-10-11T15:42:40.735823300Z",
     "start_time": "2023-10-11T15:08:37.382114300Z"
    }
   },
   "outputs": [],
   "source": [
    "# computing a data structure (dictionary or graph) with interesting `support` values\n",
    "\n",
    "def get_supports(baskets: list[tuple[str]], all_products: list[str], epsilon: float):\n",
    "    supports = {}\n",
    "    len_all_baskets = len(baskets)\n",
    "    \n",
    "    def rek(basket : set, baskets : list[set]):\n",
    "        nonlocal supports\n",
    "        for product in all_products:\n",
    "            if product in basket : continue\n",
    "            current_A = basket | {product}\n",
    "            containing_baskets = [b for b in baskets if (current_A.issubset(b))]\n",
    "            s = len(containing_baskets)/len_all_baskets\n",
    "            if s > epsilon:\n",
    "                supports[tuple(sorted(current_A))] = s\n",
    "                rek(current_A,containing_baskets)\n",
    "\n",
    "    rek(set(),baskets)\n",
    "    \n",
    "    return supports\n",
    "    \n",
    "supports = get_supports(baskets, products, EPSILON)\n",
    "# supports"
   ]
  },
  {
   "cell_type": "code",
   "execution_count": 6,
   "metadata": {
    "ExecuteTime": {
     "end_time": "2023-10-11T15:42:40.741408500Z",
     "start_time": "2023-10-11T15:42:40.731647900Z"
    }
   },
   "outputs": [],
   "source": [
    "# defining functions to compute support, confidence and lift\n",
    "\n",
    "def support(supports, products: set) -> float:\n",
    "    products = tuple(sorted(products))\n",
    "    return supports[products] if products in supports else 0 \n",
    "\n",
    "def confidence(supports, prior_products: set, following_products: set) -> float:\n",
    "    new_basket = tuple(sorted(prior_products | following_products))\n",
    "    prior_products = tuple(sorted(prior_products))\n",
    "    support_A = support(supports, prior_products)\n",
    "    support_AB = support(supports,new_basket)\n",
    "    return support_AB/support_A if support_A > 0 else 0 \n",
    "    \n",
    "def lift(supports, prior_products: set, following_products: set) -> float:\n",
    "    new_basket = tuple(sorted(prior_products | following_products))\n",
    "    prior_products = tuple(sorted(prior_products))\n",
    "    following_products = tuple(sorted(following_products))\n",
    "    support_A = support(supports, prior_products)\n",
    "    support_B = support(supports, following_products)\n",
    "    support_AB = support(supports, new_basket)\n",
    "    return support_AB/(support_A*support_B) if support_A > 0 and support_B > 0 else 0 "
   ]
  },
  {
   "cell_type": "code",
   "execution_count": 7,
   "metadata": {
    "ExecuteTime": {
     "end_time": "2023-10-11T15:42:40.741408500Z",
     "start_time": "2023-10-11T15:42:40.735823300Z"
    }
   },
   "outputs": [
    {
     "name": "stdout",
     "output_type": "stream",
     "text": [
      "0.013967787208447505\n",
      "0.09569377990430622\n",
      "1.1142926293448512\n"
     ]
    }
   ],
   "source": [
    "print(support(supports, {'whole milk', 'rolls/buns'}))\n",
    "print(confidence(supports, {'whole milk', 'rolls/buns'}, {'yogurt'}))\n",
    "print(lift(supports, {'whole milk', 'rolls/buns'}, {'yogurt'}))"
   ]
  },
  {
   "cell_type": "markdown",
   "metadata": {},
   "source": [
    "## Part 3 - Generating recommendations"
   ]
  },
  {
   "cell_type": "code",
   "execution_count": 11,
   "metadata": {
    "ExecuteTime": {
     "end_time": "2023-10-11T15:42:40.755803200Z",
     "start_time": "2023-10-11T15:42:40.740408700Z"
    }
   },
   "outputs": [],
   "source": [
    "# list of potential recommendations\n",
    "# products with lift > 1 and high confidence(sorting by confindence)\n",
    "\n",
    "def generate_next_product_candidates(basket: set, products: list, supports) -> list[tuple[str, tuple[str], float, float]]:\n",
    "    result = []\n",
    "    for subbasket in powerset(basket):\n",
    "        subbasket = set(subbasket)\n",
    "        for product in products:\n",
    "            if product in subbasket:continue\n",
    "            cnfdnc = confidence(supports, subbasket, {product})\n",
    "            lft = lift(supports, subbasket, {product})\n",
    "            if lft > 1 and product not in basket:\n",
    "                result.append((product,subbasket,cnfdnc,lft))\n",
    "    \n",
    "    return sorted(result,key= lambda x: x[2],reverse = True)"
   ]
  },
  {
   "cell_type": "code",
   "execution_count": 12,
   "metadata": {
    "ExecuteTime": {
     "end_time": "2023-10-11T15:42:40.777956200Z",
     "start_time": "2023-10-11T15:42:40.744803200Z"
    }
   },
   "outputs": [
    {
     "name": "stdout",
     "output_type": "stream",
     "text": [
      "{'sausage', 'semi-finished bread', 'whole milk', 'yogurt'}\n"
     ]
    },
    {
     "data": {
      "text/plain": [
       "[('rolls/buns',\n",
       "  {'sausage', 'whole milk', 'yogurt'},\n",
       "  0.2272727272727273,\n",
       "  2.066027836076439),\n",
       " ('pork',\n",
       "  {'sausage', 'whole milk', 'yogurt'},\n",
       "  0.18181818181818185,\n",
       "  4.901883701883703),\n",
       " ('soda',\n",
       "  {'sausage', 'whole milk', 'yogurt'},\n",
       "  0.18181818181818185,\n",
       "  1.8723643871613596),\n",
       " ('other vegetables',\n",
       "  {'sausage', 'whole milk', 'yogurt'},\n",
       "  0.13636363636363635,\n",
       "  1.1168084788774444),\n",
       " ('rolls/buns',\n",
       "  {'sausage', 'whole milk'},\n",
       "  0.12686567164179105,\n",
       "  1.1532752398396837),\n",
       " ('domestic eggs',\n",
       "  {'semi-finished bread', 'whole milk'},\n",
       "  0.12,\n",
       "  3.2352432432432434),\n",
       " ('rolls/buns',\n",
       "  {'whole milk', 'yogurt'},\n",
       "  0.11976047904191618,\n",
       "  1.0886853267947703),\n",
       " ('soda', {'sausage', 'whole milk'}, 0.11940298507462688, 1.2296124333596987),\n",
       " ('soda', {'sausage', 'yogurt'}, 0.11627906976744186, 1.1974423406264507),\n",
       " ('soda', {'sausage'}, 0.09856035437430785, 1.0149749363405152)]"
      ]
     },
     "execution_count": 12,
     "metadata": {},
     "output_type": "execute_result"
    }
   ],
   "source": [
    "print(baskets[1])\n",
    "generate_next_product_candidates(baskets[1], products, supports)[:10]"
   ]
  },
  {
   "cell_type": "code",
   "execution_count": 13,
   "metadata": {
    "ExecuteTime": {
     "end_time": "2023-10-11T15:42:40.869623Z",
     "start_time": "2023-10-11T15:42:40.762956800Z"
    }
   },
   "outputs": [
    {
     "name": "stdout",
     "output_type": "stream",
     "text": [
      "{'yogurt', 'soda', 'photo/film', 'root vegetables', 'tropical fruit', 'domestic eggs', 'white wine'}\n"
     ]
    },
    {
     "data": {
      "text/plain": [
       "[('whole milk', {'photo/film', 'yogurt'}, 0.5, 3.166102412187897),\n",
       " ('onions',\n",
       "  {'root vegetables', 'tropical fruit', 'yogurt'},\n",
       "  0.42857142857142855,\n",
       "  21.164073550212162),\n",
       " ('pastry',\n",
       "  {'root vegetables', 'soda', 'tropical fruit'},\n",
       "  0.4,\n",
       "  7.732816537467701),\n",
       " ('frozen vegetables',\n",
       "  {'white wine', 'yogurt'},\n",
       "  0.37499999999999994,\n",
       "  13.391706443914078),\n",
       " ('bottled beer',\n",
       "  {'tropical fruit', 'white wine'},\n",
       "  0.3333333333333333,\n",
       "  7.356440511307767),\n",
       " ('whole milk',\n",
       "  {'root vegetables', 'tropical fruit', 'yogurt'},\n",
       "  0.28571428571428575,\n",
       "  1.809201378393084),\n",
       " ('whole milk',\n",
       "  {'tropical fruit', 'white wine'},\n",
       "  0.22222222222222224,\n",
       "  1.4071566276390655),\n",
       " ('beef', {'soda', 'white wine'}, 0.21428571428571427, 6.311726659167604),\n",
       " ('shopping bags',\n",
       "  {'soda', 'white wine'},\n",
       "  0.21428571428571427,\n",
       "  4.503310593900482),\n",
       " ('whole milk',\n",
       "  {'domestic eggs', 'soda'},\n",
       "  0.1842105263157895,\n",
       "  1.1664587834376465)]"
      ]
     },
     "execution_count": 13,
     "metadata": {},
     "output_type": "execute_result"
    }
   ],
   "source": [
    "print(baskets[33])\n",
    "generate_next_product_candidates(baskets[33], products, supports)[:10]"
   ]
  },
  {
   "cell_type": "code",
   "execution_count": null,
   "metadata": {
    "ExecuteTime": {
     "end_time": "2023-10-11T15:42:40.869623Z",
     "start_time": "2023-10-11T15:42:40.831056700Z"
    }
   },
   "outputs": [],
   "source": []
  }
 ],
 "metadata": {
  "kernelspec": {
   "display_name": "Python 3 (ipykernel)",
   "language": "python",
   "name": "python3"
  },
  "language_info": {
   "codemirror_mode": {
    "name": "ipython",
    "version": 3
   },
   "file_extension": ".py",
   "mimetype": "text/x-python",
   "name": "python",
   "nbconvert_exporter": "python",
   "pygments_lexer": "ipython3",
   "version": "3.10.4"
  }
 },
 "nbformat": 4,
 "nbformat_minor": 4
}
