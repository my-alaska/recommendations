{
 "cells": [
  {
   "cell_type": "markdown",
   "metadata": {},
   "source": [
    "# Lab 4 - recommendations for news services\n",
    "\n",
    "## Preparation\n",
    "\n",
    " * download and unpack the dataset: https://mind201910small.blob.core.windows.net/release/MINDsmall_train.zip\n",
    "   * read more here: https://learn.microsoft.com/en-us/azure/open-datasets/dataset-microsoft-news\n",
    " * [optinal] create a python virtual enviroment\n",
    " `python3 -m venv ./recsyslab4`\n",
    " * install needed libraries:\n",
    " `pip install nltk sklearn`"
   ]
  },
  {
   "cell_type": "markdown",
   "metadata": {},
   "source": [
    "## Part 1 - data preparation and preprocessing"
   ]
  },
  {
   "cell_type": "code",
   "execution_count": 1,
   "metadata": {
    "ExecuteTime": {
     "end_time": "2023-11-08T20:41:49.281631600Z",
     "start_time": "2023-11-08T20:41:46.653336400Z"
    }
   },
   "outputs": [
    {
     "name": "stderr",
     "output_type": "stream",
     "text": [
      "[nltk_data] Downloading package stopwords to\n",
      "[nltk_data]     C:\\Users\\piotr\\AppData\\Roaming\\nltk_data...\n",
      "[nltk_data]   Package stopwords is already up-to-date!\n",
      "[nltk_data] Downloading package rslp to\n",
      "[nltk_data]     C:\\Users\\piotr\\AppData\\Roaming\\nltk_data...\n",
      "[nltk_data]   Package rslp is already up-to-date!\n"
     ]
    }
   ],
   "source": [
    "# import needed packages and libraries\n",
    "\n",
    "import codecs\n",
    "from collections import defaultdict\n",
    "import math\n",
    "import re\n",
    "from string import punctuation\n",
    "\n",
    "import nltk\n",
    "nltk.download('stopwords')\n",
    "nltk.download('rslp')\n",
    "\n",
    "from nltk.corpus import stopwords\n",
    "from nltk.stem import RSLPStemmer\n",
    "from nltk.stem import WordNetLemmatizer\n",
    "from nltk.stem.lancaster import LancasterStemmer\n",
    "from nltk.stem.porter import PorterStemmer\n",
    "from nltk.stem.snowball import SnowballStemmer\n",
    "\n",
    "# Chance to improve the performance time with knn algorithms\n",
    "from sklearn.neighbors import NearestNeighbors"
   ]
  },
  {
   "cell_type": "code",
   "execution_count": 2,
   "metadata": {
    "ExecuteTime": {
     "end_time": "2023-11-08T20:41:49.302562100Z",
     "start_time": "2023-11-08T20:41:49.281631600Z"
    }
   },
   "outputs": [],
   "source": [
    "# defining constants\n",
    "\n",
    "PATH = './MINDsmall_train'\n",
    "STOPWORDS = set(stopwords.words('english'))"
   ]
  },
  {
   "cell_type": "code",
   "execution_count": 3,
   "metadata": {
    "ExecuteTime": {
     "end_time": "2023-11-08T20:41:49.480965400Z",
     "start_time": "2023-11-08T20:41:49.299571600Z"
    }
   },
   "outputs": [
    {
     "name": "stdout",
     "output_type": "stream",
     "text": [
      "51282\n"
     ]
    }
   ],
   "source": [
    "# loading text metadata\n",
    "\n",
    "def parse_news_entry(entry):\n",
    "    news_id, category, subcategory, title, abstract = entry.split('\\t')[:5]\n",
    "    return {\n",
    "        'news_id': news_id,\n",
    "        'category': category,\n",
    "        'subcategory': subcategory,\n",
    "        'title': title,\n",
    "        'abstract': abstract\n",
    "    }\n",
    "\n",
    "def get_news_metadata():\n",
    "    with codecs.open(f'{PATH}/news.tsv', 'r', 'UTF-8') as f:\n",
    "        raw = [x for x in f.read().split('\\n') if x]\n",
    "        parsed_entries = [parse_news_entry(entry) for entry in raw]\n",
    "        return {x['news_id']: x for x in parsed_entries}\n",
    "\n",
    "news = get_news_metadata()\n",
    "news_ids = sorted(list(news.keys()))\n",
    "news_indices = {x[1]: x[0] for x in enumerate(news_ids)}\n",
    "print(len(news))"
   ]
  },
  {
   "cell_type": "markdown",
   "metadata": {},
   "source": [
    "## Part 2 - TF-IDF"
   ]
  },
  {
   "cell_type": "code",
   "execution_count": 4,
   "metadata": {
    "scrolled": false,
    "ExecuteTime": {
     "end_time": "2023-11-08T20:44:55.784744400Z",
     "start_time": "2023-11-08T20:41:49.486945700Z"
    }
   },
   "outputs": [],
   "source": [
    "# text normalization\n",
    "\n",
    "def preprocess_text(text):\n",
    "    # removing punctuation and digits. Converting to lowercase\n",
    "    text = text.translate(str.maketrans(\"\", \"\", punctuation+\"0123456789\")).lower()   \n",
    "    # tokenization\n",
    "    text = text.split()\n",
    "    # removing stopwords\n",
    "    text = [word for word in text if word not in stopwords.words('english')]\n",
    "    return text\n",
    "\n",
    "def stem_texts(corpus):\n",
    "#     stemmer = RSLPStemmer()\n",
    "#     stemmer = WordNetLemmatizer.()\n",
    "    stemmer = LancasterStemmer()\n",
    "#     stemmer = PorterStemmer()\n",
    "#     stemmer = SnowballStemmer()\n",
    "    return [[stemmer.stem(word) for word in preprocess_text(text)] for text in corpus]\n",
    "\n",
    "texts = [news[news_id]['abstract'] for news_id in news_ids]\n",
    "stemmed_texts = stem_texts(texts)"
   ]
  },
  {
   "cell_type": "code",
   "execution_count": 5,
   "metadata": {
    "ExecuteTime": {
     "end_time": "2023-11-08T20:44:55.807672300Z",
     "start_time": "2023-11-08T20:44:55.785742100Z"
    }
   },
   "outputs": [
    {
     "name": "stdout",
     "output_type": "stream",
     "text": [
      "\"I think we have a really good team, and a team that can really do some special, good things because that group is very close in there.\" - Brian Schmetzer\n",
      "\n",
      "think real good team team real spec good thing group clos bri schmetzer\n"
     ]
    }
   ],
   "source": [
    "# Let's compare some text before and after processing\n",
    "\n",
    "print(texts[2] + '\\n')\n",
    "print(' '.join(stemmed_texts[2]))"
   ]
  },
  {
   "cell_type": "code",
   "execution_count": 6,
   "metadata": {
    "ExecuteTime": {
     "end_time": "2023-11-08T20:44:55.923859600Z",
     "start_time": "2023-11-08T20:44:55.801692200Z"
    }
   },
   "outputs": [
    {
     "name": "stdout",
     "output_type": "stream",
     "text": [
      "37021\n"
     ]
    }
   ],
   "source": [
    "# create a list of all words in the corpus\n",
    "\n",
    "def get_all_words_sorted(corpus):\n",
    "    return sorted({word for text in corpus for word in text})\n",
    "\n",
    "wordlist = get_all_words_sorted(stemmed_texts)\n",
    "word_indices = {x[1]: x[0] for x in enumerate(wordlist)}\n",
    "print(len(wordlist))"
   ]
  },
  {
   "cell_type": "code",
   "execution_count": 13,
   "metadata": {
    "ExecuteTime": {
     "end_time": "2023-11-08T21:13:11.075908700Z",
     "start_time": "2023-11-08T21:13:10.932318600Z"
    }
   },
   "outputs": [],
   "source": [
    "# calculate the number of texts in which each of the words appeard\n",
    "# If it appeared multiple times in one text we still count it only once\n",
    "\n",
    "def get_document_frequencies(corpus, wordlist):\n",
    "    freqs = {}\n",
    "    for text in corpus:\n",
    "        for word in set(text):\n",
    "            if word in freqs:\n",
    "                freqs[word] += 1\n",
    "            else: freqs[word] = 1\n",
    "\n",
    "    return freqs\n",
    "\n",
    "document_frequency = get_document_frequencies(stemmed_texts, wordlist)"
   ]
  },
  {
   "cell_type": "code",
   "execution_count": 14,
   "outputs": [
    {
     "data": {
      "text/plain": "{'fartlek': 1,\n 'justin': 178,\n 'capit': 212,\n 'vet': 712,\n 'nat': 2070,\n 'gam': 2874,\n 'emphas': 29,\n 'season': 2563,\n 'washington': 812,\n 'somewh': 74,\n 'astro': 404,\n 'regul': 227,\n 'meet': 581,\n 'confer': 1,\n 'concern': 328,\n 'within': 232,\n 'conundr': 1,\n 'eastern': 167,\n 'wednesday': 2140,\n 'loss': 797,\n 'wretch': 1,\n 'airpl': 42,\n 'altuv': 35,\n 'crop': 43,\n 'jos': 85,\n 'verland': 55,\n 'prestig': 4,\n 'ski': 88,\n 'remind': 107,\n 'on': 4125,\n 'remark': 80,\n 'team': 2485,\n 'run': 1128,\n 'assembl': 71,\n 'enco': 81,\n 'two': 3113,\n 'calm': 49,\n 'playerson': 2,\n 'bri': 191,\n 'spec': 629,\n 'clos': 1223,\n 'thing': 840,\n 'schmetzer': 4,\n 'good': 902,\n 'real': 1041,\n 'think': 656,\n 'group': 724,\n 'sport': 519,\n 'octob': 523,\n 'day': 2502,\n 'battery': 66,\n 'say': 3094,\n 'beach': 420,\n 'charg': 1065,\n 'vero': 2,\n 'deputy': 356,\n 'spit': 14,\n 'americ': 282,\n 'hat': 163,\n 'man': 2542,\n 'gre': 621,\n 'mak': 2231,\n 'slap': 21,\n 'red': 513,\n 'sonom': 67,\n 'put': 709,\n 'surg': 113,\n 'throughout': 247,\n 'credit': 362,\n 'firefight': 360,\n 'sudmey': 1,\n 'wind': 434,\n 'healdsburg': 8,\n 'capt': 278,\n 'flag': 153,\n 'morn': 1701,\n 'would': 1518,\n 'gavin': 50,\n 'fir': 1475,\n 'hom': 2418,\n 'story': 926,\n 'newsom': 51,\n 'battl': 390,\n 'sheriff': 488,\n 'peopl': 2086,\n 'ev': 2702,\n 'tod': 71,\n 'monday': 2155,\n 'depart': 1288,\n 'prompt': 142,\n 'sunday': 2216,\n 'continu': 780,\n 'windstorm': 3,\n 'structures': 50,\n 'county': 2159,\n 'kincad': 74,\n 'said': 5459,\n 'show': 1639,\n 'neighb': 578,\n 'stat': 4041,\n 'via': 291,\n 'decl': 141,\n 'mph': 114,\n 'least': 634,\n 'statewid': 59,\n 'new': 6162,\n 'retir': 343,\n 'flam': 180,\n 'blaz': 182,\n 'gust': 78,\n 'latest': 685,\n 'wildfir': 220,\n 'evacu': 215,\n 'winddr': 13,\n 'expect': 964,\n 'destroy': 148,\n 'start': 1975,\n 'govern': 621,\n 'warn': 435,\n 'video': 857,\n 'attempt': 366,\n 'acr': 180,\n 'burn': 302,\n 'californ': 764,\n 'emerg': 389,\n 'surpr': 397,\n 'react': 229,\n 'titl': 338,\n 'whos': 228,\n 'took': 871,\n 'big': 1028,\n 'par': 543,\n 'second': 1157,\n 'young': 525,\n 'yo': 477,\n 'broth': 186,\n 'sometim': 172,\n 'gift': 168,\n 'let': 644,\n 'best': 1157,\n 'priceless': 17,\n 'sink': 28,\n 'book': 338,\n 'espec': 191,\n 'boy': 344,\n 'squad': 91,\n 'week': 3545,\n 'hap': 937,\n 'chang': 962,\n 'bye': 161,\n 'ear': 1665,\n 'struggling': 100,\n 'buc': 61,\n 'ident': 347,\n 'ten': 628,\n 'fat': 375,\n 'patrol': 301,\n 'caus': 652,\n 'highway': 462,\n 'crash': 1002,\n 'ridgewood': 5,\n 'lead': 1491,\n 'cent': 1461,\n 'connect': 312,\n 'us': 3703,\n 'equip': 88,\n 'loc': 1640,\n 'commun': 662,\n 'seny': 365,\n 'help': 1345,\n 'didnt': 604,\n 'comput': 63,\n 'basebal': 244,\n 'prov': 181,\n 'giv': 861,\n 'win': 1825,\n 'settl': 142,\n 'point': 1198,\n 'must': 213,\n 'bet': 561,\n 'novel': 38,\n 'mess': 264,\n 'cerebr': 11,\n 'shin': 49,\n 'origin': 266,\n 'tal': 230,\n 'kubrick': 3,\n 'spooky': 27,\n 'lik': 2033,\n 'stanley': 36,\n 'film': 275,\n 'vert': 134,\n 'sound': 248,\n 'nee': 1171,\n 'ide': 150,\n 'greatest': 73,\n 'king': 275,\n 'sequel': 22,\n 'publ': 1276,\n 'remain': 629,\n 'year': 3994,\n 'cam': 736,\n 'steph': 165,\n 'fac': 1007,\n 'sint': 1221,\n 'prom': 163,\n 'reg': 711,\n 'weekend': 658,\n 'list': 779,\n 'hut': 7,\n 'novemb': 550,\n 'angel': 588,\n 'saturday': 1829,\n 'st': 745,\n 'lou': 292,\n 'boom': 78,\n 'despit': 323,\n 'brady': 154,\n 'perform': 527,\n 'see': 1416,\n 'beat': 516,\n 'patriot': 575,\n 'esiason': 4,\n 'cbs': 243,\n 'lin': 710,\n 'twogam': 36,\n 'philadelph': 263,\n 'play': 2500,\n 'com': 1959,\n 'rav': 288,\n 'stil': 1059,\n 'believ': 553,\n 'miss': 928,\n 'hasnt': 182,\n 'worst': 202,\n 'east': 605,\n 'tom': 277,\n 'wfan': 13,\n 'afc': 88,\n 'bount': 59,\n 'way': 1260,\n 'follow': 987,\n 'back': 1981,\n 'develop': 430,\n 'ecopo': 1,\n 'find': 983,\n 'lif': 709,\n 'serv': 1453,\n 'vehic': 641,\n 'encount': 61,\n 'insid': 716,\n 'fan': 770,\n 'vent': 54,\n 'cup': 253,\n 'ticket': 215,\n 'many': 1013,\n 'ryd': 9,\n 'whistl': 20,\n 'track': 306,\n 'buy': 360,\n 'onlin': 231,\n 'snag': 12,\n 'straits': 6,\n 'process': 358,\n 'kristap': 14,\n 'porz': 14,\n 'anthem': 31,\n 'couldnt': 166,\n 'hid': 135,\n 'taunt': 11,\n 'redskin': 116,\n 'thursday': 1919,\n 'vict': 609,\n 'night': 2506,\n 'minnesot': 315,\n 'rol': 540,\n 'vik': 181,\n 'first': 3391,\n 'trail': 310,\n 'quart': 376,\n 'eagl': 289,\n 'cowboy': 271,\n 'scor': 610,\n 'died': 804,\n 'wound': 197,\n 'mercy': 14,\n 'condit': 483,\n 'hospit': 652,\n 'detain': 40,\n 'unconscy': 27,\n 'ar': 775,\n 'upmc': 6,\n 'bicyc': 36,\n 'pol': 2928,\n 'brooklin': 6,\n 'struck': 287,\n 'respond': 593,\n 'scen': 499,\n 'mal': 215,\n 'avenu': 487,\n 'pm': 1331,\n 'boulevard': 170,\n 'hit': 937,\n 'driv': 1472,\n 'tak': 2279,\n 'pion': 34,\n 'licens': 114,\n 'result': 460,\n 'crit': 481,\n 'crunch': 91,\n 'numb': 624,\n 'rat': 433,\n 'busy': 846,\n 'rundown': 155,\n 'cincinnat': 225,\n 'city': 2265,\n 'hoodlin': 79,\n 'photo': 702,\n 'access': 177,\n 'top': 1571,\n 'her': 1218,\n 'hot': 215,\n 'spot': 598,\n 'confront': 67,\n 'certainty': 5,\n 'comfort': 117,\n 'defy': 49,\n 'requir': 227,\n 'tru': 253,\n 'anch': 61,\n 'scottsd': 59,\n 'zack': 35,\n 'almost': 290,\n 'staff': 418,\n 'seism': 9,\n 'gen': 713,\n 'fam': 285,\n 'ag': 813,\n 'wint': 353,\n 'catch': 273,\n 'middl': 268,\n 'seem': 506,\n 'luhnow': 10,\n 'rot': 67,\n 'though': 330,\n 'urg': 146,\n 'atop': 37,\n 'reliev': 99,\n 'anoth': 1069,\n 'cont': 196,\n 'hal': 317,\n 'behind': 451,\n 'absolv': 76,\n 'greink': 16,\n 'prim': 301,\n 'jeff': 149,\n 'fut': 312,\n 'break': 494,\n 'stay': 365,\n 'plug': 14,\n 'basketbal': 313,\n 'mpj': 1,\n 'off': 3921,\n 'party': 429,\n 'easiest': 12,\n 'priz': 67,\n 'consid': 387,\n 'mich': 77,\n 'ottaw': 20,\n 'ind': 942,\n 'west': 643,\n 'ohio': 490,\n 'yearold': 1699,\n 'accid': 286,\n 'found': 1573,\n 'outsid': 449,\n 'allend': 3,\n 'th': 861,\n 'build': 649,\n 'camp': 347,\n 'twoc': 10,\n 'eject': 38,\n 'travel': 515,\n 'brenn': 2,\n 'mus': 308,\n 'twenty': 17,\n 'broadway': 61,\n 'town': 560,\n 'bring': 554,\n 'columb': 102,\n 'wait': 341,\n 'faith': 17,\n 'tuesday': 2287,\n 'street': 848,\n 'bag': 104,\n 'togeth': 296,\n 'temp': 515,\n 'concert': 80,\n 'sup': 170,\n 'diff': 470,\n 'pilot': 129,\n 'seven': 70,\n 'sleep': 144,\n 'brav': 76,\n 'colorado': 212,\n 'bank': 230,\n 'denv': 278,\n 'band': 86,\n 'eigh': 56,\n 'going': 929,\n 'jacket': 38,\n 'miam': 372,\n 'georg': 420,\n 'hur': 112,\n 'rul': 394,\n 'annount': 1182,\n 'tim': 3032,\n 'thoma': 176,\n 'ahead': 375,\n 'field': 672,\n 'among': 515,\n 'noon': 87,\n 'stad': 441,\n 'viol': 437,\n 'yellow': 64,\n 'tech': 163,\n 'receiv': 918,\n 'homestand': 10,\n 'without': 566,\n 'kickoff': 39,\n 'fivegam': 14,\n 'due': 472,\n 'hard': 532,\n 'wid': 323,\n 'wrap': 102,\n 'wont': 387,\n 'rock': 264,\n 'toddl': 39,\n 'devil': 47,\n 'twoyearold': 12,\n 'schools': 435,\n 'also': 1298,\n 'footbal': 1086,\n 'mushaw': 1,\n 'sav': 414,\n 'selfless': 6,\n 'inspir': 160,\n 'stand': 338,\n 'form': 1892,\n 'coach': 1208,\n 'marrow': 4,\n 'afternoon': 679,\n 'head': 1014,\n 'ccsu': 1,\n 'bon': 91,\n 'wasnt': 346,\n 'blu': 264,\n 'don': 422,\n 'michael': 358,\n 'britain': 54,\n 'lineback': 129,\n 'el': 339,\n 'die': 79,\n 'few': 52,\n 'conserv': 129,\n 'complet': 388,\n 'gulf': 76,\n 'learn': 426,\n 'vaquita': 1,\n 'left': 948,\n 'specy': 59,\n 'soup': 54,\n 'perfect': 289,\n 'butternut': 2,\n 'occas': 57,\n 'sid': 582,\n 'pasta': 4,\n 'squash': 16,\n 'fal': 756,\n 'dish': 134,\n 'exod': 8,\n 'ord': 435,\n 'avail': 263,\n 'sen': 562,\n 'friday': 1777,\n 'candid': 450,\n 'york': 980,\n 'rep': 519,\n 'filmmak': 19,\n 'dny': 12,\n 'democr': 1026,\n 'berny': 90,\n 'join': 523,\n 'sand': 165,\n 'alexandr': 57,\n 'ral': 237,\n 'presid': 2734,\n 'ocasiocortez': 40,\n 'moor': 71,\n 'lib': 42,\n 'chines': 120,\n 'xus': 1,\n 'europ': 185,\n 'panreg': 1,\n 'expl': 178,\n 'touch': 130,\n 'hous': 1748,\n 'describ': 269,\n 'three': 1690,\n 'detroit': 359,\n 'minim': 61,\n 'abdelkad': 4,\n 'injury': 915,\n 'blashil': 3,\n 'midbody': 1,\n 'wing': 134,\n 'fight': 591,\n 'intel': 29,\n 'cant': 499,\n 'plu': 283,\n 'chef': 113,\n 'talk': 626,\n 'robbin': 7,\n 'missy': 4,\n 'breast': 60,\n 'near': 1746,\n 'project': 390,\n 'occupy': 35,\n 'tollway': 4,\n 'dalla': 362,\n 'frisco': 12,\n 'mil': 1512,\n 'nor': 1001,\n 'wear': 244,\n 'suit': 116,\n 'millionair': 11,\n 'counteract': 4,\n 'led': 428,\n 'margaret': 19,\n 'old': 592,\n 'everyon': 232,\n 'pederson': 40,\n 'glenwood': 2,\n 'kind': 249,\n 'goal': 319,\n 'wrong': 186,\n 'mov': 1159,\n 'smalltown': 8,\n 'pul': 367,\n 'lancast': 44,\n 'upd': 463,\n 'lifethr': 48,\n 'reop': 135,\n 'wgal': 15,\n 'victim': 446,\n 'prevy': 300,\n 'accord': 2454,\n 'someon': 283,\n 'block': 707,\n 'car': 1752,\n 'short': 457,\n 'occur': 195,\n 'rout': 264,\n 'vigil': 29,\n 'read': 780,\n 'shoot': 805,\n 'mulberry': 6,\n 'op': 1953,\n 'wit': 266,\n 'sign': 2100,\n 'newslet': 1079,\n 'shot': 774,\n 'sky': 104,\n 'kansa': 381,\n 'report': 2770,\n 'eith': 131,\n 'dirt': 30,\n 'caught': 266,\n 'superm': 9,\n 'bird': 96,\n 'camer': 150,\n 'plan': 1301,\n 'streak': 179,\n 'missour': 126,\n 'mo': 120,\n 'nov': 919,\n 'across': 880,\n 'wyglendowsk': 1,\n 'light': 399,\n 'lit': 105,\n 'spee': 162,\n 'joe': 492,\n 'met': 372,\n 'bright': 94,\n 'mark': 554,\n 'thought': 362,\n 'saw': 318,\n 'cocacola': 1,\n 'wal': 298,\n 'sal': 390,\n 'threatening': 94,\n 'luffm': 1,\n 'rand': 22,\n 'famy': 1170,\n 'email': 143,\n 'oregon': 84,\n 'nath': 32,\n 'paul': 289,\n 'accus': 454,\n 'b': 100,\n 'cal': 1987,\n 'phon': 233,\n 'unnam': 22,\n 'nas': 77,\n 'im': 464,\n 'shar': 605,\n 'look': 2147,\n 'sun': 215,\n 'ready': 356,\n 'halloween': 392,\n 'holiday': 463,\n 'mean': 442,\n 'rapid': 142,\n 'threat': 159,\n 'bombogenes': 3,\n 'strengthens': 5,\n 'definit': 112,\n 'quickhit': 4,\n 'heavy': 286,\n 'main': 380,\n 'noreast': 14,\n 'class': 615,\n 'intens': 96,\n 'quick': 327,\n 'lat': 1139,\n 'northeast': 187,\n 'rain': 285,\n 'high': 1480,\n 'press': 546,\n 'coast': 379,\n 'storm': 411,\n 'along': 604,\n 'drop': 374,\n 'dam': 524,\n 'hear': 647,\n 'plead': 145,\n 'baum': 5,\n 'firstdegr': 64,\n 'sent': 489,\n 'offduty': 28,\n 'delay': 178,\n 'joshu': 26,\n 'guil': 182,\n 'slay': 36,\n 'murd': 396,\n 'elect': 736,\n 'volksw': 10,\n 'produc': 564,\n 'simil': 127,\n 'an': 560,\n 'unit': 677,\n 'intend': 86,\n 'acid': 14,\n 'toss': 40,\n 'suspect': 403,\n 'latino': 17,\n 'ber': 22,\n 'ad': 698,\n 'skinc': 6,\n 'brown': 574,\n 'bobby': 39,\n 'vis': 148,\n 'sery': 1150,\n 'instagram': 182,\n 'beyont': 5,\n 'whatev': 57,\n 'respect': 113,\n 'wilson': 116,\n 'mut': 33,\n 'appear': 1080,\n 'may': 1507,\n 'issu': 706,\n 'sherm': 25,\n 'walk': 499,\n 'alik': 24,\n 'swamp': 11,\n 'resid': 705,\n 'boat': 115,\n 'tid': 68,\n 'wat': 510,\n 'highest': 109,\n 'tour': 421,\n 'ita': 51,\n 'ven': 59,\n 'flood': 190,\n 'evid': 188,\n 'typ': 187,\n 'reach': 361,\n 'cosm': 4,\n 'bil': 903,\n 'galaxy': 44,\n 'lack': 123,\n 'whol': 149,\n 'upon': 100,\n 'far': 674,\n 'arizon': 259,\n 'discovery': 50,\n 'stumbl': 23,\n 'away': 608,\n 'yet': 434,\n 'folkl': 4,\n 'research': 279,\n 'could': 1637,\n 'univers': 674,\n 'bergdahl': 3,\n 'desert': 47,\n 'al': 603,\n 'bas': 472,\n 'ambush': 27,\n 'unorthodox': 3,\n 'platoon': 3,\n 'richardson': 30,\n 'guard': 371,\n 'hes': 560,\n 'every': 721,\n 'pro': 228,\n 'offend': 317,\n 'right': 951,\n 'rooky': 230,\n 'part': 1054,\n 'aj': 55,\n 'sept': 134,\n 'system': 402,\n 'jr': 314,\n 'marron': 11,\n 'secondyear': 35,\n 'can': 63,\n 'doug': 72,\n 'replac': 218,\n 'jagu': 103,\n 'sprained': 21,\n 'mainstay': 9,\n 'green': 356,\n 'index': 33,\n 'fing': 47,\n 'suff': 439,\n 'draymond': 18,\n 'nightm': 53,\n 'warry': 133,\n 'thank': 306,\n 'speech': 122,\n 'kevin': 204,\n 'ful': 691,\n 'friend': 553,\n 'es': 3,\n 'musts': 8,\n 'emot': 119,\n 'mom': 527,\n 'aniston': 31,\n 'hart': 39,\n 'acceiv': 128,\n 'award': 353,\n 'jen': 180,\n 'cho': 157,\n 'amnoon': 1,\n 'landfil': 13,\n 'fem': 147,\n 'putnam': 9,\n 'mixedbree': 3,\n 'hour': 771,\n 'slow': 218,\n 'dog': 429,\n 'cat': 171,\n 'kimch': 1,\n 'anim': 294,\n 'mondaythursday': 1,\n 'road': 1286,\n 'pet': 425,\n 'household': 47,\n 'palatk': 1,\n 'opt': 295,\n 'tabby': 2,\n 'id': 224,\n 'bitlyjargut': 1,\n 'introduc': 152,\n 'chelse': 28,\n 'christian': 116,\n 'premy': 66,\n 'am': 1120,\n 'cryst': 35,\n 'palac': 37,\n 'fif': 166,\n 'midfield': 18,\n 'leagu': 544,\n 'largest': 263,\n 'tend': 101,\n 'war': 633,\n 'org': 399,\n 'pred': 27,\n 'world': 1300,\n 'chin': 228,\n 'cas': 634,\n 'ongo': 109,\n 'econom': 228,\n 'trad': 519,\n 'bloomberg': 75,\n 'goahead': 27,\n 'sanct': 44,\n 'sec': 560,\n 'tariff': 42,\n 'lay': 111,\n 'impos': 37,\n 'pow': 650,\n 'curb': 35,\n 'agricult': 47,\n 'deforest': 6,\n 'glob': 212,\n 'commit': 856,\n 'emit': 34,\n 'greenh': 15,\n 'clim': 191,\n 'gas': 271,\n 'half': 439,\n 'industry': 172,\n 'last': 2274,\n 'pac': 255,\n 'threequarters': 2,\n 'russ': 254,\n 'sci': 267,\n 'warm': 198,\n 'accel': 21,\n 'four': 1325,\n 'dev': 158,\n 'might': 624,\n 'razr': 11,\n 'market': 368,\n 'rev': 420,\n 'return': 850,\n 'fold': 18,\n 'triumph': 36,\n 'dna': 38,\n 'collect': 224,\n 'own': 627,\n 'annem': 2,\n 'preview': 67,\n 'databas': 21,\n 'cbsn': 70,\n 'decad': 419,\n 'unsolv': 7,\n 'angy': 9,\n 'gon': 179,\n 'thenpubl': 1,\n 'dodg': 88,\n 'ancestrycom': 1,\n 'mik': 384,\n 'pittsburgh': 328,\n 'jay': 60,\n 'grud': 15,\n 'becom': 575,\n 'tomlin': 14,\n 'forc': 682,\n 'apart': 481,\n 'plano': 10,\n 'control': 396,\n 'get': 2565,\n 'cold': 433,\n 'doz': 284,\n 'confirm': 369,\n 'seahawk': 185,\n 'ac': 81,\n 'blair': 17,\n 'rest': 367,\n 'bad': 327,\n 'er': 561,\n 'ronald': 41,\n 'heel': 35,\n 'keep': 670,\n 'tear': 85,\n 'ig': 26,\n 'command': 88,\n 'company': 939,\n 'ceo': 187,\n 'bob': 96,\n 'disney': 108,\n 'dar': 57,\n 'chisholm': 1,\n 'mad': 1388,\n 'inappropry': 43,\n 'memb': 760,\n 'told': 955,\n 'religy': 37,\n 'relig': 21,\n 'thirdgrad': 7,\n 'stud': 838,\n 'liv': 1050,\n 'freedom': 57,\n 'depict': 33,\n 'school': 1416,\n 'teach': 281,\n 'edmond': 31,\n 'milit': 374,\n 'theyr': 377,\n 'fought': 48,\n 'dcs': 9,\n 'thousand': 406,\n 'born': 112,\n 'hydrocarbon': 1,\n 'releas': 1121,\n 'august': 161,\n 'unint': 7,\n 'auth': 830,\n 'spark': 161,\n 'lost': 537,\n 'yesterday': 51,\n 'certain': 222,\n 'what': 334,\n 'col': 335,\n 'antifreez': 1,\n 'mix': 134,\n 'cool': 107,\n 'oxycodon': 8,\n 'search': 403,\n 'pil': 91,\n 'includ': 1278,\n 'benzodiazepin': 1,\n 'maj': 640,\n 'narcot': 7,\n 'conduc': 211,\n 'hydrocodon': 1,\n 'carasipradol': 1,\n 'end': 1314,\n 'amount': 153,\n 'bust': 42,\n 'dearborn': 8,\n 'distribut': 77,\n 'prescrib': 37,\n 'michig': 474,\n 'amphetamin': 1,\n 'larg': 423,\n 'enforc': 187,\n 'recov': 151,\n 'drug': 250,\n 'metro': 201,\n 'sev': 1313,\n 'plain': 53,\n 'respons': 276,\n 'sou': 1002,\n 'cov': 383,\n 'northern': 380,\n 'northc': 8,\n 'midwest': 64,\n 'noaagoeseast': 2,\n 'shap': 103,\n 'are': 1095,\n 'expand': 216,\n 'strengthening': 9,\n 'strong': 303,\n 'comm': 1,\n 'cloud': 94,\n 'weath': 758,\n 'tornado': 133,\n 'unleash': 26,\n 'oct': 607,\n 'secret': 400,\n 'choos': 72,\n 'weapon': 132,\n 'pocket': 44,\n 'admin': 435,\n 'int': 272,\n 'observ': 72,\n 'distress': 11,\n 'trump': 2216,\n 'withdraw': 104,\n 'reduc': 149,\n 'pact': 9,\n 'step': 398,\n 'planet': 77,\n 'not': 674,\n 'agr': 208,\n 'ret': 28,\n 'tot': 305,\n 'roundup': 65,\n 'tabloid': 11,\n 'bal': 327,\n 'hang': 91,\n 'playoff': 488,\n 'cleveland': 414,\n 'hop': 585,\n 'steel': 274,\n 'carolin': 453,\n 'satterfield': 2,\n 'giant': 362,\n 'appalach': 16,\n 'louisvil': 156,\n 'scot': 212,\n 'pooch': 8,\n 'veterin': 20,\n 'wond': 195,\n 'food': 653,\n 'fee': 151,\n ...}"
     },
     "execution_count": 14,
     "metadata": {},
     "output_type": "execute_result"
    }
   ],
   "source": [
    "# check the results\n",
    "\n",
    "document_frequency"
   ],
   "metadata": {
    "collapsed": false,
    "ExecuteTime": {
     "end_time": "2023-11-08T21:13:11.931491200Z",
     "start_time": "2023-11-08T21:13:11.891745400Z"
    }
   }
  },
  {
   "cell_type": "code",
   "execution_count": 15,
   "metadata": {
    "ExecuteTime": {
     "end_time": "2023-11-08T21:13:23.573871Z",
     "start_time": "2023-11-08T21:13:23.465435800Z"
    }
   },
   "outputs": [],
   "source": [
    "# calculate the number of word occurrences in each text\n",
    "\n",
    "def get_term_frequencies(corpus, news_indices):\n",
    "    freqs = {news : {} for news in news_indices}\n",
    "    for news,idx in news_indices.items():\n",
    "        text = corpus[idx]\n",
    "        for word in text:\n",
    "            if word in freqs[news]: \n",
    "                freqs[news][word] += 1\n",
    "            else: freqs[news][word] = 1\n",
    "    return freqs\n",
    "\n",
    "term_frequency = get_term_frequencies(stemmed_texts, news_indices)"
   ]
  },
  {
   "cell_type": "code",
   "execution_count": 16,
   "metadata": {
    "ExecuteTime": {
     "end_time": "2023-11-08T21:13:24.243742Z",
     "start_time": "2023-11-08T21:13:24.218905500Z"
    }
   },
   "outputs": [
    {
     "data": {
      "text/plain": "{'think': 1,\n 'real': 2,\n 'good': 2,\n 'team': 2,\n 'spec': 1,\n 'thing': 1,\n 'group': 1,\n 'clos': 1,\n 'bri': 1,\n 'schmetzer': 1}"
     },
     "execution_count": 16,
     "metadata": {},
     "output_type": "execute_result"
    }
   ],
   "source": [
    "# check the results\n",
    "\n",
    "term_frequency[news_ids[2]]"
   ]
  },
  {
   "cell_type": "code",
   "execution_count": 21,
   "metadata": {
    "ExecuteTime": {
     "end_time": "2023-11-08T21:14:12.183231300Z",
     "start_time": "2023-11-08T21:14:11.916005100Z"
    }
   },
   "outputs": [],
   "source": [
    "# calculate the tf_idf metric\n",
    "\n",
    "def calculate_tf_idf(term_frequency, document_frequency, corpus_size):\n",
    "    tf_idf = {}\n",
    "    for news, word_freqs in term_frequency.items():\n",
    "        tf_idf[news] = {}\n",
    "        for word, freq in word_freqs.items():\n",
    "            tf = freq/len(word_freqs)\n",
    "            idf = math.log(corpus_size/document_frequency[word])\n",
    "            tf_idf[news][word] = tf*idf\n",
    "    return tf_idf\n",
    "\n",
    "tf_idf = calculate_tf_idf(term_frequency, document_frequency, len(news_ids))"
   ]
  },
  {
   "cell_type": "code",
   "execution_count": 22,
   "metadata": {
    "ExecuteTime": {
     "end_time": "2023-11-08T21:14:12.757539600Z",
     "start_time": "2023-11-08T21:14:12.736575400Z"
    }
   },
   "outputs": [
    {
     "data": {
      "text/plain": "{'think': 0.4358934303449984,\n 'real': 0.7794316047558209,\n 'good': 0.8080961144662899,\n 'team': 0.6054134307726688,\n 'spec': 0.44009638356936326,\n 'thing': 0.41116932005567136,\n 'group': 0.42603037000083566,\n 'clos': 0.37360329567069006,\n 'bri': 0.5592821664347443,\n 'schmetzer': 0.9458800731274183}"
     },
     "execution_count": 22,
     "metadata": {},
     "output_type": "execute_result"
    }
   ],
   "source": [
    "# check the results\n",
    "\n",
    "tf_idf[news_ids[2]]"
   ]
  },
  {
   "cell_type": "markdown",
   "metadata": {},
   "source": [
    "## Part 3 - text similarity"
   ]
  },
  {
   "cell_type": "code",
   "execution_count": 45,
   "metadata": {
    "ExecuteTime": {
     "end_time": "2023-11-08T22:26:57.830868400Z",
     "start_time": "2023-11-08T22:26:57.797978200Z"
    }
   },
   "outputs": [
    {
     "data": {
      "text/plain": "0.18075826340883294"
     },
     "execution_count": 45,
     "metadata": {},
     "output_type": "execute_result"
    }
   ],
   "source": [
    "# calculate the distance between 2 elements/texts\n",
    "# test different metrics and chose one\n",
    "\n",
    "def cosine_dist(tf_idf, id1, id2): \n",
    "    num = sum([tf_idf[id1][word]*tf_idf[id1][word] for word in tf_idf[id1] if word in tf_idf[id2]])\n",
    "    if num == 0: return 0\n",
    "    den = math.sqrt(sum(v**2 for v in tf_idf[id1].values())*sum(v**2 for v in tf_idf[id2].values()))\n",
    "    return num/den\n",
    "\n",
    "def euclidean_dist(tf_idf, id1, id2):\n",
    "    all_elems = list(set(tf_idf[id1].keys()) | set(tf_idf[id2].keys()))\n",
    "    vec1 = [0 if word not in tf_idf[id1] else tf_idf[id1][word] for word in all_elems]\n",
    "    vec2 = [0 if word not in tf_idf[id2] else tf_idf[id2][word] for word in all_elems]\n",
    "    return math.sqrt(sum([(vec1[i]-vec2[i])**2 for i in range(len(all_elems))]))\n",
    "\n",
    "def fake_jaccard(tf_idf, id1, id2):\n",
    "    set1 = set(tf_idf[id1].keys())\n",
    "    set2 = set(tf_idf[id2].keys())\n",
    "    overlap = set1 & set2\n",
    "    set1 -= overlap\n",
    "    set2 -= overlap\n",
    "    \n",
    "    num = sum([tf_idf[id1][word] for word in overlap]) + sum([tf_idf[id2][word] for word in overlap])\n",
    "    den = num + 2*sum([tf_idf[id1][word] for word in set1]) + 2*sum([tf_idf[id2][word] for word in set2])\n",
    "    return num/den\n",
    "\n",
    "def weighted_jaccard(tf_idf, id1, id2):\n",
    "    set1 = set(tf_idf[id1].keys())\n",
    "    set2 = set(tf_idf[id2].keys())\n",
    "    overlap = set1 & set2\n",
    "    set1 -= overlap\n",
    "    set2 -= overlap\n",
    "    \n",
    "    num = sum([min(tf_idf[id1][word],tf_idf[id2][word]) for word in overlap])\n",
    "    den = sum([min(tf_idf[id1][word],tf_idf[id2][word]) for word in overlap]) + sum([tf_idf[id1][word] for word in set1]) + sum([tf_idf[id2][word] for word in set2])\n",
    "    return num/den\n",
    "\n",
    "def jaccard(tf_idf, id1, id2):\n",
    "    set1 = set(tf_idf[id1].keys())\n",
    "    set2 = set(tf_idf[id2].keys())\n",
    "    overlap = set1 & set2\n",
    "    all_elements = set1 | set2\n",
    "    return len(overlap)/len(all_elements)\n",
    "    \n",
    "def calculate_distance(tf_idf, id1, id2):  \n",
    "    return cosine_dist(tf_idf, id1, id2)\n",
    "\n",
    "calculate_distance(tf_idf, news_ids[2], news_ids[1])"
   ]
  },
  {
   "cell_type": "code",
   "execution_count": 46,
   "metadata": {
    "scrolled": true,
    "ExecuteTime": {
     "end_time": "2023-11-08T22:26:59.403884900Z",
     "start_time": "2023-11-08T22:26:58.705863200Z"
    }
   },
   "outputs": [
    {
     "name": "stdout",
     "output_type": "stream",
     "text": [
      "id: N58544, text: A MAN claims he has created a car that might solve the world's traffic congestion problems. Rick Woodbury from Spokane, Washington USA, is the president, founder and sole employee of 'Commuter Cars.' The carmaker's flagship model is the 2005 super slim two-seater Tango T600, a high-performance electric car that preceded Tesla. Rick told BTV: \"I started this company 21 years ago   it was based on an idea that I came up with in 1982.\" He was inspired by the shocking traffic congestion he had to face on a daily basis. \"I used to drive a Porsche from Beverly Hills to Hermosa Beach every day and the traffic was horrendous,\" explained Rick. What really made Rick think about a solution was the fact that in most of the cars he would see in his commute were occupied by lone drivers. \"I noticed that everybody around me was a single occupant in a car, taking up the whole lane,\" Rick said. Living and working in Los Angeles also helped inspire Rick's unique creation. \"I thought, everyone wants to get from point A to point B efficiently, and in cities like Los Angeles there's really no centre, there's no hub, everybody goes everywhere,\" explained Rick. For him, there is a simple solution, and that is reducing the width that vehicles take up on the road so that 2 can fit comfortably in a single lane. \"I don't think there's any other answer except doubling lane capacity,\" said Rick. With a length of 102 inches this micro car can be parked just about anywhere, just like you would with a motorbike. Rick said: \"The length is the same width of a semi-truck so I can park perpendicular to the curb.\"The selling point of this vehicle is that it can drive in-between cars better than any other car. \"The coolest feature for me to that it can get through traffic faster than any car in history,\" said Rick. Much like a motorbike, the Tango T500 can drive right up to the stop line of traffic lights.\n",
      "\n",
      "5 most similar:\n",
      "\n",
      "id: N11972, text: Former Gov. Rick Scott and Republican lawmakers' decision not to expand Medicaid under the Affordable Care Act is likely costing lives, according to new research on mortality rates for older adults who would have benefited from an expansion of the program. A report by the Center on Budget and Policy Priorities released last week said states that expanded Medicaid showed significant reductions ...\n",
      "\n",
      "id: N5879, text: Former Gov. Rick Scott and Republican lawmakers' decision not to expand Medicaid under the Affordable Care Act is likely costing lives, according to new research on mortality rates for older adults who would have benefited from an expansion of the program. A report by the Center on Budget and Policy Priorities released last week said states that expanded Medicaid showed significant reductions ...\n",
      "\n",
      "id: N11450, text: Chunks of steel were thrown Wednesday morning from an overpass overlooking northbound Interstate 5 and hit at least two cars, authorities said. The rectangular, rusty hunks of metal shattered the windshield of two cars traveling in the Interstate 90 area of I-5 at about 5:30 a.m., tweeted Trooper Rick Johnson, a Washington State Patrol spokesman. RELATED: Crash blocks center lanes of southbound Interstate 5 in Seattle near Convention Center...\n",
      "\n",
      "id: N56248, text: ROCK PORT, Missouri   Rick Oswald is standing on the doorstep of the white farmhouse he grew up in, but almost nothing is as it should be. To his right, four steel grain bins, usually shiny and straight, lie mangled and ripped open, spilling now-rotting corn into piles like sand dunes. The once manicured lawn has been overtaken by waist-tall cattails, their seeds carried in by flood waters that consumed this house, this farm and everything around it last spring.\n",
      "\n",
      "id: N23274, text: In the three years since Donald Trump carried them, Pittsburgh's western and southern suburbs have sent Democrats to Washington, to Harrisburg, and this past Tuesday, to its own county and local governments. These suburbs   geographically encapsulated in the 37th Senatorial District   are where Conor Lamb padded his vote total on his way to winning last year's made-for-TV special election for Congress against Rick Saccone. They're also where Pam...\n"
     ]
    }
   ],
   "source": [
    "# for a given text find k most similar ones\n",
    "# remember about the proper sorting order for used metric\n",
    "# remember to not include the currently checked text. \n",
    "# It would always be the most similar because it's identical\n",
    "\n",
    "def get_k_most_similar_news(tf_idf, n_id, k):\n",
    "    similarities = [(id2,calculate_distance(tf_idf,n_id, id2)) for id2 in tf_idf if id2 != n_id]\n",
    "    similarities = sorted(similarities,key= lambda x: x[1],reverse=True)\n",
    "    return [x[0] for x in similarities[:k]]\n",
    "\n",
    "def print_k_most_similar_news(tf_idf, n_id, k, corpus, news_indices):\n",
    "    similar = get_k_most_similar_news(tf_idf, n_id, k)\n",
    "    print(f'id: {n_id}, text: {corpus[news_indices[n_id]]}')\n",
    "    print(f'\\n{k} most similar:')\n",
    "    for s_id in similar:\n",
    "        print(f'\\nid: {s_id}, text: {corpus[news_indices[s_id]]}')\n",
    "\n",
    "print_k_most_similar_news(tf_idf, news_ids[42337], 5, texts, news_indices)"
   ]
  },
  {
   "cell_type": "code",
   "execution_count": null,
   "outputs": [],
   "source": [],
   "metadata": {
    "collapsed": false
   }
  }
 ],
 "metadata": {
  "kernelspec": {
   "display_name": "Python 3 (ipykernel)",
   "language": "python",
   "name": "python3"
  },
  "language_info": {
   "codemirror_mode": {
    "name": "ipython",
    "version": 3
   },
   "file_extension": ".py",
   "mimetype": "text/x-python",
   "name": "python",
   "nbconvert_exporter": "python",
   "pygments_lexer": "ipython3",
   "version": "3.10.4"
  }
 },
 "nbformat": 4,
 "nbformat_minor": 4
}
