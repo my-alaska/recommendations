{
 "cells": [
  {
   "cell_type": "markdown",
   "id": "4d18a343-c53e-4e64-8316-f5c1167437c4",
   "metadata": {},
   "source": [
    "# Lab 6 - knowledge graph based recommendations\n",
    "\n",
    "## Lab preparation\n",
    "\n",
    " * download and extract the dataset: https://www.aicrowd.com/challenges/spotify-million-playlist-dataset-challenge\n",
    " * [optional] Create python virtual environment\n",
    " `python3 -m venv ./recsyslab6`\n",
    " * zinstall needed libraries:\n",
    " `pip install numpy pandas pykeen tqdm seaborn`"
   ]
  },
  {
   "cell_type": "markdown",
   "id": "d19a763f-eb56-4085-ac43-6d7a1a0cb520",
   "metadata": {},
   "source": [
    "## Part 1 - Data preparation and preprocessing"
   ]
  },
  {
   "cell_type": "code",
   "execution_count": 54,
   "id": "1e62e94d-9961-4d5e-a264-745b5177ed5e",
   "metadata": {
    "ExecuteTime": {
     "end_time": "2023-11-24T18:19:32.031725800Z",
     "start_time": "2023-11-24T18:19:31.967726200Z"
    }
   },
   "outputs": [],
   "source": [
    "import json\n",
    "import matplotlib.pyplot as plt\n",
    "import numpy as np\n",
    "from tqdm import tqdm\n",
    "import random\n",
    "\n",
    "from pykeen.models import TransE, TransH, TransR, RESCAL\n",
    "from pykeen.pipeline import pipeline\n",
    "from pykeen.utils import resolve_device\n",
    "from pykeen.predict import predict_target\n",
    "from pykeen.triples import TriplesFactory"
   ]
  },
  {
   "cell_type": "code",
   "execution_count": 55,
   "id": "67368f56-c5ee-45cb-90f7-235d610c40dd",
   "metadata": {
    "ExecuteTime": {
     "end_time": "2023-11-24T18:19:32.064726500Z",
     "start_time": "2023-11-24T18:19:31.982725900Z"
    }
   },
   "outputs": [],
   "source": [
    "# configure the Spotify dataset\n",
    "PATH = \"spotify_million_playlist_dataset/data\"\n",
    "SAMPLING_RATIO = 0.01\n",
    "FILENAMES = random.sample(\n",
    "    [f\"mpd.slice.{1000*i}-{1000*i+999}.json\" for i in range(1000)],\n",
    "    int(SAMPLING_RATIO * 1000),\n",
    ")"
   ]
  },
  {
   "cell_type": "code",
   "execution_count": 56,
   "id": "7743626d-5017-4443-809c-f3146bf82298",
   "metadata": {
    "ExecuteTime": {
     "end_time": "2023-11-24T18:19:32.065726Z",
     "start_time": "2023-11-24T18:19:31.996726400Z"
    }
   },
   "outputs": [],
   "source": [
    "# Playlsit parsing functions\n",
    "def get_id(uri):\n",
    "    return uri.split(\":\")[-1]\n",
    "\n",
    "\n",
    "def parse_playlist(playlist):\n",
    "    name = playlist[\"name\"]\n",
    "    tracks = [get_id(t[\"track_uri\"]) for t in playlist[\"tracks\"]]\n",
    "    tracks_to_artists = {\n",
    "        (get_id(t[\"track_uri\"]), get_id(t[\"artist_uri\"])) for t in playlist[\"tracks\"]\n",
    "    }\n",
    "    tracks_to_albums = {\n",
    "        (get_id(t[\"track_uri\"]), get_id(t[\"album_uri\"])) for t in playlist[\"tracks\"]\n",
    "    }\n",
    "    albums_to_artists = {\n",
    "        (get_id(t[\"album_uri\"]), get_id(t[\"artist_uri\"])) for t in playlist[\"tracks\"]\n",
    "    }\n",
    "    return name, tracks, tracks_to_artists, tracks_to_albums, albums_to_artists"
   ]
  },
  {
   "cell_type": "code",
   "execution_count": 57,
   "id": "475e2848-3c30-4173-98dc-272fb86e4690",
   "metadata": {
    "ExecuteTime": {
     "end_time": "2023-11-24T18:19:34.545377500Z",
     "start_time": "2023-11-24T18:19:32.026726100Z"
    }
   },
   "outputs": [
    {
     "name": "stderr",
     "output_type": "stream",
     "text": [
      "100%|██████████| 10/10 [00:02<00:00,  4.18it/s]"
     ]
    },
    {
     "name": "stdout",
     "output_type": "stream",
     "text": [
      "Got: 10,000 playlists; 173,427 tracks; 83,264 albums; 36,210 artists\n"
     ]
    },
    {
     "name": "stderr",
     "output_type": "stream",
     "text": [
      "\n"
     ]
    }
   ],
   "source": [
    "# parsing\n",
    "playlists = []\n",
    "tracks = set()\n",
    "tracks_to_artists = set()\n",
    "tracks_to_albums = set()\n",
    "albums_to_artists = set()\n",
    "\n",
    "for filename in tqdm(FILENAMES):\n",
    "    with open(f\"{PATH}/{filename}\") as mpd_chunk:\n",
    "        for playlist in json.loads(mpd_chunk.read())[\"playlists\"]:\n",
    "            a, b, c, d, e = parse_playlist(playlist)\n",
    "            playlists.append(b)\n",
    "            tracks.update(set(b))\n",
    "            tracks_to_artists.update(c)\n",
    "            tracks_to_albums.update(d)\n",
    "            albums_to_artists.update(e)\n",
    "\n",
    "print(\n",
    "    f\"Got: {len(playlists):,} playlists; {len(tracks):,} tracks; {len({x[1] for x in tracks_to_albums}):,} albums; {len({x[1] for x in tracks_to_artists}):,} artists\"\n",
    ")"
   ]
  },
  {
   "cell_type": "code",
   "execution_count": 58,
   "id": "33a6478c-9602-4e40-ae2f-8eeea8a665ed",
   "metadata": {
    "ExecuteTime": {
     "end_time": "2023-11-24T18:19:34.766976800Z",
     "start_time": "2023-11-24T18:19:34.548378200Z"
    }
   },
   "outputs": [
    {
     "name": "stderr",
     "output_type": "stream",
     "text": [
      "100%|██████████| 10000/10000 [00:00<00:00, 90090.62it/s]\n",
      "100%|██████████| 10000/10000 [00:00<00:00, 126583.05it/s]"
     ]
    },
    {
     "name": "stdout",
     "output_type": "stream",
     "text": [
      "train dataset: 9,000; test dataset: 1,000\n"
     ]
    },
    {
     "name": "stderr",
     "output_type": "stream",
     "text": [
      "\n"
     ]
    }
   ],
   "source": [
    "# for the test set we consider playlist that only consist of songs that also appear in the training set at least once\n",
    "tracks_counter = {}\n",
    "for p in tqdm(playlists):\n",
    "    for t in p:\n",
    "        if t in tracks_counter:\n",
    "            tracks_counter[t] += 1\n",
    "        else:\n",
    "            tracks_counter[t] = 1\n",
    "\n",
    "playlists_with_only_non_unique_tracks = []\n",
    "for i in tqdm(range(len((playlists)))):\n",
    "    p = playlists[i]\n",
    "    if all([tracks_counter[t] > 1 for t in p]):\n",
    "        playlists_with_only_non_unique_tracks.append(i)\n",
    "\n",
    "# test set - 10%\n",
    "test_playlist_ids = random.sample(\n",
    "    playlists_with_only_non_unique_tracks, int(SAMPLING_RATIO * 100_000)\n",
    ")\n",
    "# training set - 90%\n",
    "test_ids_sorted = sorted(test_playlist_ids)\n",
    "test_i = 0\n",
    "train_playlist_ids = []\n",
    "i = 0\n",
    "while i < len(playlists):\n",
    "    if test_i < len(test_ids_sorted) and test_ids_sorted[test_i] == i:\n",
    "        test_i += 1\n",
    "    else:\n",
    "        train_playlist_ids.append(i)\n",
    "    i += 1\n",
    "\n",
    "train_playlists = [playlists[i] for i in train_playlist_ids]\n",
    "test_playlists = [playlists[i] for i in test_playlist_ids]\n",
    "\n",
    "print(f\"train dataset: {len(train_playlists):,}; test dataset: {len(test_playlists):,}\")"
   ]
  },
  {
   "cell_type": "markdown",
   "id": "c480cce3-90df-4f6e-b781-0c30f6c18c31",
   "metadata": {},
   "source": [
    "## Part 2 - building and evalulating the model"
   ]
  },
  {
   "cell_type": "markdown",
   "id": "af5bb789-088e-4d5b-82ac-15116fb31216",
   "metadata": {},
   "source": [
    "### Relationships in the dataset:\n",
    "![image of relationships in the dataset](relations.svg)"
   ]
  },
  {
   "cell_type": "code",
   "execution_count": 59,
   "id": "83962cc3-54fd-438d-a7c7-b8a2f3c1b4c5",
   "metadata": {
    "ExecuteTime": {
     "end_time": "2023-11-24T18:19:35.141481800Z",
     "start_time": "2023-11-24T18:19:34.768976900Z"
    }
   },
   "outputs": [
    {
     "name": "stderr",
     "output_type": "stream",
     "text": [
      "100%|██████████| 173427/173427 [00:00<00:00, 2336933.35it/s]\n",
      "100%|██████████| 173427/173427 [00:00<00:00, 2375675.02it/s]\n",
      "100%|██████████| 87384/87384 [00:00<00:00, 2240640.81it/s]\n",
      "100%|██████████| 9000/9000 [00:00<00:00, 109756.71it/s]"
     ]
    },
    {
     "name": "stdout",
     "output_type": "stream",
     "text": [
      "Got 4 relations with total of 1,049,608 entries\n"
     ]
    },
    {
     "name": "stderr",
     "output_type": "stream",
     "text": [
      "\n"
     ]
    }
   ],
   "source": [
    "# building the set of relationships\n",
    "# you can delete some elements of `relations` list\n",
    "relations = [\"follows\", \"authored_by\", \"in_album\", \"authored\"]\n",
    "triples = []\n",
    "\n",
    "# song -> author\n",
    "if \"authored_by\" in relations:\n",
    "    for track, artist in tqdm(tracks_to_artists):\n",
    "        triples.append((track, \"authored_by\", artist))\n",
    "\n",
    "# song -> artist\n",
    "if \"in_album\" in relations:\n",
    "    for track, album in tqdm(tracks_to_albums):\n",
    "        triples.append((track, \"in_album\", album))\n",
    "\n",
    "# artist -> album\n",
    "if \"authored\" in relations:\n",
    "    for album, artist in tqdm(albums_to_artists):\n",
    "        triples.append((artist, \"authored\", album))\n",
    "\n",
    "# song -> song\n",
    "if \"follows\" in relations:\n",
    "    for playlist in tqdm(train_playlists):\n",
    "        for i in range(len(playlist) - 1):\n",
    "            triples.append((playlist[i], \"follows\", playlist[i + 1]))\n",
    "\n",
    "num_entities = len(triples)\n",
    "num_relations = len(relations)\n",
    "\n",
    "print(f\"Got {num_relations} relations with total of {num_entities:,} entries\")"
   ]
  },
  {
   "cell_type": "code",
   "execution_count": 60,
   "id": "64a2042a-3165-4177-af82-2cb1586c8eb1",
   "metadata": {
    "ExecuteTime": {
     "end_time": "2023-11-24T18:37:05.980794500Z",
     "start_time": "2023-11-24T18:19:35.343086800Z"
    }
   },
   "outputs": [
    {
     "name": "stderr",
     "output_type": "stream",
     "text": [
      "WARNING:pykeen.utils:using automatically assigned random_state=1817513616\n",
      "INFO:pykeen.triples.splitting:done splitting triples to groups of sizes [539664, 99754, 99755]\n",
      "WARNING:pykeen.pipeline.api:No random seed is specified. Setting to 1761653105.\n",
      "INFO:pykeen.pipeline.api:Using device: cuda\n"
     ]
    },
    {
     "data": {
      "text/plain": "Training epochs on cuda:0:   0%|          | 0/20 [00:00<?, ?epoch/s]",
      "application/vnd.jupyter.widget-view+json": {
       "version_major": 2,
       "version_minor": 0,
       "model_id": "24d16526c6a3452fb8bce6743b60c4c4"
      }
     },
     "metadata": {},
     "output_type": "display_data"
    },
    {
     "data": {
      "text/plain": "Training batches on cuda:0:   0%|          | 0/3118 [00:00<?, ?batch/s]",
      "application/vnd.jupyter.widget-view+json": {
       "version_major": 2,
       "version_minor": 0,
       "model_id": "f1e05d0936db42a3886adef1343b7d05"
      }
     },
     "metadata": {},
     "output_type": "display_data"
    },
    {
     "data": {
      "text/plain": "Training batches on cuda:0:   0%|          | 0/3118 [00:00<?, ?batch/s]",
      "application/vnd.jupyter.widget-view+json": {
       "version_major": 2,
       "version_minor": 0,
       "model_id": "1d5da060fb364603910aa3db02548d26"
      }
     },
     "metadata": {},
     "output_type": "display_data"
    },
    {
     "data": {
      "text/plain": "Training batches on cuda:0:   0%|          | 0/3118 [00:00<?, ?batch/s]",
      "application/vnd.jupyter.widget-view+json": {
       "version_major": 2,
       "version_minor": 0,
       "model_id": "d1cfbe1b49d4477bb54680fbf8588c0e"
      }
     },
     "metadata": {},
     "output_type": "display_data"
    },
    {
     "data": {
      "text/plain": "Training batches on cuda:0:   0%|          | 0/3118 [00:00<?, ?batch/s]",
      "application/vnd.jupyter.widget-view+json": {
       "version_major": 2,
       "version_minor": 0,
       "model_id": "6e2c480d5a0c41aa99984a2f90935262"
      }
     },
     "metadata": {},
     "output_type": "display_data"
    },
    {
     "data": {
      "text/plain": "Training batches on cuda:0:   0%|          | 0/3118 [00:00<?, ?batch/s]",
      "application/vnd.jupyter.widget-view+json": {
       "version_major": 2,
       "version_minor": 0,
       "model_id": "57e6a13738fe40578ad88c9b064b4776"
      }
     },
     "metadata": {},
     "output_type": "display_data"
    },
    {
     "data": {
      "text/plain": "Training batches on cuda:0:   0%|          | 0/3118 [00:00<?, ?batch/s]",
      "application/vnd.jupyter.widget-view+json": {
       "version_major": 2,
       "version_minor": 0,
       "model_id": "07be295f64cf41c7a2107eada5534f29"
      }
     },
     "metadata": {},
     "output_type": "display_data"
    },
    {
     "data": {
      "text/plain": "Training batches on cuda:0:   0%|          | 0/3118 [00:00<?, ?batch/s]",
      "application/vnd.jupyter.widget-view+json": {
       "version_major": 2,
       "version_minor": 0,
       "model_id": "c90e22143f364dafa2ebb454558b5a6b"
      }
     },
     "metadata": {},
     "output_type": "display_data"
    },
    {
     "data": {
      "text/plain": "Training batches on cuda:0:   0%|          | 0/3118 [00:00<?, ?batch/s]",
      "application/vnd.jupyter.widget-view+json": {
       "version_major": 2,
       "version_minor": 0,
       "model_id": "fb246c2632d24ac5a16d8fca64227ea8"
      }
     },
     "metadata": {},
     "output_type": "display_data"
    },
    {
     "data": {
      "text/plain": "Training batches on cuda:0:   0%|          | 0/3118 [00:00<?, ?batch/s]",
      "application/vnd.jupyter.widget-view+json": {
       "version_major": 2,
       "version_minor": 0,
       "model_id": "fa2c844e08894f5bb636fb5b2869b851"
      }
     },
     "metadata": {},
     "output_type": "display_data"
    },
    {
     "data": {
      "text/plain": "Training batches on cuda:0:   0%|          | 0/3118 [00:00<?, ?batch/s]",
      "application/vnd.jupyter.widget-view+json": {
       "version_major": 2,
       "version_minor": 0,
       "model_id": "7626f9f326d14262b3f5ff9526be58be"
      }
     },
     "metadata": {},
     "output_type": "display_data"
    },
    {
     "data": {
      "text/plain": "Training batches on cuda:0:   0%|          | 0/3118 [00:00<?, ?batch/s]",
      "application/vnd.jupyter.widget-view+json": {
       "version_major": 2,
       "version_minor": 0,
       "model_id": "c7e67022368f40458961cd4455bc9900"
      }
     },
     "metadata": {},
     "output_type": "display_data"
    },
    {
     "data": {
      "text/plain": "Training batches on cuda:0:   0%|          | 0/3118 [00:00<?, ?batch/s]",
      "application/vnd.jupyter.widget-view+json": {
       "version_major": 2,
       "version_minor": 0,
       "model_id": "d49327eac32e4cf38d00ce3220ee75b4"
      }
     },
     "metadata": {},
     "output_type": "display_data"
    },
    {
     "data": {
      "text/plain": "Training batches on cuda:0:   0%|          | 0/3118 [00:00<?, ?batch/s]",
      "application/vnd.jupyter.widget-view+json": {
       "version_major": 2,
       "version_minor": 0,
       "model_id": "e2a1b4dae0e54168a99071ba611d4853"
      }
     },
     "metadata": {},
     "output_type": "display_data"
    },
    {
     "data": {
      "text/plain": "Training batches on cuda:0:   0%|          | 0/3118 [00:00<?, ?batch/s]",
      "application/vnd.jupyter.widget-view+json": {
       "version_major": 2,
       "version_minor": 0,
       "model_id": "12f9c22f9c4a48debb0736b3874e18b3"
      }
     },
     "metadata": {},
     "output_type": "display_data"
    },
    {
     "data": {
      "text/plain": "Training batches on cuda:0:   0%|          | 0/3118 [00:00<?, ?batch/s]",
      "application/vnd.jupyter.widget-view+json": {
       "version_major": 2,
       "version_minor": 0,
       "model_id": "fc88c2c3f466465a9cd86bb7b34ead48"
      }
     },
     "metadata": {},
     "output_type": "display_data"
    },
    {
     "data": {
      "text/plain": "Training batches on cuda:0:   0%|          | 0/3118 [00:00<?, ?batch/s]",
      "application/vnd.jupyter.widget-view+json": {
       "version_major": 2,
       "version_minor": 0,
       "model_id": "44ad9a61ec86433fbcf1f4b79085f42b"
      }
     },
     "metadata": {},
     "output_type": "display_data"
    },
    {
     "data": {
      "text/plain": "Training batches on cuda:0:   0%|          | 0/3118 [00:00<?, ?batch/s]",
      "application/vnd.jupyter.widget-view+json": {
       "version_major": 2,
       "version_minor": 0,
       "model_id": "b386aa173b954a05b281db7e1ebe404d"
      }
     },
     "metadata": {},
     "output_type": "display_data"
    },
    {
     "data": {
      "text/plain": "Training batches on cuda:0:   0%|          | 0/3118 [00:00<?, ?batch/s]",
      "application/vnd.jupyter.widget-view+json": {
       "version_major": 2,
       "version_minor": 0,
       "model_id": "8028e88b9eee4cffa1ac5e1bddd3f6c7"
      }
     },
     "metadata": {},
     "output_type": "display_data"
    },
    {
     "data": {
      "text/plain": "Training batches on cuda:0:   0%|          | 0/3118 [00:00<?, ?batch/s]",
      "application/vnd.jupyter.widget-view+json": {
       "version_major": 2,
       "version_minor": 0,
       "model_id": "52cbb16b88ad42908f1c4802aad6ff1f"
      }
     },
     "metadata": {},
     "output_type": "display_data"
    },
    {
     "data": {
      "text/plain": "Training batches on cuda:0:   0%|          | 0/3118 [00:00<?, ?batch/s]",
      "application/vnd.jupyter.widget-view+json": {
       "version_major": 2,
       "version_minor": 0,
       "model_id": "7404a4c37afb4a7e8e37a9049c4a1d0f"
      }
     },
     "metadata": {},
     "output_type": "display_data"
    },
    {
     "name": "stderr",
     "output_type": "stream",
     "text": [
      "INFO:pykeen.evaluation.evaluator:Starting batch_size search for evaluation now...\n",
      "C:\\Users\\piotr\\AppData\\Local\\Programs\\Python\\Python310\\lib\\site-packages\\pykeen\\utils.py:545: RuntimeWarning: overflow encountered in scalar add\n",
      "  return sum(\n",
      "INFO:pykeen.evaluation.evaluator:Concluded batch_size search with batch_size=512.\n"
     ]
    },
    {
     "data": {
      "text/plain": "Evaluating on cuda:0:   0%|          | 0.00/99.8k [00:00<?, ?triple/s]",
      "application/vnd.jupyter.widget-view+json": {
       "version_major": 2,
       "version_minor": 0,
       "model_id": "387904ddfa1b47a896366847710c5616"
      }
     },
     "metadata": {},
     "output_type": "display_data"
    },
    {
     "name": "stderr",
     "output_type": "stream",
     "text": [
      "INFO:pykeen.evaluation.evaluator:Evaluation took 720.28s seconds\n"
     ]
    }
   ],
   "source": [
    "# training\n",
    "tf = TriplesFactory.from_labeled_triples(np.array(triples))\n",
    "# disproportion to get scores quickly\n",
    "# for better results it's worthy to use 80/10/10 split\n",
    "training, testing, validation = tf.split([0.8, 0.1, 0.1])\n",
    "\n",
    "pipeline_result = pipeline(\n",
    "    training=training,\n",
    "    testing=testing,\n",
    "    validation=validation,\n",
    "    model=TransE,  # the simplest, the fastest and the worst model; other options: TransH, TransR, RESCAL, other\n",
    "    epochs=20,\n",
    "    device=resolve_device(),\n",
    ")"
   ]
  },
  {
   "cell_type": "code",
   "execution_count": 61,
   "id": "d50bf67a-f449-4296-91e5-cadad5d4990c",
   "metadata": {
    "ExecuteTime": {
     "end_time": "2023-11-24T18:37:06.120794800Z",
     "start_time": "2023-11-24T18:37:05.980794500Z"
    }
   },
   "outputs": [
    {
     "data": {
      "text/plain": "<Axes: title={'center': 'Losses Plot'}, xlabel='Epoch', ylabel='marginranking Loss'>"
     },
     "execution_count": 61,
     "metadata": {},
     "output_type": "execute_result"
    },
    {
     "data": {
      "text/plain": "<Figure size 640x480 with 1 Axes>",
      "image/png": "[encoded data removed]"
     },
     "metadata": {},
     "output_type": "display_data"
    }
   ],
   "source": [
    "# rough estimate of model quality\n",
    "pipeline_result.plot_losses()"
   ]
  },
  {
   "cell_type": "code",
   "execution_count": 75,
   "id": "37eaf5f3-8083-4284-8156-4f8326671050",
   "metadata": {
    "ExecuteTime": {
     "end_time": "2023-11-24T18:40:30.841277400Z",
     "start_time": "2023-11-24T18:40:30.813986600Z"
    }
   },
   "outputs": [],
   "source": [
    "# returning model predictions\n",
    "def predict_next_tracks(track_id: str, k: int) -> list[str]:\n",
    "    return (\n",
    "        predict_target(\n",
    "            model=pipeline_result.model,\n",
    "            head=track_id,\n",
    "            relation=\"follows\",\n",
    "            triples_factory=pipeline_result.training,\n",
    "        )\n",
    "        .df[:k][\"tail_label\"]\n",
    "        .to_list()\n",
    "    )"
   ]
  },
  {
   "cell_type": "code",
   "execution_count": 76,
   "id": "0a83eba4-2e1e-4bec-be87-8063ed71ed58",
   "metadata": {
    "ExecuteTime": {
     "end_time": "2023-11-24T18:40:31.388390Z",
     "start_time": "2023-11-24T18:40:31.379390200Z"
    }
   },
   "outputs": [],
   "source": [
    "# precision and recall\n",
    "def precision(prediction: list[str], actual_tracks: list[str]) -> float:\n",
    "    return len(set(prediction) & set(actual_tracks)) / len(actual_tracks)\n",
    "\n",
    "\n",
    "def recall(prediction: list[str], actual_tracks: list[str]) -> float:\n",
    "    return len(set(prediction) & set(actual_tracks)) / len(prediction)"
   ]
  },
  {
   "cell_type": "code",
   "execution_count": null,
   "outputs": [],
   "source": [
    "# remove the playlists that are too short\n",
    "long_enough_test_playlists = [p for p in test_playlists if len(p) >= 10]\n",
    "# we predict on elements from 0 to `cutoff_idx` to get the next ones\n",
    "cutoff_idx = 4\n",
    "\n",
    "# number of elements to predict\n",
    "k = 20"
   ],
   "metadata": {
    "collapsed": false
   },
   "id": "cc42286dabb257e1"
  },
  {
   "cell_type": "code",
   "execution_count": 85,
   "id": "d39cbf2e-e686-45d0-a8cd-5343132b2ba0",
   "metadata": {
    "ExecuteTime": {
     "end_time": "2023-11-24T18:46:31.525963100Z",
     "start_time": "2023-11-24T18:43:27.028908800Z"
    }
   },
   "outputs": [
    {
     "name": "stdout",
     "output_type": "stream",
     "text": [
      "calculating prediction for iteration 0\n",
      "calculating prediction for iteration 100\n",
      "calculating prediction for iteration 200\n",
      "calculating prediction for iteration 300\n",
      "calculating prediction for iteration 400\n",
      "calculating prediction for iteration 500\n",
      "calculating prediction for iteration 600\n",
      "calculating prediction for iteration 700\n",
      "calculating prediction for iteration 800\n"
     ]
    }
   ],
   "source": [
    "predictions = []\n",
    "actual_tracks = []\n",
    "for i, playlist in enumerate(long_enough_test_playlists):\n",
    "    if i % 100 == 0:\n",
    "        print(f\"calculating prediction for iteration {i}\")\n",
    "    predictions.append(predict_next_tracks(playlist[cutoff_idx], k))\n",
    "    actual_tracks.append(playlist[cutoff_idx : cutoff_idx + k])"
   ]
  },
  {
   "cell_type": "code",
   "execution_count": 86,
   "outputs": [],
   "source": [
    "precisions = [precision(p, a) for p, a in zip(predictions, actual_tracks)]\n",
    "recalls = [recall(p, a) for p, a in zip(predictions, actual_tracks)]"
   ],
   "metadata": {
    "collapsed": false,
    "ExecuteTime": {
     "end_time": "2023-11-24T18:46:31.542963600Z",
     "start_time": "2023-11-24T18:46:31.527962600Z"
    }
   },
   "id": "a0271f80d9ce8f34"
  },
  {
   "cell_type": "code",
   "execution_count": 87,
   "outputs": [
    {
     "data": {
      "text/plain": "<Figure size 640x480 with 2 Axes>",
      "image/png": "[encoded data removed]"
     },
     "metadata": {},
     "output_type": "display_data"
    }
   ],
   "source": [
    "# histogram\n",
    "fig, (ax1, ax2) = plt.subplots(1, 2)\n",
    "ax1.hist(precisions, bins=20)\n",
    "ax1.set_title(\"Precision\")\n",
    "ax2.hist(recalls, bins=20)\n",
    "ax2.set_title(\"Recall\")\n",
    "plt.show()"
   ],
   "metadata": {
    "collapsed": false,
    "ExecuteTime": {
     "end_time": "2023-11-24T18:46:31.844973400Z",
     "start_time": "2023-11-24T18:46:31.545963Z"
    }
   },
   "id": "6648549ffc527b1a"
  },
  {
   "cell_type": "markdown",
   "id": "ca5d83b9-de72-4fc0-8bfe-7acb6c66f62f",
   "metadata": {},
   "source": [
    "## Part 3 - comparing different methods of recommendation"
   ]
  },
  {
   "cell_type": "markdown",
   "id": "a3e87e7c-b9fb-430d-86cb-14433ddd4287",
   "metadata": {},
   "source": [
    "W części 2. zbudowaliśmy zbiór trójek relacji, wytrenowaliśmy jeden model, zaimplementowaliśmy (prostą) metodę generującą rekomendacje na podstawie predykcji modelu i w końcu zaimplementowaliśmy dwie metryki do porównania jakości tych rekomendacji.\n",
    "\n",
    "W części 3. Twoim zadaniem jest przetestować trzy różne podejścia do jednego z kroków:\n",
    "1. Porównaj trzy różne modele spośród dostępnych w bibliotece PyKeen: https://pykeen.readthedocs.io/en/stable/reference/models.html#classes\n",
    "   * jeden model translacyjny (np. TransE, TransH, TransR)\n",
    "   * jeden model faktoryzacyjny (np. RESCAL)\n",
    "   * jeden dowolny model niewybrany w poprzednich punktach\n",
    "2. Porównaj trzy metody budowania grafu wiedzy:\n",
    "   * graf zawierający relacje wszystkich czterech typów\n",
    "   * graf zawierający tylko relacje typu `follows` (czyli między kolejnymi utworami w playliście)\n",
    "   * graf zawierający relacje wybranych przez Ciebie dwóch lub trzech typów (czyli krok pośredni między powyższymi punktami)\n",
    "3. Porównaj trzy metody generowania rekomendacji na podstawie elementów zwróconych przez `predict_target()` (ta metoda zwraca m. in. score'y każdego z proponowanych elementów, co może okazać się pomocne):\n",
    "   * metoda opierająca się tylko na predykcji dla ostatniego znanego elementu w playliście\n",
    "   * dwie wymyślone przez Ciebie, bardziej zaawansowane metody\n",
    "  \n",
    "Niezależnie od tego, który z trzech powyższych scenariuszy wybierzesz - porównaj trzy wybrane przez Ciebie metody na podstawie histogramów metryk `precision@k` i `recall@k`."
   ]
  },
  {
   "cell_type": "code",
   "execution_count": 89,
   "outputs": [
    {
     "name": "stderr",
     "output_type": "stream",
     "text": [
      "WARNING:pykeen.pipeline.api:No random seed is specified. Setting to 3931348410.\n",
      "INFO:pykeen.pipeline.api:Using device: cuda\n"
     ]
    },
    {
     "data": {
      "text/plain": "Training epochs on cuda:0:   0%|          | 0/20 [00:00<?, ?epoch/s]",
      "application/vnd.jupyter.widget-view+json": {
       "version_major": 2,
       "version_minor": 0,
       "model_id": "e1f986070e31421a8736b2a8d040fdf5"
      }
     },
     "metadata": {},
     "output_type": "display_data"
    },
    {
     "data": {
      "text/plain": "Training batches on cuda:0:   0%|          | 0/3118 [00:00<?, ?batch/s]",
      "application/vnd.jupyter.widget-view+json": {
       "version_major": 2,
       "version_minor": 0,
       "model_id": "c0bcd848ef0c43208a39677dcb87058a"
      }
     },
     "metadata": {},
     "output_type": "display_data"
    },
    {
     "ename": "KeyboardInterrupt",
     "evalue": "",
     "output_type": "error",
     "traceback": [
      "\u001B[1;31m---------------------------------------------------------------------------\u001B[0m",
      "\u001B[1;31mKeyboardInterrupt\u001B[0m                         Traceback (most recent call last)",
      "Cell \u001B[1;32mIn[89], line 1\u001B[0m\n\u001B[1;32m----> 1\u001B[0m pipeline_result \u001B[38;5;241m=\u001B[39m \u001B[43mpipeline\u001B[49m\u001B[43m(\u001B[49m\n\u001B[0;32m      2\u001B[0m \u001B[43m    \u001B[49m\u001B[43mtraining\u001B[49m\u001B[38;5;241;43m=\u001B[39;49m\u001B[43mtraining\u001B[49m\u001B[43m,\u001B[49m\n\u001B[0;32m      3\u001B[0m \u001B[43m    \u001B[49m\u001B[43mtesting\u001B[49m\u001B[38;5;241;43m=\u001B[39;49m\u001B[43mtesting\u001B[49m\u001B[43m,\u001B[49m\n\u001B[0;32m      4\u001B[0m \u001B[43m    \u001B[49m\u001B[43mvalidation\u001B[49m\u001B[38;5;241;43m=\u001B[39;49m\u001B[43mvalidation\u001B[49m\u001B[43m,\u001B[49m\n\u001B[0;32m      5\u001B[0m \u001B[43m    \u001B[49m\u001B[43mmodel\u001B[49m\u001B[38;5;241;43m=\u001B[39;49m\u001B[43mTransE\u001B[49m\u001B[43m,\u001B[49m\u001B[43m \u001B[49m\u001B[38;5;66;43;03m# the simplest, the fastest and the worst model; other options: TransH, TransR, RESCAL, other\u001B[39;49;00m\n\u001B[0;32m      6\u001B[0m \u001B[43m    \u001B[49m\u001B[43mepochs\u001B[49m\u001B[38;5;241;43m=\u001B[39;49m\u001B[38;5;241;43m20\u001B[39;49m\u001B[43m,\u001B[49m\n\u001B[0;32m      7\u001B[0m \u001B[43m    \u001B[49m\u001B[43mdevice\u001B[49m\u001B[38;5;241;43m=\u001B[39;49m\u001B[43mresolve_device\u001B[49m\u001B[43m(\u001B[49m\u001B[43m)\u001B[49m\n\u001B[0;32m      8\u001B[0m \u001B[43m)\u001B[49m\n",
      "File \u001B[1;32m~\\AppData\\Local\\Programs\\Python\\Python310\\lib\\site-packages\\pykeen\\pipeline\\api.py:1546\u001B[0m, in \u001B[0;36mpipeline\u001B[1;34m(dataset, dataset_kwargs, training, testing, validation, evaluation_entity_whitelist, evaluation_relation_whitelist, model, model_kwargs, interaction, interaction_kwargs, dimensions, loss, loss_kwargs, regularizer, regularizer_kwargs, optimizer, optimizer_kwargs, clear_optimizer, lr_scheduler, lr_scheduler_kwargs, training_loop, training_loop_kwargs, negative_sampler, negative_sampler_kwargs, epochs, training_kwargs, stopper, stopper_kwargs, evaluator, evaluator_kwargs, evaluation_kwargs, result_tracker, result_tracker_kwargs, metadata, device, random_seed, use_testing_data, evaluation_fallback, filter_validation_when_testing, use_tqdm)\u001B[0m\n\u001B[0;32m   1525\u001B[0m training_loop_instance \u001B[38;5;241m=\u001B[39m _handle_training_loop(\n\u001B[0;32m   1526\u001B[0m     _result_tracker\u001B[38;5;241m=\u001B[39m_result_tracker,\n\u001B[0;32m   1527\u001B[0m     model_instance\u001B[38;5;241m=\u001B[39mmodel_instance,\n\u001B[1;32m   (...)\u001B[0m\n\u001B[0;32m   1536\u001B[0m     negative_sampler_kwargs\u001B[38;5;241m=\u001B[39mnegative_sampler_kwargs,\n\u001B[0;32m   1537\u001B[0m )\n\u001B[0;32m   1539\u001B[0m evaluator_instance, evaluation_kwargs \u001B[38;5;241m=\u001B[39m _handle_evaluator(\n\u001B[0;32m   1540\u001B[0m     _result_tracker\u001B[38;5;241m=\u001B[39m_result_tracker,\n\u001B[0;32m   1541\u001B[0m     evaluator\u001B[38;5;241m=\u001B[39mevaluator,\n\u001B[0;32m   1542\u001B[0m     evaluator_kwargs\u001B[38;5;241m=\u001B[39mevaluator_kwargs,\n\u001B[0;32m   1543\u001B[0m     evaluation_kwargs\u001B[38;5;241m=\u001B[39mevaluation_kwargs,\n\u001B[0;32m   1544\u001B[0m )\n\u001B[1;32m-> 1546\u001B[0m stopper_instance, configuration, losses, train_seconds \u001B[38;5;241m=\u001B[39m \u001B[43m_handle_training\u001B[49m\u001B[43m(\u001B[49m\n\u001B[0;32m   1547\u001B[0m \u001B[43m    \u001B[49m\u001B[43m_result_tracker\u001B[49m\u001B[38;5;241;43m=\u001B[39;49m\u001B[43m_result_tracker\u001B[49m\u001B[43m,\u001B[49m\n\u001B[0;32m   1548\u001B[0m \u001B[43m    \u001B[49m\u001B[43mtraining\u001B[49m\u001B[38;5;241;43m=\u001B[39;49m\u001B[43mtraining\u001B[49m\u001B[43m,\u001B[49m\n\u001B[0;32m   1549\u001B[0m \u001B[43m    \u001B[49m\u001B[43mvalidation\u001B[49m\u001B[38;5;241;43m=\u001B[39;49m\u001B[43mvalidation\u001B[49m\u001B[43m,\u001B[49m\n\u001B[0;32m   1550\u001B[0m \u001B[43m    \u001B[49m\u001B[43mmodel_instance\u001B[49m\u001B[38;5;241;43m=\u001B[39;49m\u001B[43mmodel_instance\u001B[49m\u001B[43m,\u001B[49m\n\u001B[0;32m   1551\u001B[0m \u001B[43m    \u001B[49m\u001B[43mevaluator_instance\u001B[49m\u001B[38;5;241;43m=\u001B[39;49m\u001B[43mevaluator_instance\u001B[49m\u001B[43m,\u001B[49m\n\u001B[0;32m   1552\u001B[0m \u001B[43m    \u001B[49m\u001B[43mtraining_loop_instance\u001B[49m\u001B[38;5;241;43m=\u001B[39;49m\u001B[43mtraining_loop_instance\u001B[49m\u001B[43m,\u001B[49m\n\u001B[0;32m   1553\u001B[0m \u001B[43m    \u001B[49m\u001B[43mclear_optimizer\u001B[49m\u001B[38;5;241;43m=\u001B[39;49m\u001B[43mclear_optimizer\u001B[49m\u001B[43m,\u001B[49m\n\u001B[0;32m   1554\u001B[0m \u001B[43m    \u001B[49m\u001B[43mevaluation_kwargs\u001B[49m\u001B[38;5;241;43m=\u001B[39;49m\u001B[43mevaluation_kwargs\u001B[49m\u001B[43m,\u001B[49m\n\u001B[0;32m   1555\u001B[0m \u001B[43m    \u001B[49m\u001B[43mepochs\u001B[49m\u001B[38;5;241;43m=\u001B[39;49m\u001B[43mepochs\u001B[49m\u001B[43m,\u001B[49m\n\u001B[0;32m   1556\u001B[0m \u001B[43m    \u001B[49m\u001B[43mtraining_kwargs\u001B[49m\u001B[38;5;241;43m=\u001B[39;49m\u001B[43mtraining_kwargs\u001B[49m\u001B[43m,\u001B[49m\n\u001B[0;32m   1557\u001B[0m \u001B[43m    \u001B[49m\u001B[43mstopper\u001B[49m\u001B[38;5;241;43m=\u001B[39;49m\u001B[43mstopper\u001B[49m\u001B[43m,\u001B[49m\n\u001B[0;32m   1558\u001B[0m \u001B[43m    \u001B[49m\u001B[43mstopper_kwargs\u001B[49m\u001B[38;5;241;43m=\u001B[39;49m\u001B[43mstopper_kwargs\u001B[49m\u001B[43m,\u001B[49m\n\u001B[0;32m   1559\u001B[0m \u001B[43m    \u001B[49m\u001B[43muse_tqdm\u001B[49m\u001B[38;5;241;43m=\u001B[39;49m\u001B[43muse_tqdm\u001B[49m\u001B[43m,\u001B[49m\n\u001B[0;32m   1560\u001B[0m \u001B[43m\u001B[49m\u001B[43m)\u001B[49m\n\u001B[0;32m   1562\u001B[0m metric_results, evaluate_seconds \u001B[38;5;241m=\u001B[39m _handle_evaluation(\n\u001B[0;32m   1563\u001B[0m     _result_tracker\u001B[38;5;241m=\u001B[39m_result_tracker,\n\u001B[0;32m   1564\u001B[0m     model_instance\u001B[38;5;241m=\u001B[39mmodel_instance,\n\u001B[1;32m   (...)\u001B[0m\n\u001B[0;32m   1575\u001B[0m     use_tqdm\u001B[38;5;241m=\u001B[39muse_tqdm,\n\u001B[0;32m   1576\u001B[0m )\n\u001B[0;32m   1577\u001B[0m _result_tracker\u001B[38;5;241m.\u001B[39mend_run()\n",
      "File \u001B[1;32m~\\AppData\\Local\\Programs\\Python\\Python310\\lib\\site-packages\\pykeen\\pipeline\\api.py:1190\u001B[0m, in \u001B[0;36m_handle_training\u001B[1;34m(_result_tracker, training, validation, model_instance, evaluator_instance, training_loop_instance, clear_optimizer, evaluation_kwargs, epochs, training_kwargs, stopper, stopper_kwargs, use_tqdm)\u001B[0m\n\u001B[0;32m   1188\u001B[0m \u001B[38;5;66;03m# Train like Cristiano Ronaldo\u001B[39;00m\n\u001B[0;32m   1189\u001B[0m training_start_time \u001B[38;5;241m=\u001B[39m time\u001B[38;5;241m.\u001B[39mtime()\n\u001B[1;32m-> 1190\u001B[0m losses \u001B[38;5;241m=\u001B[39m training_loop_instance\u001B[38;5;241m.\u001B[39mtrain(\n\u001B[0;32m   1191\u001B[0m     triples_factory\u001B[38;5;241m=\u001B[39mtraining,\n\u001B[0;32m   1192\u001B[0m     stopper\u001B[38;5;241m=\u001B[39mstopper_instance,\n\u001B[0;32m   1193\u001B[0m     clear_optimizer\u001B[38;5;241m=\u001B[39mclear_optimizer,\n\u001B[0;32m   1194\u001B[0m     \u001B[38;5;241m*\u001B[39m\u001B[38;5;241m*\u001B[39mtraining_kwargs,\n\u001B[0;32m   1195\u001B[0m )\n\u001B[0;32m   1196\u001B[0m \u001B[38;5;28;01massert\u001B[39;00m losses \u001B[38;5;129;01mis\u001B[39;00m \u001B[38;5;129;01mnot\u001B[39;00m \u001B[38;5;28;01mNone\u001B[39;00m  \u001B[38;5;66;03m# losses is only none if it's doing search mode\u001B[39;00m\n\u001B[0;32m   1197\u001B[0m training_end_time \u001B[38;5;241m=\u001B[39m time\u001B[38;5;241m.\u001B[39mtime() \u001B[38;5;241m-\u001B[39m training_start_time\n",
      "File \u001B[1;32m~\\AppData\\Local\\Programs\\Python\\Python310\\lib\\site-packages\\pykeen\\training\\training_loop.py:378\u001B[0m, in \u001B[0;36mTrainingLoop.train\u001B[1;34m(self, triples_factory, num_epochs, batch_size, slice_size, label_smoothing, sampler, continue_training, only_size_probing, use_tqdm, use_tqdm_batch, tqdm_kwargs, stopper, sub_batch_size, num_workers, clear_optimizer, checkpoint_directory, checkpoint_name, checkpoint_frequency, checkpoint_on_failure, drop_last, callbacks, callback_kwargs, gradient_clipping_max_norm, gradient_clipping_norm_type, gradient_clipping_max_abs_value, pin_memory)\u001B[0m\n\u001B[0;32m    375\u001B[0m \u001B[38;5;28;01melse\u001B[39;00m:\n\u001B[0;32m    376\u001B[0m     \u001B[38;5;66;03m# send model to device before going into the internal training loop\u001B[39;00m\n\u001B[0;32m    377\u001B[0m     \u001B[38;5;28mself\u001B[39m\u001B[38;5;241m.\u001B[39mmodel \u001B[38;5;241m=\u001B[39m \u001B[38;5;28mself\u001B[39m\u001B[38;5;241m.\u001B[39mmodel\u001B[38;5;241m.\u001B[39mto(get_preferred_device(\u001B[38;5;28mself\u001B[39m\u001B[38;5;241m.\u001B[39mmodel, allow_ambiguity\u001B[38;5;241m=\u001B[39m\u001B[38;5;28;01mTrue\u001B[39;00m))\n\u001B[1;32m--> 378\u001B[0m     result \u001B[38;5;241m=\u001B[39m \u001B[38;5;28;43mself\u001B[39;49m\u001B[38;5;241;43m.\u001B[39;49m\u001B[43m_train\u001B[49m\u001B[43m(\u001B[49m\n\u001B[0;32m    379\u001B[0m \u001B[43m        \u001B[49m\u001B[43mnum_epochs\u001B[49m\u001B[38;5;241;43m=\u001B[39;49m\u001B[43mnum_epochs\u001B[49m\u001B[43m,\u001B[49m\n\u001B[0;32m    380\u001B[0m \u001B[43m        \u001B[49m\u001B[43mbatch_size\u001B[49m\u001B[38;5;241;43m=\u001B[39;49m\u001B[43mbatch_size\u001B[49m\u001B[43m,\u001B[49m\n\u001B[0;32m    381\u001B[0m \u001B[43m        \u001B[49m\u001B[43mslice_size\u001B[49m\u001B[38;5;241;43m=\u001B[39;49m\u001B[43mslice_size\u001B[49m\u001B[43m,\u001B[49m\n\u001B[0;32m    382\u001B[0m \u001B[43m        \u001B[49m\u001B[43mlabel_smoothing\u001B[49m\u001B[38;5;241;43m=\u001B[39;49m\u001B[43mlabel_smoothing\u001B[49m\u001B[43m,\u001B[49m\n\u001B[0;32m    383\u001B[0m \u001B[43m        \u001B[49m\u001B[43msampler\u001B[49m\u001B[38;5;241;43m=\u001B[39;49m\u001B[43msampler\u001B[49m\u001B[43m,\u001B[49m\n\u001B[0;32m    384\u001B[0m \u001B[43m        \u001B[49m\u001B[43mcontinue_training\u001B[49m\u001B[38;5;241;43m=\u001B[39;49m\u001B[43mcontinue_training\u001B[49m\u001B[43m,\u001B[49m\n\u001B[0;32m    385\u001B[0m \u001B[43m        \u001B[49m\u001B[43monly_size_probing\u001B[49m\u001B[38;5;241;43m=\u001B[39;49m\u001B[43monly_size_probing\u001B[49m\u001B[43m,\u001B[49m\n\u001B[0;32m    386\u001B[0m \u001B[43m        \u001B[49m\u001B[43muse_tqdm\u001B[49m\u001B[38;5;241;43m=\u001B[39;49m\u001B[43muse_tqdm\u001B[49m\u001B[43m,\u001B[49m\n\u001B[0;32m    387\u001B[0m \u001B[43m        \u001B[49m\u001B[43muse_tqdm_batch\u001B[49m\u001B[38;5;241;43m=\u001B[39;49m\u001B[43muse_tqdm_batch\u001B[49m\u001B[43m,\u001B[49m\n\u001B[0;32m    388\u001B[0m \u001B[43m        \u001B[49m\u001B[43mtqdm_kwargs\u001B[49m\u001B[38;5;241;43m=\u001B[39;49m\u001B[43mtqdm_kwargs\u001B[49m\u001B[43m,\u001B[49m\n\u001B[0;32m    389\u001B[0m \u001B[43m        \u001B[49m\u001B[43mstopper\u001B[49m\u001B[38;5;241;43m=\u001B[39;49m\u001B[43mstopper\u001B[49m\u001B[43m,\u001B[49m\n\u001B[0;32m    390\u001B[0m \u001B[43m        \u001B[49m\u001B[43msub_batch_size\u001B[49m\u001B[38;5;241;43m=\u001B[39;49m\u001B[43msub_batch_size\u001B[49m\u001B[43m,\u001B[49m\n\u001B[0;32m    391\u001B[0m \u001B[43m        \u001B[49m\u001B[43mnum_workers\u001B[49m\u001B[38;5;241;43m=\u001B[39;49m\u001B[43mnum_workers\u001B[49m\u001B[43m,\u001B[49m\n\u001B[0;32m    392\u001B[0m \u001B[43m        \u001B[49m\u001B[43msave_checkpoints\u001B[49m\u001B[38;5;241;43m=\u001B[39;49m\u001B[43msave_checkpoints\u001B[49m\u001B[43m,\u001B[49m\n\u001B[0;32m    393\u001B[0m \u001B[43m        \u001B[49m\u001B[43mcheckpoint_path\u001B[49m\u001B[38;5;241;43m=\u001B[39;49m\u001B[43mcheckpoint_path\u001B[49m\u001B[43m,\u001B[49m\n\u001B[0;32m    394\u001B[0m \u001B[43m        \u001B[49m\u001B[43mcheckpoint_frequency\u001B[49m\u001B[38;5;241;43m=\u001B[39;49m\u001B[43mcheckpoint_frequency\u001B[49m\u001B[43m,\u001B[49m\n\u001B[0;32m    395\u001B[0m \u001B[43m        \u001B[49m\u001B[43mcheckpoint_on_failure_file_path\u001B[49m\u001B[38;5;241;43m=\u001B[39;49m\u001B[43mcheckpoint_on_failure_file_path\u001B[49m\u001B[43m,\u001B[49m\n\u001B[0;32m    396\u001B[0m \u001B[43m        \u001B[49m\u001B[43mbest_epoch_model_file_path\u001B[49m\u001B[38;5;241;43m=\u001B[39;49m\u001B[43mbest_epoch_model_file_path\u001B[49m\u001B[43m,\u001B[49m\n\u001B[0;32m    397\u001B[0m \u001B[43m        \u001B[49m\u001B[43mlast_best_epoch\u001B[49m\u001B[38;5;241;43m=\u001B[39;49m\u001B[43mlast_best_epoch\u001B[49m\u001B[43m,\u001B[49m\n\u001B[0;32m    398\u001B[0m \u001B[43m        \u001B[49m\u001B[43mdrop_last\u001B[49m\u001B[38;5;241;43m=\u001B[39;49m\u001B[43mdrop_last\u001B[49m\u001B[43m,\u001B[49m\n\u001B[0;32m    399\u001B[0m \u001B[43m        \u001B[49m\u001B[43mcallbacks\u001B[49m\u001B[38;5;241;43m=\u001B[39;49m\u001B[43mcallbacks\u001B[49m\u001B[43m,\u001B[49m\n\u001B[0;32m    400\u001B[0m \u001B[43m        \u001B[49m\u001B[43mcallback_kwargs\u001B[49m\u001B[38;5;241;43m=\u001B[39;49m\u001B[43mcallback_kwargs\u001B[49m\u001B[43m,\u001B[49m\n\u001B[0;32m    401\u001B[0m \u001B[43m        \u001B[49m\u001B[43mgradient_clipping_max_norm\u001B[49m\u001B[38;5;241;43m=\u001B[39;49m\u001B[43mgradient_clipping_max_norm\u001B[49m\u001B[43m,\u001B[49m\n\u001B[0;32m    402\u001B[0m \u001B[43m        \u001B[49m\u001B[43mgradient_clipping_norm_type\u001B[49m\u001B[38;5;241;43m=\u001B[39;49m\u001B[43mgradient_clipping_norm_type\u001B[49m\u001B[43m,\u001B[49m\n\u001B[0;32m    403\u001B[0m \u001B[43m        \u001B[49m\u001B[43mgradient_clipping_max_abs_value\u001B[49m\u001B[38;5;241;43m=\u001B[39;49m\u001B[43mgradient_clipping_max_abs_value\u001B[49m\u001B[43m,\u001B[49m\n\u001B[0;32m    404\u001B[0m \u001B[43m        \u001B[49m\u001B[43mtriples_factory\u001B[49m\u001B[38;5;241;43m=\u001B[39;49m\u001B[43mtriples_factory\u001B[49m\u001B[43m,\u001B[49m\n\u001B[0;32m    405\u001B[0m \u001B[43m        \u001B[49m\u001B[43mpin_memory\u001B[49m\u001B[38;5;241;43m=\u001B[39;49m\u001B[43mpin_memory\u001B[49m\u001B[43m,\u001B[49m\n\u001B[0;32m    406\u001B[0m \u001B[43m    \u001B[49m\u001B[43m)\u001B[49m\n\u001B[0;32m    408\u001B[0m \u001B[38;5;66;03m# Ensure the release of memory\u001B[39;00m\n\u001B[0;32m    409\u001B[0m torch\u001B[38;5;241m.\u001B[39mcuda\u001B[38;5;241m.\u001B[39mempty_cache()\n",
      "File \u001B[1;32m~\\AppData\\Local\\Programs\\Python\\Python310\\lib\\site-packages\\pykeen\\training\\training_loop.py:643\u001B[0m, in \u001B[0;36mTrainingLoop._train\u001B[1;34m(self, triples_factory, num_epochs, batch_size, slice_size, label_smoothing, sampler, continue_training, only_size_probing, use_tqdm, use_tqdm_batch, tqdm_kwargs, stopper, sub_batch_size, num_workers, save_checkpoints, checkpoint_path, checkpoint_frequency, checkpoint_on_failure_file_path, best_epoch_model_file_path, last_best_epoch, drop_last, callbacks, callback_kwargs, gradient_clipping_max_norm, gradient_clipping_norm_type, gradient_clipping_max_abs_value, pin_memory)\u001B[0m\n\u001B[0;32m    640\u001B[0m stop \u001B[38;5;241m=\u001B[39m \u001B[38;5;28mmin\u001B[39m(start \u001B[38;5;241m+\u001B[39m _sub_batch_size, current_batch_size)\n\u001B[0;32m    642\u001B[0m \u001B[38;5;66;03m# forward pass call\u001B[39;00m\n\u001B[1;32m--> 643\u001B[0m batch_loss \u001B[38;5;241m=\u001B[39m \u001B[38;5;28;43mself\u001B[39;49m\u001B[38;5;241;43m.\u001B[39;49m\u001B[43m_forward_pass\u001B[49m\u001B[43m(\u001B[49m\n\u001B[0;32m    644\u001B[0m \u001B[43m    \u001B[49m\u001B[43mbatch\u001B[49m\u001B[43m,\u001B[49m\n\u001B[0;32m    645\u001B[0m \u001B[43m    \u001B[49m\u001B[43mstart\u001B[49m\u001B[43m,\u001B[49m\n\u001B[0;32m    646\u001B[0m \u001B[43m    \u001B[49m\u001B[43mstop\u001B[49m\u001B[43m,\u001B[49m\n\u001B[0;32m    647\u001B[0m \u001B[43m    \u001B[49m\u001B[43mcurrent_batch_size\u001B[49m\u001B[43m,\u001B[49m\n\u001B[0;32m    648\u001B[0m \u001B[43m    \u001B[49m\u001B[43mlabel_smoothing\u001B[49m\u001B[43m,\u001B[49m\n\u001B[0;32m    649\u001B[0m \u001B[43m    \u001B[49m\u001B[43mslice_size\u001B[49m\u001B[43m,\u001B[49m\n\u001B[0;32m    650\u001B[0m \u001B[43m\u001B[49m\u001B[43m)\u001B[49m\n\u001B[0;32m    651\u001B[0m current_epoch_loss \u001B[38;5;241m+\u001B[39m\u001B[38;5;241m=\u001B[39m batch_loss\n\u001B[0;32m    652\u001B[0m num_training_instances \u001B[38;5;241m+\u001B[39m\u001B[38;5;241m=\u001B[39m stop \u001B[38;5;241m-\u001B[39m start\n",
      "File \u001B[1;32m~\\AppData\\Local\\Programs\\Python\\Python310\\lib\\site-packages\\pykeen\\training\\training_loop.py:810\u001B[0m, in \u001B[0;36mTrainingLoop._forward_pass\u001B[1;34m(self, batch, start, stop, current_batch_size, label_smoothing, slice_size)\u001B[0m\n\u001B[0;32m    800\u001B[0m \u001B[38;5;28;01mdef\u001B[39;00m \u001B[38;5;21m_forward_pass\u001B[39m(\n\u001B[0;32m    801\u001B[0m     \u001B[38;5;28mself\u001B[39m,\n\u001B[0;32m    802\u001B[0m     batch: BatchType,\n\u001B[1;32m   (...)\u001B[0m\n\u001B[0;32m    808\u001B[0m ) \u001B[38;5;241m-\u001B[39m\u001B[38;5;241m>\u001B[39m \u001B[38;5;28mfloat\u001B[39m:\n\u001B[0;32m    809\u001B[0m     \u001B[38;5;66;03m# forward pass\u001B[39;00m\n\u001B[1;32m--> 810\u001B[0m     loss \u001B[38;5;241m=\u001B[39m \u001B[38;5;28;43mself\u001B[39;49m\u001B[38;5;241;43m.\u001B[39;49m\u001B[43m_process_batch\u001B[49m\u001B[43m(\u001B[49m\n\u001B[0;32m    811\u001B[0m \u001B[43m        \u001B[49m\u001B[43mbatch\u001B[49m\u001B[38;5;241;43m=\u001B[39;49m\u001B[43mbatch\u001B[49m\u001B[43m,\u001B[49m\n\u001B[0;32m    812\u001B[0m \u001B[43m        \u001B[49m\u001B[43mstart\u001B[49m\u001B[38;5;241;43m=\u001B[39;49m\u001B[43mstart\u001B[49m\u001B[43m,\u001B[49m\n\u001B[0;32m    813\u001B[0m \u001B[43m        \u001B[49m\u001B[43mstop\u001B[49m\u001B[38;5;241;43m=\u001B[39;49m\u001B[43mstop\u001B[49m\u001B[43m,\u001B[49m\n\u001B[0;32m    814\u001B[0m \u001B[43m        \u001B[49m\u001B[43mlabel_smoothing\u001B[49m\u001B[38;5;241;43m=\u001B[39;49m\u001B[43mlabel_smoothing\u001B[49m\u001B[43m,\u001B[49m\n\u001B[0;32m    815\u001B[0m \u001B[43m        \u001B[49m\u001B[43mslice_size\u001B[49m\u001B[38;5;241;43m=\u001B[39;49m\u001B[43mslice_size\u001B[49m\u001B[43m,\u001B[49m\n\u001B[0;32m    816\u001B[0m \u001B[43m    \u001B[49m\u001B[43m)\u001B[49m\n\u001B[0;32m    818\u001B[0m     \u001B[38;5;66;03m# raise error when non-finite loss occurs (NaN, +/-inf)\u001B[39;00m\n\u001B[0;32m    819\u001B[0m     \u001B[38;5;28;01mif\u001B[39;00m \u001B[38;5;129;01mnot\u001B[39;00m torch\u001B[38;5;241m.\u001B[39misfinite(loss):\n",
      "File \u001B[1;32m~\\AppData\\Local\\Programs\\Python\\Python310\\lib\\site-packages\\pykeen\\training\\slcwa.py:133\u001B[0m, in \u001B[0;36mSLCWATrainingLoop._process_batch\u001B[1;34m(self, batch, start, stop, label_smoothing, slice_size)\u001B[0m\n\u001B[0;32m    125\u001B[0m \u001B[38;5;28;01mdef\u001B[39;00m \u001B[38;5;21m_process_batch\u001B[39m(\n\u001B[0;32m    126\u001B[0m     \u001B[38;5;28mself\u001B[39m,\n\u001B[0;32m    127\u001B[0m     batch: SLCWABatch,\n\u001B[1;32m   (...)\u001B[0m\n\u001B[0;32m    131\u001B[0m     slice_size: Optional[\u001B[38;5;28mint\u001B[39m] \u001B[38;5;241m=\u001B[39m \u001B[38;5;28;01mNone\u001B[39;00m,\n\u001B[0;32m    132\u001B[0m ) \u001B[38;5;241m-\u001B[39m\u001B[38;5;241m>\u001B[39m torch\u001B[38;5;241m.\u001B[39mFloatTensor:  \u001B[38;5;66;03m# noqa: D102\u001B[39;00m\n\u001B[1;32m--> 133\u001B[0m     \u001B[38;5;28;01mreturn\u001B[39;00m \u001B[38;5;28;43mself\u001B[39;49m\u001B[38;5;241;43m.\u001B[39;49m\u001B[43m_process_batch_static\u001B[49m\u001B[43m(\u001B[49m\n\u001B[0;32m    134\u001B[0m \u001B[43m        \u001B[49m\u001B[43mmodel\u001B[49m\u001B[38;5;241;43m=\u001B[39;49m\u001B[38;5;28;43mself\u001B[39;49m\u001B[38;5;241;43m.\u001B[39;49m\u001B[43mmodel\u001B[49m\u001B[43m,\u001B[49m\n\u001B[0;32m    135\u001B[0m \u001B[43m        \u001B[49m\u001B[43mloss\u001B[49m\u001B[38;5;241;43m=\u001B[39;49m\u001B[38;5;28;43mself\u001B[39;49m\u001B[38;5;241;43m.\u001B[39;49m\u001B[43mloss\u001B[49m\u001B[43m,\u001B[49m\n\u001B[0;32m    136\u001B[0m \u001B[43m        \u001B[49m\u001B[43mmode\u001B[49m\u001B[38;5;241;43m=\u001B[39;49m\u001B[38;5;28;43mself\u001B[39;49m\u001B[38;5;241;43m.\u001B[39;49m\u001B[43mmode\u001B[49m\u001B[43m,\u001B[49m\n\u001B[0;32m    137\u001B[0m \u001B[43m        \u001B[49m\u001B[43mbatch\u001B[49m\u001B[38;5;241;43m=\u001B[39;49m\u001B[43mbatch\u001B[49m\u001B[43m,\u001B[49m\n\u001B[0;32m    138\u001B[0m \u001B[43m        \u001B[49m\u001B[43mstart\u001B[49m\u001B[38;5;241;43m=\u001B[39;49m\u001B[43mstart\u001B[49m\u001B[43m,\u001B[49m\n\u001B[0;32m    139\u001B[0m \u001B[43m        \u001B[49m\u001B[43mstop\u001B[49m\u001B[38;5;241;43m=\u001B[39;49m\u001B[43mstop\u001B[49m\u001B[43m,\u001B[49m\n\u001B[0;32m    140\u001B[0m \u001B[43m        \u001B[49m\u001B[43mlabel_smoothing\u001B[49m\u001B[38;5;241;43m=\u001B[39;49m\u001B[43mlabel_smoothing\u001B[49m\u001B[43m,\u001B[49m\n\u001B[0;32m    141\u001B[0m \u001B[43m        \u001B[49m\u001B[43mslice_size\u001B[49m\u001B[38;5;241;43m=\u001B[39;49m\u001B[43mslice_size\u001B[49m\u001B[43m,\u001B[49m\n\u001B[0;32m    142\u001B[0m \u001B[43m    \u001B[49m\u001B[43m)\u001B[49m\n",
      "File \u001B[1;32m~\\AppData\\Local\\Programs\\Python\\Python310\\lib\\site-packages\\pykeen\\training\\slcwa.py:111\u001B[0m, in \u001B[0;36mSLCWATrainingLoop._process_batch_static\u001B[1;34m(model, loss, mode, batch, start, stop, label_smoothing, slice_size)\u001B[0m\n\u001B[0;32m    109\u001B[0m \u001B[38;5;66;03m# Compute negative and positive scores\u001B[39;00m\n\u001B[0;32m    110\u001B[0m positive_scores \u001B[38;5;241m=\u001B[39m model\u001B[38;5;241m.\u001B[39mscore_hrt(positive_batch, mode\u001B[38;5;241m=\u001B[39mmode)\n\u001B[1;32m--> 111\u001B[0m negative_scores \u001B[38;5;241m=\u001B[39m \u001B[43mmodel\u001B[49m\u001B[38;5;241;43m.\u001B[39;49m\u001B[43mscore_hrt\u001B[49m\u001B[43m(\u001B[49m\u001B[43mnegative_batch\u001B[49m\u001B[43m,\u001B[49m\u001B[43m \u001B[49m\u001B[43mmode\u001B[49m\u001B[38;5;241;43m=\u001B[39;49m\u001B[43mmode\u001B[49m\u001B[43m)\u001B[49m\u001B[38;5;241m.\u001B[39mview(\u001B[38;5;241m*\u001B[39mnegative_score_shape)\n\u001B[0;32m    113\u001B[0m \u001B[38;5;28;01mreturn\u001B[39;00m (\n\u001B[0;32m    114\u001B[0m     loss\u001B[38;5;241m.\u001B[39mprocess_slcwa_scores(\n\u001B[0;32m    115\u001B[0m         positive_scores\u001B[38;5;241m=\u001B[39mpositive_scores,\n\u001B[1;32m   (...)\u001B[0m\n\u001B[0;32m    121\u001B[0m     \u001B[38;5;241m+\u001B[39m model\u001B[38;5;241m.\u001B[39mcollect_regularization_term()\n\u001B[0;32m    122\u001B[0m )\n",
      "File \u001B[1;32m~\\AppData\\Local\\Programs\\Python\\Python310\\lib\\site-packages\\pykeen\\models\\nbase.py:476\u001B[0m, in \u001B[0;36mERModel.score_hrt\u001B[1;34m(self, hrt_batch, mode)\u001B[0m\n\u001B[0;32m    459\u001B[0m \u001B[38;5;250m\u001B[39m\u001B[38;5;124;03m\"\"\"Forward pass.\u001B[39;00m\n\u001B[0;32m    460\u001B[0m \n\u001B[0;32m    461\u001B[0m \u001B[38;5;124;03mThis method takes head, relation and tail of each triple and calculates the corresponding score.\u001B[39;00m\n\u001B[1;32m   (...)\u001B[0m\n\u001B[0;32m    470\u001B[0m \u001B[38;5;124;03m    The score for each triple.\u001B[39;00m\n\u001B[0;32m    471\u001B[0m \u001B[38;5;124;03m\"\"\"\u001B[39;00m\n\u001B[0;32m    472\u001B[0m \u001B[38;5;66;03m# Note: slicing cannot be used here: the indices for score_hrt only have a batch\u001B[39;00m\n\u001B[0;32m    473\u001B[0m \u001B[38;5;66;03m# dimension, and slicing along this dimension is already considered by sub-batching.\u001B[39;00m\n\u001B[0;32m    474\u001B[0m \u001B[38;5;66;03m# Note: we do not delegate to the general method for performance reasons\u001B[39;00m\n\u001B[0;32m    475\u001B[0m \u001B[38;5;66;03m# Note: repetition is not necessary here\u001B[39;00m\n\u001B[1;32m--> 476\u001B[0m h, r, t \u001B[38;5;241m=\u001B[39m \u001B[38;5;28;43mself\u001B[39;49m\u001B[38;5;241;43m.\u001B[39;49m\u001B[43m_get_representations\u001B[49m\u001B[43m(\u001B[49m\u001B[43mh\u001B[49m\u001B[38;5;241;43m=\u001B[39;49m\u001B[43mhrt_batch\u001B[49m\u001B[43m[\u001B[49m\u001B[43m:\u001B[49m\u001B[43m,\u001B[49m\u001B[43m \u001B[49m\u001B[38;5;241;43m0\u001B[39;49m\u001B[43m]\u001B[49m\u001B[43m,\u001B[49m\u001B[43m \u001B[49m\u001B[43mr\u001B[49m\u001B[38;5;241;43m=\u001B[39;49m\u001B[43mhrt_batch\u001B[49m\u001B[43m[\u001B[49m\u001B[43m:\u001B[49m\u001B[43m,\u001B[49m\u001B[43m \u001B[49m\u001B[38;5;241;43m1\u001B[39;49m\u001B[43m]\u001B[49m\u001B[43m,\u001B[49m\u001B[43m \u001B[49m\u001B[43mt\u001B[49m\u001B[38;5;241;43m=\u001B[39;49m\u001B[43mhrt_batch\u001B[49m\u001B[43m[\u001B[49m\u001B[43m:\u001B[49m\u001B[43m,\u001B[49m\u001B[43m \u001B[49m\u001B[38;5;241;43m2\u001B[39;49m\u001B[43m]\u001B[49m\u001B[43m,\u001B[49m\u001B[43m \u001B[49m\u001B[43mmode\u001B[49m\u001B[38;5;241;43m=\u001B[39;49m\u001B[43mmode\u001B[49m\u001B[43m)\u001B[49m\n\u001B[0;32m    477\u001B[0m \u001B[38;5;28;01mreturn\u001B[39;00m \u001B[38;5;28mself\u001B[39m\u001B[38;5;241m.\u001B[39minteraction\u001B[38;5;241m.\u001B[39mscore_hrt(h\u001B[38;5;241m=\u001B[39mh, r\u001B[38;5;241m=\u001B[39mr, t\u001B[38;5;241m=\u001B[39mt)\n",
      "File \u001B[1;32m~\\AppData\\Local\\Programs\\Python\\Python310\\lib\\site-packages\\pykeen\\models\\nbase.py:604\u001B[0m, in \u001B[0;36mERModel._get_representations\u001B[1;34m(self, h, r, t, mode)\u001B[0m\n\u001B[0;32m    602\u001B[0m head_representations \u001B[38;5;241m=\u001B[39m [head_representations[i] \u001B[38;5;28;01mfor\u001B[39;00m i \u001B[38;5;129;01min\u001B[39;00m \u001B[38;5;28mself\u001B[39m\u001B[38;5;241m.\u001B[39minteraction\u001B[38;5;241m.\u001B[39mhead_indices()]\n\u001B[0;32m    603\u001B[0m tail_representations \u001B[38;5;241m=\u001B[39m [tail_representations[i] \u001B[38;5;28;01mfor\u001B[39;00m i \u001B[38;5;129;01min\u001B[39;00m \u001B[38;5;28mself\u001B[39m\u001B[38;5;241m.\u001B[39minteraction\u001B[38;5;241m.\u001B[39mtail_indices()]\n\u001B[1;32m--> 604\u001B[0m hr, rr, tr \u001B[38;5;241m=\u001B[39m [\n\u001B[0;32m    605\u001B[0m     [representation(indices\u001B[38;5;241m=\u001B[39mindices) \u001B[38;5;28;01mfor\u001B[39;00m representation \u001B[38;5;129;01min\u001B[39;00m representations]\n\u001B[0;32m    606\u001B[0m     \u001B[38;5;28;01mfor\u001B[39;00m indices, representations \u001B[38;5;129;01min\u001B[39;00m (\n\u001B[0;32m    607\u001B[0m         (h, head_representations),\n\u001B[0;32m    608\u001B[0m         (r, \u001B[38;5;28mself\u001B[39m\u001B[38;5;241m.\u001B[39mrelation_representations),\n\u001B[0;32m    609\u001B[0m         (t, tail_representations),\n\u001B[0;32m    610\u001B[0m     )\n\u001B[0;32m    611\u001B[0m ]\n\u001B[0;32m    612\u001B[0m \u001B[38;5;66;03m# normalization\u001B[39;00m\n\u001B[0;32m    613\u001B[0m \u001B[38;5;28;01mreturn\u001B[39;00m cast(\n\u001B[0;32m    614\u001B[0m     Tuple[HeadRepresentation, RelationRepresentation, TailRepresentation],\n\u001B[0;32m    615\u001B[0m     \u001B[38;5;28mtuple\u001B[39m(x[\u001B[38;5;241m0\u001B[39m] \u001B[38;5;28;01mif\u001B[39;00m \u001B[38;5;28mlen\u001B[39m(x) \u001B[38;5;241m==\u001B[39m \u001B[38;5;241m1\u001B[39m \u001B[38;5;28;01melse\u001B[39;00m x \u001B[38;5;28;01mfor\u001B[39;00m x \u001B[38;5;129;01min\u001B[39;00m (hr, rr, tr)),\n\u001B[0;32m    616\u001B[0m )\n",
      "File \u001B[1;32m~\\AppData\\Local\\Programs\\Python\\Python310\\lib\\site-packages\\pykeen\\models\\nbase.py:605\u001B[0m, in \u001B[0;36m<listcomp>\u001B[1;34m(.0)\u001B[0m\n\u001B[0;32m    602\u001B[0m head_representations \u001B[38;5;241m=\u001B[39m [head_representations[i] \u001B[38;5;28;01mfor\u001B[39;00m i \u001B[38;5;129;01min\u001B[39;00m \u001B[38;5;28mself\u001B[39m\u001B[38;5;241m.\u001B[39minteraction\u001B[38;5;241m.\u001B[39mhead_indices()]\n\u001B[0;32m    603\u001B[0m tail_representations \u001B[38;5;241m=\u001B[39m [tail_representations[i] \u001B[38;5;28;01mfor\u001B[39;00m i \u001B[38;5;129;01min\u001B[39;00m \u001B[38;5;28mself\u001B[39m\u001B[38;5;241m.\u001B[39minteraction\u001B[38;5;241m.\u001B[39mtail_indices()]\n\u001B[0;32m    604\u001B[0m hr, rr, tr \u001B[38;5;241m=\u001B[39m [\n\u001B[1;32m--> 605\u001B[0m     [representation(indices\u001B[38;5;241m=\u001B[39mindices) \u001B[38;5;28;01mfor\u001B[39;00m representation \u001B[38;5;129;01min\u001B[39;00m representations]\n\u001B[0;32m    606\u001B[0m     \u001B[38;5;28;01mfor\u001B[39;00m indices, representations \u001B[38;5;129;01min\u001B[39;00m (\n\u001B[0;32m    607\u001B[0m         (h, head_representations),\n\u001B[0;32m    608\u001B[0m         (r, \u001B[38;5;28mself\u001B[39m\u001B[38;5;241m.\u001B[39mrelation_representations),\n\u001B[0;32m    609\u001B[0m         (t, tail_representations),\n\u001B[0;32m    610\u001B[0m     )\n\u001B[0;32m    611\u001B[0m ]\n\u001B[0;32m    612\u001B[0m \u001B[38;5;66;03m# normalization\u001B[39;00m\n\u001B[0;32m    613\u001B[0m \u001B[38;5;28;01mreturn\u001B[39;00m cast(\n\u001B[0;32m    614\u001B[0m     Tuple[HeadRepresentation, RelationRepresentation, TailRepresentation],\n\u001B[0;32m    615\u001B[0m     \u001B[38;5;28mtuple\u001B[39m(x[\u001B[38;5;241m0\u001B[39m] \u001B[38;5;28;01mif\u001B[39;00m \u001B[38;5;28mlen\u001B[39m(x) \u001B[38;5;241m==\u001B[39m \u001B[38;5;241m1\u001B[39m \u001B[38;5;28;01melse\u001B[39;00m x \u001B[38;5;28;01mfor\u001B[39;00m x \u001B[38;5;129;01min\u001B[39;00m (hr, rr, tr)),\n\u001B[0;32m    616\u001B[0m )\n",
      "File \u001B[1;32m~\\AppData\\Local\\Programs\\Python\\Python310\\lib\\site-packages\\pykeen\\models\\nbase.py:605\u001B[0m, in \u001B[0;36m<listcomp>\u001B[1;34m(.0)\u001B[0m\n\u001B[0;32m    602\u001B[0m head_representations \u001B[38;5;241m=\u001B[39m [head_representations[i] \u001B[38;5;28;01mfor\u001B[39;00m i \u001B[38;5;129;01min\u001B[39;00m \u001B[38;5;28mself\u001B[39m\u001B[38;5;241m.\u001B[39minteraction\u001B[38;5;241m.\u001B[39mhead_indices()]\n\u001B[0;32m    603\u001B[0m tail_representations \u001B[38;5;241m=\u001B[39m [tail_representations[i] \u001B[38;5;28;01mfor\u001B[39;00m i \u001B[38;5;129;01min\u001B[39;00m \u001B[38;5;28mself\u001B[39m\u001B[38;5;241m.\u001B[39minteraction\u001B[38;5;241m.\u001B[39mtail_indices()]\n\u001B[0;32m    604\u001B[0m hr, rr, tr \u001B[38;5;241m=\u001B[39m [\n\u001B[1;32m--> 605\u001B[0m     [\u001B[43mrepresentation\u001B[49m\u001B[43m(\u001B[49m\u001B[43mindices\u001B[49m\u001B[38;5;241;43m=\u001B[39;49m\u001B[43mindices\u001B[49m\u001B[43m)\u001B[49m \u001B[38;5;28;01mfor\u001B[39;00m representation \u001B[38;5;129;01min\u001B[39;00m representations]\n\u001B[0;32m    606\u001B[0m     \u001B[38;5;28;01mfor\u001B[39;00m indices, representations \u001B[38;5;129;01min\u001B[39;00m (\n\u001B[0;32m    607\u001B[0m         (h, head_representations),\n\u001B[0;32m    608\u001B[0m         (r, \u001B[38;5;28mself\u001B[39m\u001B[38;5;241m.\u001B[39mrelation_representations),\n\u001B[0;32m    609\u001B[0m         (t, tail_representations),\n\u001B[0;32m    610\u001B[0m     )\n\u001B[0;32m    611\u001B[0m ]\n\u001B[0;32m    612\u001B[0m \u001B[38;5;66;03m# normalization\u001B[39;00m\n\u001B[0;32m    613\u001B[0m \u001B[38;5;28;01mreturn\u001B[39;00m cast(\n\u001B[0;32m    614\u001B[0m     Tuple[HeadRepresentation, RelationRepresentation, TailRepresentation],\n\u001B[0;32m    615\u001B[0m     \u001B[38;5;28mtuple\u001B[39m(x[\u001B[38;5;241m0\u001B[39m] \u001B[38;5;28;01mif\u001B[39;00m \u001B[38;5;28mlen\u001B[39m(x) \u001B[38;5;241m==\u001B[39m \u001B[38;5;241m1\u001B[39m \u001B[38;5;28;01melse\u001B[39;00m x \u001B[38;5;28;01mfor\u001B[39;00m x \u001B[38;5;129;01min\u001B[39;00m (hr, rr, tr)),\n\u001B[0;32m    616\u001B[0m )\n",
      "File \u001B[1;32m~\\AppData\\Local\\Programs\\Python\\Python310\\lib\\site-packages\\torch\\nn\\modules\\module.py:1518\u001B[0m, in \u001B[0;36mModule._wrapped_call_impl\u001B[1;34m(self, *args, **kwargs)\u001B[0m\n\u001B[0;32m   1516\u001B[0m     \u001B[38;5;28;01mreturn\u001B[39;00m \u001B[38;5;28mself\u001B[39m\u001B[38;5;241m.\u001B[39m_compiled_call_impl(\u001B[38;5;241m*\u001B[39margs, \u001B[38;5;241m*\u001B[39m\u001B[38;5;241m*\u001B[39mkwargs)  \u001B[38;5;66;03m# type: ignore[misc]\u001B[39;00m\n\u001B[0;32m   1517\u001B[0m \u001B[38;5;28;01melse\u001B[39;00m:\n\u001B[1;32m-> 1518\u001B[0m     \u001B[38;5;28;01mreturn\u001B[39;00m \u001B[38;5;28mself\u001B[39m\u001B[38;5;241m.\u001B[39m_call_impl(\u001B[38;5;241m*\u001B[39margs, \u001B[38;5;241m*\u001B[39m\u001B[38;5;241m*\u001B[39mkwargs)\n",
      "File \u001B[1;32m~\\AppData\\Local\\Programs\\Python\\Python310\\lib\\site-packages\\torch\\nn\\modules\\module.py:1527\u001B[0m, in \u001B[0;36mModule._call_impl\u001B[1;34m(self, *args, **kwargs)\u001B[0m\n\u001B[0;32m   1522\u001B[0m \u001B[38;5;66;03m# If we don't have any hooks, we want to skip the rest of the logic in\u001B[39;00m\n\u001B[0;32m   1523\u001B[0m \u001B[38;5;66;03m# this function, and just call forward.\u001B[39;00m\n\u001B[0;32m   1524\u001B[0m \u001B[38;5;28;01mif\u001B[39;00m \u001B[38;5;129;01mnot\u001B[39;00m (\u001B[38;5;28mself\u001B[39m\u001B[38;5;241m.\u001B[39m_backward_hooks \u001B[38;5;129;01mor\u001B[39;00m \u001B[38;5;28mself\u001B[39m\u001B[38;5;241m.\u001B[39m_backward_pre_hooks \u001B[38;5;129;01mor\u001B[39;00m \u001B[38;5;28mself\u001B[39m\u001B[38;5;241m.\u001B[39m_forward_hooks \u001B[38;5;129;01mor\u001B[39;00m \u001B[38;5;28mself\u001B[39m\u001B[38;5;241m.\u001B[39m_forward_pre_hooks\n\u001B[0;32m   1525\u001B[0m         \u001B[38;5;129;01mor\u001B[39;00m _global_backward_pre_hooks \u001B[38;5;129;01mor\u001B[39;00m _global_backward_hooks\n\u001B[0;32m   1526\u001B[0m         \u001B[38;5;129;01mor\u001B[39;00m _global_forward_hooks \u001B[38;5;129;01mor\u001B[39;00m _global_forward_pre_hooks):\n\u001B[1;32m-> 1527\u001B[0m     \u001B[38;5;28;01mreturn\u001B[39;00m forward_call(\u001B[38;5;241m*\u001B[39margs, \u001B[38;5;241m*\u001B[39m\u001B[38;5;241m*\u001B[39mkwargs)\n\u001B[0;32m   1529\u001B[0m \u001B[38;5;28;01mtry\u001B[39;00m:\n\u001B[0;32m   1530\u001B[0m     result \u001B[38;5;241m=\u001B[39m \u001B[38;5;28;01mNone\u001B[39;00m\n",
      "File \u001B[1;32m~\\AppData\\Local\\Programs\\Python\\Python310\\lib\\site-packages\\pykeen\\nn\\representation.py:182\u001B[0m, in \u001B[0;36mRepresentation.forward\u001B[1;34m(self, indices)\u001B[0m\n\u001B[0;32m    180\u001B[0m \u001B[38;5;28;01mif\u001B[39;00m indices \u001B[38;5;129;01mis\u001B[39;00m \u001B[38;5;129;01mnot\u001B[39;00m \u001B[38;5;28;01mNone\u001B[39;00m \u001B[38;5;129;01mand\u001B[39;00m \u001B[38;5;28mself\u001B[39m\u001B[38;5;241m.\u001B[39munique:\n\u001B[0;32m    181\u001B[0m     indices, inverse \u001B[38;5;241m=\u001B[39m indices\u001B[38;5;241m.\u001B[39munique(return_inverse\u001B[38;5;241m=\u001B[39m\u001B[38;5;28;01mTrue\u001B[39;00m)\n\u001B[1;32m--> 182\u001B[0m x \u001B[38;5;241m=\u001B[39m \u001B[38;5;28;43mself\u001B[39;49m\u001B[38;5;241;43m.\u001B[39;49m\u001B[43m_plain_forward\u001B[49m\u001B[43m(\u001B[49m\u001B[43mindices\u001B[49m\u001B[38;5;241;43m=\u001B[39;49m\u001B[43mindices\u001B[49m\u001B[43m)\u001B[49m\n\u001B[0;32m    183\u001B[0m \u001B[38;5;66;03m# normalize *before* repeating\u001B[39;00m\n\u001B[0;32m    184\u001B[0m \u001B[38;5;28;01mif\u001B[39;00m \u001B[38;5;28mself\u001B[39m\u001B[38;5;241m.\u001B[39mnormalizer \u001B[38;5;129;01mis\u001B[39;00m \u001B[38;5;129;01mnot\u001B[39;00m \u001B[38;5;28;01mNone\u001B[39;00m:\n",
      "File \u001B[1;32m~\\AppData\\Local\\Programs\\Python\\Python310\\lib\\site-packages\\pykeen\\nn\\representation.py:426\u001B[0m, in \u001B[0;36mEmbedding._plain_forward\u001B[1;34m(self, indices)\u001B[0m\n\u001B[0;32m    424\u001B[0m \u001B[38;5;28;01melse\u001B[39;00m:\n\u001B[0;32m    425\u001B[0m     prefix_shape \u001B[38;5;241m=\u001B[39m indices\u001B[38;5;241m.\u001B[39mshape\n\u001B[1;32m--> 426\u001B[0m     x \u001B[38;5;241m=\u001B[39m \u001B[38;5;28;43mself\u001B[39;49m\u001B[38;5;241;43m.\u001B[39;49m\u001B[43m_embeddings\u001B[49m\u001B[43m(\u001B[49m\u001B[43mindices\u001B[49m\u001B[38;5;241;43m.\u001B[39;49m\u001B[43mto\u001B[49m\u001B[43m(\u001B[49m\u001B[38;5;28;43mself\u001B[39;49m\u001B[38;5;241;43m.\u001B[39;49m\u001B[43mdevice\u001B[49m\u001B[43m)\u001B[49m\u001B[43m)\u001B[49m\n\u001B[0;32m    427\u001B[0m x \u001B[38;5;241m=\u001B[39m x\u001B[38;5;241m.\u001B[39mview(\u001B[38;5;241m*\u001B[39mprefix_shape, \u001B[38;5;241m*\u001B[39m\u001B[38;5;28mself\u001B[39m\u001B[38;5;241m.\u001B[39m_shape)\n\u001B[0;32m    428\u001B[0m \u001B[38;5;66;03m# fixme: work-around until nn.Embedding supports complex\u001B[39;00m\n",
      "File \u001B[1;32m~\\AppData\\Local\\Programs\\Python\\Python310\\lib\\site-packages\\torch\\nn\\modules\\module.py:1518\u001B[0m, in \u001B[0;36mModule._wrapped_call_impl\u001B[1;34m(self, *args, **kwargs)\u001B[0m\n\u001B[0;32m   1516\u001B[0m     \u001B[38;5;28;01mreturn\u001B[39;00m \u001B[38;5;28mself\u001B[39m\u001B[38;5;241m.\u001B[39m_compiled_call_impl(\u001B[38;5;241m*\u001B[39margs, \u001B[38;5;241m*\u001B[39m\u001B[38;5;241m*\u001B[39mkwargs)  \u001B[38;5;66;03m# type: ignore[misc]\u001B[39;00m\n\u001B[0;32m   1517\u001B[0m \u001B[38;5;28;01melse\u001B[39;00m:\n\u001B[1;32m-> 1518\u001B[0m     \u001B[38;5;28;01mreturn\u001B[39;00m \u001B[38;5;28mself\u001B[39m\u001B[38;5;241m.\u001B[39m_call_impl(\u001B[38;5;241m*\u001B[39margs, \u001B[38;5;241m*\u001B[39m\u001B[38;5;241m*\u001B[39mkwargs)\n",
      "File \u001B[1;32m~\\AppData\\Local\\Programs\\Python\\Python310\\lib\\site-packages\\torch\\nn\\modules\\module.py:1527\u001B[0m, in \u001B[0;36mModule._call_impl\u001B[1;34m(self, *args, **kwargs)\u001B[0m\n\u001B[0;32m   1522\u001B[0m \u001B[38;5;66;03m# If we don't have any hooks, we want to skip the rest of the logic in\u001B[39;00m\n\u001B[0;32m   1523\u001B[0m \u001B[38;5;66;03m# this function, and just call forward.\u001B[39;00m\n\u001B[0;32m   1524\u001B[0m \u001B[38;5;28;01mif\u001B[39;00m \u001B[38;5;129;01mnot\u001B[39;00m (\u001B[38;5;28mself\u001B[39m\u001B[38;5;241m.\u001B[39m_backward_hooks \u001B[38;5;129;01mor\u001B[39;00m \u001B[38;5;28mself\u001B[39m\u001B[38;5;241m.\u001B[39m_backward_pre_hooks \u001B[38;5;129;01mor\u001B[39;00m \u001B[38;5;28mself\u001B[39m\u001B[38;5;241m.\u001B[39m_forward_hooks \u001B[38;5;129;01mor\u001B[39;00m \u001B[38;5;28mself\u001B[39m\u001B[38;5;241m.\u001B[39m_forward_pre_hooks\n\u001B[0;32m   1525\u001B[0m         \u001B[38;5;129;01mor\u001B[39;00m _global_backward_pre_hooks \u001B[38;5;129;01mor\u001B[39;00m _global_backward_hooks\n\u001B[0;32m   1526\u001B[0m         \u001B[38;5;129;01mor\u001B[39;00m _global_forward_hooks \u001B[38;5;129;01mor\u001B[39;00m _global_forward_pre_hooks):\n\u001B[1;32m-> 1527\u001B[0m     \u001B[38;5;28;01mreturn\u001B[39;00m forward_call(\u001B[38;5;241m*\u001B[39margs, \u001B[38;5;241m*\u001B[39m\u001B[38;5;241m*\u001B[39mkwargs)\n\u001B[0;32m   1529\u001B[0m \u001B[38;5;28;01mtry\u001B[39;00m:\n\u001B[0;32m   1530\u001B[0m     result \u001B[38;5;241m=\u001B[39m \u001B[38;5;28;01mNone\u001B[39;00m\n",
      "File \u001B[1;32m~\\AppData\\Local\\Programs\\Python\\Python310\\lib\\site-packages\\torch\\nn\\modules\\sparse.py:162\u001B[0m, in \u001B[0;36mEmbedding.forward\u001B[1;34m(self, input)\u001B[0m\n\u001B[0;32m    161\u001B[0m \u001B[38;5;28;01mdef\u001B[39;00m \u001B[38;5;21mforward\u001B[39m(\u001B[38;5;28mself\u001B[39m, \u001B[38;5;28minput\u001B[39m: Tensor) \u001B[38;5;241m-\u001B[39m\u001B[38;5;241m>\u001B[39m Tensor:\n\u001B[1;32m--> 162\u001B[0m     \u001B[38;5;28;01mreturn\u001B[39;00m \u001B[43mF\u001B[49m\u001B[38;5;241;43m.\u001B[39;49m\u001B[43membedding\u001B[49m\u001B[43m(\u001B[49m\n\u001B[0;32m    163\u001B[0m \u001B[43m        \u001B[49m\u001B[38;5;28;43minput\u001B[39;49m\u001B[43m,\u001B[49m\u001B[43m \u001B[49m\u001B[38;5;28;43mself\u001B[39;49m\u001B[38;5;241;43m.\u001B[39;49m\u001B[43mweight\u001B[49m\u001B[43m,\u001B[49m\u001B[43m \u001B[49m\u001B[38;5;28;43mself\u001B[39;49m\u001B[38;5;241;43m.\u001B[39;49m\u001B[43mpadding_idx\u001B[49m\u001B[43m,\u001B[49m\u001B[43m \u001B[49m\u001B[38;5;28;43mself\u001B[39;49m\u001B[38;5;241;43m.\u001B[39;49m\u001B[43mmax_norm\u001B[49m\u001B[43m,\u001B[49m\n\u001B[0;32m    164\u001B[0m \u001B[43m        \u001B[49m\u001B[38;5;28;43mself\u001B[39;49m\u001B[38;5;241;43m.\u001B[39;49m\u001B[43mnorm_type\u001B[49m\u001B[43m,\u001B[49m\u001B[43m \u001B[49m\u001B[38;5;28;43mself\u001B[39;49m\u001B[38;5;241;43m.\u001B[39;49m\u001B[43mscale_grad_by_freq\u001B[49m\u001B[43m,\u001B[49m\u001B[43m \u001B[49m\u001B[38;5;28;43mself\u001B[39;49m\u001B[38;5;241;43m.\u001B[39;49m\u001B[43msparse\u001B[49m\u001B[43m)\u001B[49m\n",
      "File \u001B[1;32m~\\AppData\\Local\\Programs\\Python\\Python310\\lib\\site-packages\\torch\\nn\\functional.py:2233\u001B[0m, in \u001B[0;36membedding\u001B[1;34m(input, weight, padding_idx, max_norm, norm_type, scale_grad_by_freq, sparse)\u001B[0m\n\u001B[0;32m   2227\u001B[0m     \u001B[38;5;66;03m# Note [embedding_renorm set_grad_enabled]\u001B[39;00m\n\u001B[0;32m   2228\u001B[0m     \u001B[38;5;66;03m# XXX: equivalent to\u001B[39;00m\n\u001B[0;32m   2229\u001B[0m     \u001B[38;5;66;03m# with torch.no_grad():\u001B[39;00m\n\u001B[0;32m   2230\u001B[0m     \u001B[38;5;66;03m#   torch.embedding_renorm_\u001B[39;00m\n\u001B[0;32m   2231\u001B[0m     \u001B[38;5;66;03m# remove once script supports set_grad_enabled\u001B[39;00m\n\u001B[0;32m   2232\u001B[0m     _no_grad_embedding_renorm_(weight, \u001B[38;5;28minput\u001B[39m, max_norm, norm_type)\n\u001B[1;32m-> 2233\u001B[0m \u001B[38;5;28;01mreturn\u001B[39;00m \u001B[43mtorch\u001B[49m\u001B[38;5;241;43m.\u001B[39;49m\u001B[43membedding\u001B[49m\u001B[43m(\u001B[49m\u001B[43mweight\u001B[49m\u001B[43m,\u001B[49m\u001B[43m \u001B[49m\u001B[38;5;28;43minput\u001B[39;49m\u001B[43m,\u001B[49m\u001B[43m \u001B[49m\u001B[43mpadding_idx\u001B[49m\u001B[43m,\u001B[49m\u001B[43m \u001B[49m\u001B[43mscale_grad_by_freq\u001B[49m\u001B[43m,\u001B[49m\u001B[43m \u001B[49m\u001B[43msparse\u001B[49m\u001B[43m)\u001B[49m\n",
      "\u001B[1;31mKeyboardInterrupt\u001B[0m: "
     ]
    }
   ],
   "source": [
    "pipeline_result_TransR = pipeline(\n",
    "    training=training,\n",
    "    testing=testing,\n",
    "    validation=validation,\n",
    "    model=TransR,\n",
    "    epochs=20,\n",
    "    device=resolve_device(),\n",
    ")"
   ],
   "metadata": {
    "collapsed": false,
    "ExecuteTime": {
     "end_time": "2023-11-24T18:49:56.561277300Z",
     "start_time": "2023-11-24T18:49:51.230624400Z"
    }
   },
   "id": "f75418cc24040c11"
  },
  {
   "cell_type": "code",
   "execution_count": null,
   "outputs": [],
   "source": [
    "pipeline_result_TransH = pipeline(\n",
    "    training=training,\n",
    "    testing=testing,\n",
    "    validation=validation,\n",
    "    model=TransH,\n",
    "    epochs=20,\n",
    "    device=resolve_device(),\n",
    ")"
   ],
   "metadata": {
    "collapsed": false
   },
   "id": "2451ebd22b0ea915"
  },
  {
   "cell_type": "code",
   "execution_count": null,
   "outputs": [],
   "source": [
    "pipeline_result_RESCAL = pipeline(\n",
    "    training=training,\n",
    "    testing=testing,\n",
    "    validation=validation,\n",
    "    model=RESCAL,\n",
    "    epochs=20,\n",
    "    device=resolve_device(),\n",
    ")"
   ],
   "metadata": {
    "collapsed": false
   },
   "id": "616f30ca6a1c24a3"
  },
  {
   "cell_type": "code",
   "execution_count": null,
   "outputs": [],
   "source": [
    "def predict_TransR(track_id: str, k: int) -> list[str]:\n",
    "    return (\n",
    "        predict_target(\n",
    "            model=pipeline_result_TransR.model,\n",
    "            head=track_id,\n",
    "            relation=\"follows\",\n",
    "            triples_factory=pipeline_result.training,\n",
    "        )\n",
    "        .df[:k][\"tail_label\"]\n",
    "        .to_list()\n",
    "    )\n",
    "\n",
    "\n",
    "def predict_TransH(track_id: str, k: int) -> list[str]:\n",
    "    return (\n",
    "        predict_target(\n",
    "            model=pipeline_result_TransH.model,\n",
    "            head=track_id,\n",
    "            relation=\"follows\",\n",
    "            triples_factory=pipeline_result.training,\n",
    "        )\n",
    "        .df[:k][\"tail_label\"]\n",
    "        .to_list()\n",
    "    )\n",
    "\n",
    "\n",
    "def predict_RESCAL(track_id: str, k: int) -> list[str]:\n",
    "    return (\n",
    "        predict_target(\n",
    "            model=pipeline_result_RESCAL.model,\n",
    "            head=track_id,\n",
    "            relation=\"follows\",\n",
    "            triples_factory=pipeline_result.training,\n",
    "        )\n",
    "        .df[:k][\"tail_label\"]\n",
    "        .to_list()\n",
    "    )"
   ],
   "metadata": {
    "collapsed": false
   },
   "id": "a0caf124f46695a4"
  },
  {
   "cell_type": "code",
   "execution_count": null,
   "outputs": [],
   "source": [
    "predictions_TransR = []\n",
    "predictions_TransH = []\n",
    "predictions_RESCAL = []\n",
    "actual_tracks = [playlist[cutoff_idx : cutoff_idx + k]]\n",
    "for i, playlist in enumerate(long_enough_test_playlists):\n",
    "    if i % 100 == 0:\n",
    "        print(f\"calculating prediction for iteration {i}\")\n",
    "    predictions_TransR.append(predict_TransR(playlist[cutoff_idx], k))\n",
    "    predictions_TransH.append(predict_TransH(playlist[cutoff_idx], k))\n",
    "    predictions_RESCAL.append(predict_RESCAL(playlist[cutoff_idx], k))"
   ],
   "metadata": {
    "collapsed": false
   },
   "id": "726703b114da4844"
  },
  {
   "cell_type": "code",
   "execution_count": null,
   "outputs": [],
   "source": [
    "precisions_TransR = [precision(p, a) for p, a in zip(predictions_TransR, actual_tracks)]\n",
    "precisions_TransH = [precision(p, a) for p, a in zip(predictions_TransH, actual_tracks)]\n",
    "precisions_RESCAL = [precision(p, a) for p, a in zip(predictions_RESCAL, actual_tracks)]\n",
    "recalls_TransR = [recall(p, a) for p, a in zip(predictions_TransR, actual_tracks)]\n",
    "recalls_TransH = [recall(p, a) for p, a in zip(predictions_TransH, actual_tracks)]\n",
    "recalls_RESCAL = [recall(p, a) for p, a in zip(predictions_RESCAL, actual_tracks)]"
   ],
   "metadata": {
    "collapsed": false
   },
   "id": "7124048798a3996a"
  },
  {
   "cell_type": "code",
   "execution_count": null,
   "outputs": [],
   "source": [
    "# histogram\n",
    "fig, ax = plt.subplots(3, 2, figsize=(21, 14))\n",
    "\n",
    "ax[0][0].hist(precisions, bins=20)\n",
    "ax[0][0].set_title(\"Precision TransR\")\n",
    "ax[0][1].hist(recalls, bins=20)\n",
    "ax[0][1].set_title(\"Recall TransR\")\n",
    "ax[1][0].hist(precisions, bins=20)\n",
    "ax[1][0].set_title(\"Precision TransH\")\n",
    "ax[1][1].hist(recalls, bins=20)\n",
    "ax[1][1].set_title(\"Recall TransH\")\n",
    "ax[2][0].hist(precisions, bins=20)\n",
    "ax[2][0].set_title(\"Precision RESCAL\")\n",
    "ax[2][1].hist(recalls, bins=20)\n",
    "ax[2][1].set_title(\"Recall RESCAL\")\n",
    "plt.show()"
   ],
   "metadata": {
    "collapsed": false
   },
   "id": "f32e0a1c8a75ed68"
  }
 ],
 "metadata": {
  "kernelspec": {
   "display_name": "Python 3 (ipykernel)",
   "language": "python",
   "name": "python3"
  },
  "language_info": {
   "codemirror_mode": {
    "name": "ipython",
    "version": 3
   },
   "file_extension": ".py",
   "mimetype": "text/x-python",
   "name": "python",
   "nbconvert_exporter": "python",
   "pygments_lexer": "ipython3",
   "version": "3.9.6"
  }
 },
 "nbformat": 4,
 "nbformat_minor": 5
}
