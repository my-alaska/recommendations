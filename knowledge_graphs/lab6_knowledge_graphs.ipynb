{
 "cells": [
  {
   "cell_type": "markdown",
   "id": "4d18a343-c53e-4e64-8316-f5c1167437c4",
   "metadata": {},
   "source": [
    "# Lab 6 - knowledge graph based recommendations\n",
    "\n",
    "## Lab preparation\n",
    "\n",
    " * download and extract the dataset: https://www.aicrowd.com/challenges/spotify-million-playlist-dataset-challenge\n",
    " * [optional] Create python virtual environment\n",
    " `python3 -m venv ./recsyslab6`\n",
    " * zinstall needed libraries:\n",
    " `pip install numpy pandas pykeen tqdm seaborn`"
   ]
  },
  {
   "cell_type": "markdown",
   "id": "d19a763f-eb56-4085-ac43-6d7a1a0cb520",
   "metadata": {},
   "source": [
    "## Part 1 - Data preparation and preprocessing"
   ]
  },
  {
   "cell_type": "code",
   "execution_count": 1,
   "id": "1e62e94d-9961-4d5e-a264-745b5177ed5e",
   "metadata": {
    "ExecuteTime": {
     "end_time": "2023-11-24T19:25:28.275225600Z",
     "start_time": "2023-11-24T19:25:23.787371800Z"
    }
   },
   "outputs": [],
   "source": [
    "import json\n",
    "import matplotlib.pyplot as plt\n",
    "import numpy as np\n",
    "from tqdm import tqdm\n",
    "import random\n",
    "\n",
    "from pykeen.models import TransE, TransH, TransR, RESCAL\n",
    "from pykeen.pipeline import pipeline\n",
    "from pykeen.predict import predict_target\n",
    "from pykeen.triples import TriplesFactory"
   ]
  },
  {
   "cell_type": "code",
   "execution_count": 2,
   "id": "67368f56-c5ee-45cb-90f7-235d610c40dd",
   "metadata": {
    "ExecuteTime": {
     "end_time": "2023-11-24T19:25:28.291225300Z",
     "start_time": "2023-11-24T19:25:28.278224800Z"
    }
   },
   "outputs": [],
   "source": [
    "# configure the Spotify dataset\n",
    "PATH = \"spotify_million_playlist_dataset/data\"\n",
    "SAMPLING_RATIO = 0.01\n",
    "FILENAMES = random.sample(\n",
    "    [f\"mpd.slice.{1000*i}-{1000*i+999}.json\" for i in range(1000)],\n",
    "    int(SAMPLING_RATIO * 1000),\n",
    ")"
   ]
  },
  {
   "cell_type": "code",
   "execution_count": 3,
   "id": "7743626d-5017-4443-809c-f3146bf82298",
   "metadata": {
    "ExecuteTime": {
     "end_time": "2023-11-24T19:25:28.327224600Z",
     "start_time": "2023-11-24T19:25:28.291225300Z"
    }
   },
   "outputs": [],
   "source": [
    "# Playlsit parsing functions\n",
    "def get_id(uri):\n",
    "    return uri.split(\":\")[-1]\n",
    "\n",
    "\n",
    "def parse_playlist(playlist):\n",
    "    name = playlist[\"name\"]\n",
    "    tracks = [get_id(t[\"track_uri\"]) for t in playlist[\"tracks\"]]\n",
    "    tracks_to_artists = {\n",
    "        (get_id(t[\"track_uri\"]), get_id(t[\"artist_uri\"])) for t in playlist[\"tracks\"]\n",
    "    }\n",
    "    tracks_to_albums = {\n",
    "        (get_id(t[\"track_uri\"]), get_id(t[\"album_uri\"])) for t in playlist[\"tracks\"]\n",
    "    }\n",
    "    albums_to_artists = {\n",
    "        (get_id(t[\"album_uri\"]), get_id(t[\"artist_uri\"])) for t in playlist[\"tracks\"]\n",
    "    }\n",
    "    return name, tracks, tracks_to_artists, tracks_to_albums, albums_to_artists"
   ]
  },
  {
   "cell_type": "code",
   "execution_count": 4,
   "id": "475e2848-3c30-4173-98dc-272fb86e4690",
   "metadata": {
    "ExecuteTime": {
     "end_time": "2023-11-24T19:25:31.993680400Z",
     "start_time": "2023-11-24T19:25:28.310226Z"
    }
   },
   "outputs": [
    {
     "name": "stderr",
     "output_type": "stream",
     "text": [
      "100%|██████████| 10/10 [00:03<00:00,  2.80it/s]"
     ]
    },
    {
     "name": "stdout",
     "output_type": "stream",
     "text": [
      "Got: 10,000 playlists; 169,177 tracks; 82,398 albums; 36,246 artists\n"
     ]
    },
    {
     "name": "stderr",
     "output_type": "stream",
     "text": [
      "\n"
     ]
    }
   ],
   "source": [
    "# parsing\n",
    "playlists = []\n",
    "tracks = set()\n",
    "tracks_to_artists = set()\n",
    "tracks_to_albums = set()\n",
    "albums_to_artists = set()\n",
    "\n",
    "for filename in tqdm(FILENAMES):\n",
    "    with open(f\"{PATH}/{filename}\") as mpd_chunk:\n",
    "        for playlist in json.loads(mpd_chunk.read())[\"playlists\"]:\n",
    "            a, b, c, d, e = parse_playlist(playlist)\n",
    "            playlists.append(b)\n",
    "            tracks.update(set(b))\n",
    "            tracks_to_artists.update(c)\n",
    "            tracks_to_albums.update(d)\n",
    "            albums_to_artists.update(e)\n",
    "\n",
    "print(\n",
    "    f\"Got: {len(playlists):,} playlists; {len(tracks):,} tracks; {len({x[1] for x in tracks_to_albums}):,} albums; {len({x[1] for x in tracks_to_artists}):,} artists\"\n",
    ")"
   ]
  },
  {
   "cell_type": "code",
   "execution_count": 5,
   "id": "33a6478c-9602-4e40-ae2f-8eeea8a665ed",
   "metadata": {
    "ExecuteTime": {
     "end_time": "2023-11-24T19:25:32.350680100Z",
     "start_time": "2023-11-24T19:25:31.996680600Z"
    }
   },
   "outputs": [
    {
     "name": "stderr",
     "output_type": "stream",
     "text": [
      "100%|██████████| 10000/10000 [00:00<00:00, 53763.96it/s]\n",
      "100%|██████████| 10000/10000 [00:00<00:00, 76923.29it/s]"
     ]
    },
    {
     "name": "stdout",
     "output_type": "stream",
     "text": [
      "train dataset: 9,000; test dataset: 1,000\n"
     ]
    },
    {
     "name": "stderr",
     "output_type": "stream",
     "text": [
      "\n"
     ]
    }
   ],
   "source": [
    "# for the test set we consider playlist that only consist of songs that also appear in the training set at least once\n",
    "tracks_counter = {}\n",
    "for p in tqdm(playlists):\n",
    "    for t in p:\n",
    "        if t in tracks_counter:\n",
    "            tracks_counter[t] += 1\n",
    "        else:\n",
    "            tracks_counter[t] = 1\n",
    "\n",
    "playlists_with_only_non_unique_tracks = []\n",
    "for i in tqdm(range(len((playlists)))):\n",
    "    p = playlists[i]\n",
    "    if all([tracks_counter[t] > 1 for t in p]):\n",
    "        playlists_with_only_non_unique_tracks.append(i)\n",
    "\n",
    "# test set - 10%\n",
    "test_playlist_ids = random.sample(\n",
    "    playlists_with_only_non_unique_tracks, int(SAMPLING_RATIO * 100_000)\n",
    ")\n",
    "# training set - 90%\n",
    "test_ids_sorted = sorted(test_playlist_ids)\n",
    "test_i = 0\n",
    "train_playlist_ids = []\n",
    "i = 0\n",
    "while i < len(playlists):\n",
    "    if test_i < len(test_ids_sorted) and test_ids_sorted[test_i] == i:\n",
    "        test_i += 1\n",
    "    else:\n",
    "        train_playlist_ids.append(i)\n",
    "    i += 1\n",
    "\n",
    "train_playlists = [playlists[i] for i in train_playlist_ids]\n",
    "test_playlists = [playlists[i] for i in test_playlist_ids]\n",
    "\n",
    "print(f\"train dataset: {len(train_playlists):,}; test dataset: {len(test_playlists):,}\")"
   ]
  },
  {
   "cell_type": "markdown",
   "id": "c480cce3-90df-4f6e-b781-0c30f6c18c31",
   "metadata": {},
   "source": [
    "## Part 2 - building and evalulating the model"
   ]
  },
  {
   "cell_type": "markdown",
   "id": "af5bb789-088e-4d5b-82ac-15116fb31216",
   "metadata": {},
   "source": [
    "### Relationships in the dataset:\n",
    "![image of relationships in the dataset](relations.svg)"
   ]
  },
  {
   "cell_type": "code",
   "execution_count": 6,
   "id": "83962cc3-54fd-438d-a7c7-b8a2f3c1b4c5",
   "metadata": {
    "ExecuteTime": {
     "end_time": "2023-11-24T19:25:32.783679500Z",
     "start_time": "2023-11-24T19:25:32.344682600Z"
    }
   },
   "outputs": [
    {
     "name": "stderr",
     "output_type": "stream",
     "text": [
      "100%|██████████| 169177/169177 [00:00<00:00, 1708879.56it/s]\n",
      "100%|██████████| 169177/169177 [00:00<00:00, 1726307.64it/s]\n",
      "100%|██████████| 86757/86757 [00:00<00:00, 1735191.30it/s]\n",
      "100%|██████████| 9000/9000 [00:00<00:00, 64748.79it/s]"
     ]
    },
    {
     "name": "stdout",
     "output_type": "stream",
     "text": [
      "Got 4 relations with total of 1,035,117 entries\n"
     ]
    },
    {
     "name": "stderr",
     "output_type": "stream",
     "text": [
      "\n"
     ]
    }
   ],
   "source": [
    "# building the set of relationships\n",
    "# you can delete some elements of `relations` list\n",
    "relations = [\"follows\", \"authored_by\", \"in_album\", \"authored\"]\n",
    "triples = []\n",
    "\n",
    "# song -> author\n",
    "if \"authored_by\" in relations:\n",
    "    for track, artist in tqdm(tracks_to_artists):\n",
    "        triples.append((track, \"authored_by\", artist))\n",
    "\n",
    "# song -> artist\n",
    "if \"in_album\" in relations:\n",
    "    for track, album in tqdm(tracks_to_albums):\n",
    "        triples.append((track, \"in_album\", album))\n",
    "\n",
    "# artist -> album\n",
    "if \"authored\" in relations:\n",
    "    for album, artist in tqdm(albums_to_artists):\n",
    "        triples.append((artist, \"authored\", album))\n",
    "\n",
    "# song -> song\n",
    "if \"follows\" in relations:\n",
    "    for playlist in tqdm(train_playlists):\n",
    "        for i in range(len(playlist) - 1):\n",
    "            triples.append((playlist[i], \"follows\", playlist[i + 1]))\n",
    "\n",
    "num_entities = len(triples)\n",
    "num_relations = len(relations)\n",
    "\n",
    "print(f\"Got {num_relations} relations with total of {num_entities:,} entries\")"
   ]
  },
  {
   "cell_type": "code",
   "execution_count": 7,
   "id": "64a2042a-3165-4177-af82-2cb1586c8eb1",
   "metadata": {
    "ExecuteTime": {
     "end_time": "2023-11-24T19:52:00.616190800Z",
     "start_time": "2023-11-24T19:25:32.754680500Z"
    }
   },
   "outputs": [
    {
     "name": "stderr",
     "output_type": "stream",
     "text": [
      "using automatically assigned random_state=4157836268\n",
      "No random seed is specified. Setting to 3168545866.\n"
     ]
    },
    {
     "data": {
      "text/plain": "Training epochs on cuda:0:   0%|          | 0/20 [00:00<?, ?epoch/s]",
      "application/vnd.jupyter.widget-view+json": {
       "version_major": 2,
       "version_minor": 0,
       "model_id": "ff1c1e467f6643c7b609977f920d672f"
      }
     },
     "metadata": {},
     "output_type": "display_data"
    },
    {
     "data": {
      "text/plain": "Training batches on cuda:0:   0%|          | 0/3083 [00:00<?, ?batch/s]",
      "application/vnd.jupyter.widget-view+json": {
       "version_major": 2,
       "version_minor": 0,
       "model_id": "7ecda54834904b6190cde01106995b5f"
      }
     },
     "metadata": {},
     "output_type": "display_data"
    },
    {
     "data": {
      "text/plain": "Training batches on cuda:0:   0%|          | 0/3083 [00:00<?, ?batch/s]",
      "application/vnd.jupyter.widget-view+json": {
       "version_major": 2,
       "version_minor": 0,
       "model_id": "e597cb9a69164a628b926a0696c07798"
      }
     },
     "metadata": {},
     "output_type": "display_data"
    },
    {
     "data": {
      "text/plain": "Training batches on cuda:0:   0%|          | 0/3083 [00:00<?, ?batch/s]",
      "application/vnd.jupyter.widget-view+json": {
       "version_major": 2,
       "version_minor": 0,
       "model_id": "4cf8ab03ad90418583ce424a2dcda7d8"
      }
     },
     "metadata": {},
     "output_type": "display_data"
    },
    {
     "data": {
      "text/plain": "Training batches on cuda:0:   0%|          | 0/3083 [00:00<?, ?batch/s]",
      "application/vnd.jupyter.widget-view+json": {
       "version_major": 2,
       "version_minor": 0,
       "model_id": "71cc31d0a5d34058bca6f352de23b5c1"
      }
     },
     "metadata": {},
     "output_type": "display_data"
    },
    {
     "data": {
      "text/plain": "Training batches on cuda:0:   0%|          | 0/3083 [00:00<?, ?batch/s]",
      "application/vnd.jupyter.widget-view+json": {
       "version_major": 2,
       "version_minor": 0,
       "model_id": "59252f1f8822467a8aef3a195d7f2979"
      }
     },
     "metadata": {},
     "output_type": "display_data"
    },
    {
     "data": {
      "text/plain": "Training batches on cuda:0:   0%|          | 0/3083 [00:00<?, ?batch/s]",
      "application/vnd.jupyter.widget-view+json": {
       "version_major": 2,
       "version_minor": 0,
       "model_id": "b9f3b4331f9948938cef9a31a58a172c"
      }
     },
     "metadata": {},
     "output_type": "display_data"
    },
    {
     "data": {
      "text/plain": "Training batches on cuda:0:   0%|          | 0/3083 [00:00<?, ?batch/s]",
      "application/vnd.jupyter.widget-view+json": {
       "version_major": 2,
       "version_minor": 0,
       "model_id": "1bbb6e53fa864a519cac3341178c7b70"
      }
     },
     "metadata": {},
     "output_type": "display_data"
    },
    {
     "data": {
      "text/plain": "Training batches on cuda:0:   0%|          | 0/3083 [00:00<?, ?batch/s]",
      "application/vnd.jupyter.widget-view+json": {
       "version_major": 2,
       "version_minor": 0,
       "model_id": "f0e2dbfba5264bb99de25d4198370611"
      }
     },
     "metadata": {},
     "output_type": "display_data"
    },
    {
     "data": {
      "text/plain": "Training batches on cuda:0:   0%|          | 0/3083 [00:00<?, ?batch/s]",
      "application/vnd.jupyter.widget-view+json": {
       "version_major": 2,
       "version_minor": 0,
       "model_id": "50b065632cc044c0a74061e7cd372810"
      }
     },
     "metadata": {},
     "output_type": "display_data"
    },
    {
     "data": {
      "text/plain": "Training batches on cuda:0:   0%|          | 0/3083 [00:00<?, ?batch/s]",
      "application/vnd.jupyter.widget-view+json": {
       "version_major": 2,
       "version_minor": 0,
       "model_id": "98169978a91f4e40bdfc503f074d090f"
      }
     },
     "metadata": {},
     "output_type": "display_data"
    },
    {
     "data": {
      "text/plain": "Training batches on cuda:0:   0%|          | 0/3083 [00:00<?, ?batch/s]",
      "application/vnd.jupyter.widget-view+json": {
       "version_major": 2,
       "version_minor": 0,
       "model_id": "accbac5795314823b029548ecc28f079"
      }
     },
     "metadata": {},
     "output_type": "display_data"
    },
    {
     "data": {
      "text/plain": "Training batches on cuda:0:   0%|          | 0/3083 [00:00<?, ?batch/s]",
      "application/vnd.jupyter.widget-view+json": {
       "version_major": 2,
       "version_minor": 0,
       "model_id": "91c822d5e34845bcb6d14bfc9ecdb02d"
      }
     },
     "metadata": {},
     "output_type": "display_data"
    },
    {
     "data": {
      "text/plain": "Training batches on cuda:0:   0%|          | 0/3083 [00:00<?, ?batch/s]",
      "application/vnd.jupyter.widget-view+json": {
       "version_major": 2,
       "version_minor": 0,
       "model_id": "8fea661ce5e44df2bb016f810b6efefe"
      }
     },
     "metadata": {},
     "output_type": "display_data"
    },
    {
     "data": {
      "text/plain": "Training batches on cuda:0:   0%|          | 0/3083 [00:00<?, ?batch/s]",
      "application/vnd.jupyter.widget-view+json": {
       "version_major": 2,
       "version_minor": 0,
       "model_id": "743a65e0261d4a50b60529b8cc1ba0c1"
      }
     },
     "metadata": {},
     "output_type": "display_data"
    },
    {
     "data": {
      "text/plain": "Training batches on cuda:0:   0%|          | 0/3083 [00:00<?, ?batch/s]",
      "application/vnd.jupyter.widget-view+json": {
       "version_major": 2,
       "version_minor": 0,
       "model_id": "8b695714272f411088d156fd9244252b"
      }
     },
     "metadata": {},
     "output_type": "display_data"
    },
    {
     "data": {
      "text/plain": "Training batches on cuda:0:   0%|          | 0/3083 [00:00<?, ?batch/s]",
      "application/vnd.jupyter.widget-view+json": {
       "version_major": 2,
       "version_minor": 0,
       "model_id": "670393ed3f9e4e02905f3f6af73dd253"
      }
     },
     "metadata": {},
     "output_type": "display_data"
    },
    {
     "data": {
      "text/plain": "Training batches on cuda:0:   0%|          | 0/3083 [00:00<?, ?batch/s]",
      "application/vnd.jupyter.widget-view+json": {
       "version_major": 2,
       "version_minor": 0,
       "model_id": "d9ce99f685f541d7b2b89c9be34dc0a5"
      }
     },
     "metadata": {},
     "output_type": "display_data"
    },
    {
     "data": {
      "text/plain": "Training batches on cuda:0:   0%|          | 0/3083 [00:00<?, ?batch/s]",
      "application/vnd.jupyter.widget-view+json": {
       "version_major": 2,
       "version_minor": 0,
       "model_id": "2c4bc83fba2f44808fbb6690dc878a86"
      }
     },
     "metadata": {},
     "output_type": "display_data"
    },
    {
     "data": {
      "text/plain": "Training batches on cuda:0:   0%|          | 0/3083 [00:00<?, ?batch/s]",
      "application/vnd.jupyter.widget-view+json": {
       "version_major": 2,
       "version_minor": 0,
       "model_id": "2d63e3dd950b46218086fe40ba807d1a"
      }
     },
     "metadata": {},
     "output_type": "display_data"
    },
    {
     "data": {
      "text/plain": "Training batches on cuda:0:   0%|          | 0/3083 [00:00<?, ?batch/s]",
      "application/vnd.jupyter.widget-view+json": {
       "version_major": 2,
       "version_minor": 0,
       "model_id": "d92bad611cd74a1fbd18142e52261820"
      }
     },
     "metadata": {},
     "output_type": "display_data"
    },
    {
     "name": "stderr",
     "output_type": "stream",
     "text": [
      "INFO:pykeen.evaluation.evaluator:Starting batch_size search for evaluation now...\n",
      "C:\\Users\\piotr\\AppData\\Local\\Programs\\Python\\Python310\\lib\\site-packages\\pykeen\\utils.py:545: RuntimeWarning: overflow encountered in scalar add\n",
      "  return sum(\n",
      "INFO:pykeen.evaluation.evaluator:Concluded batch_size search with batch_size=512.\n"
     ]
    },
    {
     "data": {
      "text/plain": "Evaluating on cuda:0:   0%|          | 0.00/98.6k [00:00<?, ?triple/s]",
      "application/vnd.jupyter.widget-view+json": {
       "version_major": 2,
       "version_minor": 0,
       "model_id": "055c4a480b56489aa7567c5d339c1bbc"
      }
     },
     "metadata": {},
     "output_type": "display_data"
    },
    {
     "name": "stderr",
     "output_type": "stream",
     "text": [
      "INFO:pykeen.evaluation.evaluator:Evaluation took 1197.50s seconds\n"
     ]
    }
   ],
   "source": [
    "# training\n",
    "tf = TriplesFactory.from_labeled_triples(np.array(triples))\n",
    "# disproportion to get scores quickly\n",
    "# for better results it's worthy to use 80/10/10 split\n",
    "training, testing, validation = tf.split([0.8, 0.1, 0.1])\n",
    "\n",
    "pipeline_result = pipeline(\n",
    "    training=training,\n",
    "    testing=testing,\n",
    "    validation=validation,\n",
    "    model=TransE,  # the simplest, the fastest and the worst model; other options: TransH, TransR, RESCAL, other\n",
    "    epochs=20,\n",
    ")"
   ]
  },
  {
   "cell_type": "code",
   "execution_count": 8,
   "id": "d50bf67a-f449-4296-91e5-cadad5d4990c",
   "metadata": {
    "ExecuteTime": {
     "end_time": "2023-11-24T19:52:00.774699800Z",
     "start_time": "2023-11-24T19:52:00.587191400Z"
    }
   },
   "outputs": [
    {
     "data": {
      "text/plain": "<Axes: title={'center': 'Losses Plot'}, xlabel='Epoch', ylabel='marginranking Loss'>"
     },
     "execution_count": 8,
     "metadata": {},
     "output_type": "execute_result"
    },
    {
     "data": {
      "text/plain": "<Figure size 640x480 with 1 Axes>",
      "image/png": "[encoded data removed]"
     },
     "metadata": {},
     "output_type": "display_data"
    }
   ],
   "source": [
    "# rough estimate of model quality\n",
    "pipeline_result.plot_losses()"
   ]
  },
  {
   "cell_type": "code",
   "execution_count": 9,
   "id": "37eaf5f3-8083-4284-8156-4f8326671050",
   "metadata": {
    "ExecuteTime": {
     "end_time": "2023-11-24T19:52:00.814699700Z",
     "start_time": "2023-11-24T19:52:00.776701300Z"
    }
   },
   "outputs": [],
   "source": [
    "# returning model predictions\n",
    "def predict_next_tracks(track_id: str, k: int) -> list[str]:\n",
    "    return (\n",
    "        predict_target(\n",
    "            model=pipeline_result.model,\n",
    "            head=track_id,\n",
    "            relation=\"follows\",\n",
    "            triples_factory=pipeline_result.training,\n",
    "        )\n",
    "        .df[:k][\"tail_label\"]\n",
    "        .to_list()\n",
    "    )"
   ]
  },
  {
   "cell_type": "code",
   "execution_count": 10,
   "id": "0a83eba4-2e1e-4bec-be87-8063ed71ed58",
   "metadata": {
    "ExecuteTime": {
     "end_time": "2023-11-24T19:52:00.814699700Z",
     "start_time": "2023-11-24T19:52:00.792699800Z"
    }
   },
   "outputs": [],
   "source": [
    "# precision and recall\n",
    "def precision(prediction: list[str], actual_tracks: list[str]) -> float:\n",
    "    return len(set(prediction) & set(actual_tracks)) / len(actual_tracks)\n",
    "\n",
    "\n",
    "def recall(prediction: list[str], actual_tracks: list[str]) -> float:\n",
    "    return len(set(prediction) & set(actual_tracks)) / len(prediction)"
   ]
  },
  {
   "cell_type": "code",
   "execution_count": 11,
   "outputs": [],
   "source": [
    "# remove the playlists that are too short\n",
    "long_enough_test_playlists = [p for p in test_playlists if len(p) >= 10]\n",
    "# we predict on elements from 0 to `cutoff_idx` to get the next ones\n",
    "cutoff_idx = 4\n",
    "\n",
    "# number of elements to predict\n",
    "k = 20"
   ],
   "metadata": {
    "collapsed": false,
    "ExecuteTime": {
     "end_time": "2023-11-24T19:52:00.831700400Z",
     "start_time": "2023-11-24T19:52:00.807701Z"
    }
   },
   "id": "cc42286dabb257e1"
  },
  {
   "cell_type": "code",
   "execution_count": 12,
   "id": "d39cbf2e-e686-45d0-a8cd-5343132b2ba0",
   "metadata": {
    "ExecuteTime": {
     "end_time": "2023-11-24T19:54:05.376422500Z",
     "start_time": "2023-11-24T19:52:00.822699200Z"
    }
   },
   "outputs": [
    {
     "name": "stdout",
     "output_type": "stream",
     "text": [
      "calculating prediction for iteration 0\n",
      "calculating prediction for iteration 100\n",
      "calculating prediction for iteration 200\n",
      "calculating prediction for iteration 300\n",
      "calculating prediction for iteration 400\n",
      "calculating prediction for iteration 500\n",
      "calculating prediction for iteration 600\n",
      "calculating prediction for iteration 700\n",
      "calculating prediction for iteration 800\n",
      "calculating prediction for iteration 900\n"
     ]
    }
   ],
   "source": [
    "predictions = []\n",
    "actual_tracks = []\n",
    "for i, playlist in enumerate(long_enough_test_playlists):\n",
    "    if i % 100 == 0:\n",
    "        print(f\"calculating prediction for iteration {i}\")\n",
    "    predictions.append(predict_next_tracks(playlist[cutoff_idx], k))\n",
    "    actual_tracks.append(playlist[cutoff_idx : cutoff_idx + k])"
   ]
  },
  {
   "cell_type": "code",
   "execution_count": 13,
   "outputs": [],
   "source": [
    "precisions = [precision(p, a) for p, a in zip(predictions, actual_tracks)]\n",
    "recalls = [recall(p, a) for p, a in zip(predictions, actual_tracks)]"
   ],
   "metadata": {
    "collapsed": false,
    "ExecuteTime": {
     "end_time": "2023-11-24T19:54:05.391422300Z",
     "start_time": "2023-11-24T19:54:05.377423300Z"
    }
   },
   "id": "a0271f80d9ce8f34"
  },
  {
   "cell_type": "code",
   "execution_count": 14,
   "outputs": [
    {
     "data": {
      "text/plain": "<Figure size 640x480 with 2 Axes>",
      "image/png": "[encoded data removed]"
     },
     "metadata": {},
     "output_type": "display_data"
    }
   ],
   "source": [
    "# histogram\n",
    "fig, (ax1, ax2) = plt.subplots(1, 2)\n",
    "ax1.hist(precisions, bins=20)\n",
    "ax1.set_title(\"Precision\")\n",
    "ax2.hist(recalls, bins=20)\n",
    "ax2.set_title(\"Recall\")\n",
    "plt.show()"
   ],
   "metadata": {
    "collapsed": false,
    "ExecuteTime": {
     "end_time": "2023-11-24T19:54:05.551421600Z",
     "start_time": "2023-11-24T19:54:05.392421800Z"
    }
   },
   "id": "6648549ffc527b1a"
  },
  {
   "cell_type": "markdown",
   "id": "ca5d83b9-de72-4fc0-8bfe-7acb6c66f62f",
   "metadata": {},
   "source": [
    "## Part 3 - comparing different methods of recommendation"
   ]
  },
  {
   "cell_type": "markdown",
   "id": "a3e87e7c-b9fb-430d-86cb-14433ddd4287",
   "metadata": {},
   "source": [
    "W części 2. zbudowaliśmy zbiór trójek relacji, wytrenowaliśmy jeden model, zaimplementowaliśmy (prostą) metodę generującą rekomendacje na podstawie predykcji modelu i w końcu zaimplementowaliśmy dwie metryki do porównania jakości tych rekomendacji.\n",
    "\n",
    "W części 3. Twoim zadaniem jest przetestować trzy różne podejścia do jednego z kroków:\n",
    "1. Porównaj trzy różne modele spośród dostępnych w bibliotece PyKeen: https://pykeen.readthedocs.io/en/stable/reference/models.html#classes\n",
    "   * jeden model translacyjny (np. TransE, TransH, TransR)\n",
    "   * jeden model faktoryzacyjny (np. RESCAL)\n",
    "   * jeden dowolny model niewybrany w poprzednich punktach\n",
    "2. Porównaj trzy metody budowania grafu wiedzy:\n",
    "   * graf zawierający relacje wszystkich czterech typów\n",
    "   * graf zawierający tylko relacje typu `follows` (czyli między kolejnymi utworami w playliście)\n",
    "   * graf zawierający relacje wybranych przez Ciebie dwóch lub trzech typów (czyli krok pośredni między powyższymi punktami)\n",
    "3. Porównaj trzy metody generowania rekomendacji na podstawie elementów zwróconych przez `predict_target()` (ta metoda zwraca m. in. score'y każdego z proponowanych elementów, co może okazać się pomocne):\n",
    "   * metoda opierająca się tylko na predykcji dla ostatniego znanego elementu w playliście\n",
    "   * dwie wymyślone przez Ciebie, bardziej zaawansowane metody\n",
    "  \n",
    "Niezależnie od tego, który z trzech powyższych scenariuszy wybierzesz - porównaj trzy wybrane przez Ciebie metody na podstawie histogramów metryk `precision@k` i `recall@k`."
   ]
  },
  {
   "cell_type": "code",
   "execution_count": 15,
   "outputs": [
    {
     "name": "stderr",
     "output_type": "stream",
     "text": [
      "WARNING:pykeen.pipeline.api:No random seed is specified. Setting to 3468449179.\n",
      "INFO:pykeen.pipeline.api:Using device: None\n"
     ]
    },
    {
     "data": {
      "text/plain": "Training epochs on cuda:0:   0%|          | 0/20 [00:00<?, ?epoch/s]",
      "application/vnd.jupyter.widget-view+json": {
       "version_major": 2,
       "version_minor": 0,
       "model_id": "987add294b5e4ed98095f12034433cba"
      }
     },
     "metadata": {},
     "output_type": "display_data"
    },
    {
     "data": {
      "text/plain": "Training batches on cuda:0:   0%|          | 0/3083 [00:00<?, ?batch/s]",
      "application/vnd.jupyter.widget-view+json": {
       "version_major": 2,
       "version_minor": 0,
       "model_id": "b70644f978454c88b6cc54b2dd104071"
      }
     },
     "metadata": {},
     "output_type": "display_data"
    },
    {
     "data": {
      "text/plain": "Training batches on cuda:0:   0%|          | 0/3083 [00:00<?, ?batch/s]",
      "application/vnd.jupyter.widget-view+json": {
       "version_major": 2,
       "version_minor": 0,
       "model_id": "1e266dc049b14de499902779080cd530"
      }
     },
     "metadata": {},
     "output_type": "display_data"
    },
    {
     "data": {
      "text/plain": "Training batches on cuda:0:   0%|          | 0/3083 [00:00<?, ?batch/s]",
      "application/vnd.jupyter.widget-view+json": {
       "version_major": 2,
       "version_minor": 0,
       "model_id": "ad6b3da28aeb4838bf111eafde3a9afc"
      }
     },
     "metadata": {},
     "output_type": "display_data"
    },
    {
     "data": {
      "text/plain": "Training batches on cuda:0:   0%|          | 0/3083 [00:00<?, ?batch/s]",
      "application/vnd.jupyter.widget-view+json": {
       "version_major": 2,
       "version_minor": 0,
       "model_id": "fd0967f3293b4a3092807c4fc71f2111"
      }
     },
     "metadata": {},
     "output_type": "display_data"
    },
    {
     "data": {
      "text/plain": "Training batches on cuda:0:   0%|          | 0/3083 [00:00<?, ?batch/s]",
      "application/vnd.jupyter.widget-view+json": {
       "version_major": 2,
       "version_minor": 0,
       "model_id": "8ee8a84a52b545218cec076b3c1b7f17"
      }
     },
     "metadata": {},
     "output_type": "display_data"
    },
    {
     "data": {
      "text/plain": "Training batches on cuda:0:   0%|          | 0/3083 [00:00<?, ?batch/s]",
      "application/vnd.jupyter.widget-view+json": {
       "version_major": 2,
       "version_minor": 0,
       "model_id": "88914b23c90b41b7b6b6460a5ca04297"
      }
     },
     "metadata": {},
     "output_type": "display_data"
    },
    {
     "data": {
      "text/plain": "Training batches on cuda:0:   0%|          | 0/3083 [00:00<?, ?batch/s]",
      "application/vnd.jupyter.widget-view+json": {
       "version_major": 2,
       "version_minor": 0,
       "model_id": "67eee3712d2246d5ad2137ad06250b46"
      }
     },
     "metadata": {},
     "output_type": "display_data"
    },
    {
     "data": {
      "text/plain": "Training batches on cuda:0:   0%|          | 0/3083 [00:00<?, ?batch/s]",
      "application/vnd.jupyter.widget-view+json": {
       "version_major": 2,
       "version_minor": 0,
       "model_id": "a66893f61eda47b69f489457016797af"
      }
     },
     "metadata": {},
     "output_type": "display_data"
    },
    {
     "data": {
      "text/plain": "Training batches on cuda:0:   0%|          | 0/3083 [00:00<?, ?batch/s]",
      "application/vnd.jupyter.widget-view+json": {
       "version_major": 2,
       "version_minor": 0,
       "model_id": "350c17f314f34902b7bd8b6f6746ba06"
      }
     },
     "metadata": {},
     "output_type": "display_data"
    },
    {
     "data": {
      "text/plain": "Training batches on cuda:0:   0%|          | 0/3083 [00:00<?, ?batch/s]",
      "application/vnd.jupyter.widget-view+json": {
       "version_major": 2,
       "version_minor": 0,
       "model_id": "9223bb3b0664419785300dee5eddc6b6"
      }
     },
     "metadata": {},
     "output_type": "display_data"
    },
    {
     "data": {
      "text/plain": "Training batches on cuda:0:   0%|          | 0/3083 [00:00<?, ?batch/s]",
      "application/vnd.jupyter.widget-view+json": {
       "version_major": 2,
       "version_minor": 0,
       "model_id": "2dfcdc22a7e94c04b0ff7435a4b73927"
      }
     },
     "metadata": {},
     "output_type": "display_data"
    },
    {
     "data": {
      "text/plain": "Training batches on cuda:0:   0%|          | 0/3083 [00:00<?, ?batch/s]",
      "application/vnd.jupyter.widget-view+json": {
       "version_major": 2,
       "version_minor": 0,
       "model_id": "a3a0792b411b4ef5ab535681f434ddc1"
      }
     },
     "metadata": {},
     "output_type": "display_data"
    },
    {
     "data": {
      "text/plain": "Training batches on cuda:0:   0%|          | 0/3083 [00:00<?, ?batch/s]",
      "application/vnd.jupyter.widget-view+json": {
       "version_major": 2,
       "version_minor": 0,
       "model_id": "f7e23848eb524c1d8bbd5cd131fcac12"
      }
     },
     "metadata": {},
     "output_type": "display_data"
    },
    {
     "data": {
      "text/plain": "Training batches on cuda:0:   0%|          | 0/3083 [00:00<?, ?batch/s]",
      "application/vnd.jupyter.widget-view+json": {
       "version_major": 2,
       "version_minor": 0,
       "model_id": "9b1a35b0b02c4a439cfaaec2a7eef292"
      }
     },
     "metadata": {},
     "output_type": "display_data"
    },
    {
     "data": {
      "text/plain": "Training batches on cuda:0:   0%|          | 0/3083 [00:00<?, ?batch/s]",
      "application/vnd.jupyter.widget-view+json": {
       "version_major": 2,
       "version_minor": 0,
       "model_id": "e4453744b8b742039275a3fe31029d1b"
      }
     },
     "metadata": {},
     "output_type": "display_data"
    },
    {
     "data": {
      "text/plain": "Training batches on cuda:0:   0%|          | 0/3083 [00:00<?, ?batch/s]",
      "application/vnd.jupyter.widget-view+json": {
       "version_major": 2,
       "version_minor": 0,
       "model_id": "b6e79352b0bf49a5ac85e2c96b5882d4"
      }
     },
     "metadata": {},
     "output_type": "display_data"
    },
    {
     "data": {
      "text/plain": "Training batches on cuda:0:   0%|          | 0/3083 [00:00<?, ?batch/s]",
      "application/vnd.jupyter.widget-view+json": {
       "version_major": 2,
       "version_minor": 0,
       "model_id": "04473ebaeb5c4c4289e3bc2acf33d001"
      }
     },
     "metadata": {},
     "output_type": "display_data"
    },
    {
     "data": {
      "text/plain": "Training batches on cuda:0:   0%|          | 0/3083 [00:00<?, ?batch/s]",
      "application/vnd.jupyter.widget-view+json": {
       "version_major": 2,
       "version_minor": 0,
       "model_id": "d04ed6e32c1a43a3b7d4494accd9b551"
      }
     },
     "metadata": {},
     "output_type": "display_data"
    },
    {
     "data": {
      "text/plain": "Training batches on cuda:0:   0%|          | 0/3083 [00:00<?, ?batch/s]",
      "application/vnd.jupyter.widget-view+json": {
       "version_major": 2,
       "version_minor": 0,
       "model_id": "e83d01c7b8bc48c89b038aa200503db7"
      }
     },
     "metadata": {},
     "output_type": "display_data"
    },
    {
     "data": {
      "text/plain": "Training batches on cuda:0:   0%|          | 0/3083 [00:00<?, ?batch/s]",
      "application/vnd.jupyter.widget-view+json": {
       "version_major": 2,
       "version_minor": 0,
       "model_id": "eae5b20a636a42f997d9dfd2b804b062"
      }
     },
     "metadata": {},
     "output_type": "display_data"
    },
    {
     "name": "stderr",
     "output_type": "stream",
     "text": [
      "INFO:pykeen.evaluation.evaluator:Starting batch_size search for evaluation now...\n",
      "INFO:pykeen.evaluation.evaluator:Concluded batch_size search with batch_size=256.\n"
     ]
    },
    {
     "data": {
      "text/plain": "Evaluating on cuda:0:   0%|          | 0.00/98.6k [00:00<?, ?triple/s]",
      "application/vnd.jupyter.widget-view+json": {
       "version_major": 2,
       "version_minor": 0,
       "model_id": "3d66569d7f7540d09b5e38c0fbd78a66"
      }
     },
     "metadata": {},
     "output_type": "display_data"
    },
    {
     "name": "stderr",
     "output_type": "stream",
     "text": [
      "INFO:pykeen.evaluation.evaluator:Evaluation took 6363.81s seconds\n"
     ]
    }
   ],
   "source": [
    "pipeline_result_TransR = pipeline(\n",
    "    training=training,\n",
    "    testing=testing,\n",
    "    validation=validation,\n",
    "    model=TransR,\n",
    "    epochs=20,\n",
    ")"
   ],
   "metadata": {
    "collapsed": false,
    "ExecuteTime": {
     "end_time": "2023-11-24T21:47:13.984021300Z",
     "start_time": "2023-11-24T19:54:05.552421400Z"
    }
   },
   "id": "f75418cc24040c11"
  },
  {
   "cell_type": "code",
   "execution_count": 16,
   "outputs": [
    {
     "name": "stderr",
     "output_type": "stream",
     "text": [
      "WARNING:pykeen.pipeline.api:No random seed is specified. Setting to 4180513393.\n",
      "INFO:pykeen.pipeline.api:Using device: None\n"
     ]
    },
    {
     "data": {
      "text/plain": "Training epochs on cuda:0:   0%|          | 0/20 [00:00<?, ?epoch/s]",
      "application/vnd.jupyter.widget-view+json": {
       "version_major": 2,
       "version_minor": 0,
       "model_id": "af000a560eaf4f4ba67a27d7b19e8a99"
      }
     },
     "metadata": {},
     "output_type": "display_data"
    },
    {
     "data": {
      "text/plain": "Training batches on cuda:0:   0%|          | 0/3083 [00:00<?, ?batch/s]",
      "application/vnd.jupyter.widget-view+json": {
       "version_major": 2,
       "version_minor": 0,
       "model_id": "c0000df6e3d7473182658d3e3e2088e8"
      }
     },
     "metadata": {},
     "output_type": "display_data"
    },
    {
     "data": {
      "text/plain": "Training batches on cuda:0:   0%|          | 0/3083 [00:00<?, ?batch/s]",
      "application/vnd.jupyter.widget-view+json": {
       "version_major": 2,
       "version_minor": 0,
       "model_id": "59f3a06f0ebc43488092a6f109a320e4"
      }
     },
     "metadata": {},
     "output_type": "display_data"
    },
    {
     "data": {
      "text/plain": "Training batches on cuda:0:   0%|          | 0/3083 [00:00<?, ?batch/s]",
      "application/vnd.jupyter.widget-view+json": {
       "version_major": 2,
       "version_minor": 0,
       "model_id": "2bfa30ccf9fb4dc69ee49fc1e3383091"
      }
     },
     "metadata": {},
     "output_type": "display_data"
    },
    {
     "data": {
      "text/plain": "Training batches on cuda:0:   0%|          | 0/3083 [00:00<?, ?batch/s]",
      "application/vnd.jupyter.widget-view+json": {
       "version_major": 2,
       "version_minor": 0,
       "model_id": "d11571b6ad0b4c3ebf6270fec2c01597"
      }
     },
     "metadata": {},
     "output_type": "display_data"
    },
    {
     "data": {
      "text/plain": "Training batches on cuda:0:   0%|          | 0/3083 [00:00<?, ?batch/s]",
      "application/vnd.jupyter.widget-view+json": {
       "version_major": 2,
       "version_minor": 0,
       "model_id": "4d44436efd014865a05de6f6d1d03135"
      }
     },
     "metadata": {},
     "output_type": "display_data"
    },
    {
     "data": {
      "text/plain": "Training batches on cuda:0:   0%|          | 0/3083 [00:00<?, ?batch/s]",
      "application/vnd.jupyter.widget-view+json": {
       "version_major": 2,
       "version_minor": 0,
       "model_id": "4c9d392df10c46778268c7a63f474541"
      }
     },
     "metadata": {},
     "output_type": "display_data"
    },
    {
     "data": {
      "text/plain": "Training batches on cuda:0:   0%|          | 0/3083 [00:00<?, ?batch/s]",
      "application/vnd.jupyter.widget-view+json": {
       "version_major": 2,
       "version_minor": 0,
       "model_id": "483eafa549fe4ff8a2414319ec9354f7"
      }
     },
     "metadata": {},
     "output_type": "display_data"
    },
    {
     "data": {
      "text/plain": "Training batches on cuda:0:   0%|          | 0/3083 [00:00<?, ?batch/s]",
      "application/vnd.jupyter.widget-view+json": {
       "version_major": 2,
       "version_minor": 0,
       "model_id": "2b25fb39f36c436ab6e5d78329a09779"
      }
     },
     "metadata": {},
     "output_type": "display_data"
    },
    {
     "data": {
      "text/plain": "Training batches on cuda:0:   0%|          | 0/3083 [00:00<?, ?batch/s]",
      "application/vnd.jupyter.widget-view+json": {
       "version_major": 2,
       "version_minor": 0,
       "model_id": "b7ce25f478774e04899dddaccc35781e"
      }
     },
     "metadata": {},
     "output_type": "display_data"
    },
    {
     "data": {
      "text/plain": "Training batches on cuda:0:   0%|          | 0/3083 [00:00<?, ?batch/s]",
      "application/vnd.jupyter.widget-view+json": {
       "version_major": 2,
       "version_minor": 0,
       "model_id": "ef88d48073714bc29e93aad2527c6a9a"
      }
     },
     "metadata": {},
     "output_type": "display_data"
    },
    {
     "data": {
      "text/plain": "Training batches on cuda:0:   0%|          | 0/3083 [00:00<?, ?batch/s]",
      "application/vnd.jupyter.widget-view+json": {
       "version_major": 2,
       "version_minor": 0,
       "model_id": "a22e15ef313f4b09b574569aae725009"
      }
     },
     "metadata": {},
     "output_type": "display_data"
    },
    {
     "data": {
      "text/plain": "Training batches on cuda:0:   0%|          | 0/3083 [00:00<?, ?batch/s]",
      "application/vnd.jupyter.widget-view+json": {
       "version_major": 2,
       "version_minor": 0,
       "model_id": "24b05d2a56974f30a5d34b901d75d802"
      }
     },
     "metadata": {},
     "output_type": "display_data"
    },
    {
     "data": {
      "text/plain": "Training batches on cuda:0:   0%|          | 0/3083 [00:00<?, ?batch/s]",
      "application/vnd.jupyter.widget-view+json": {
       "version_major": 2,
       "version_minor": 0,
       "model_id": "3cacecd4c8144db293c2965ac43538ba"
      }
     },
     "metadata": {},
     "output_type": "display_data"
    },
    {
     "data": {
      "text/plain": "Training batches on cuda:0:   0%|          | 0/3083 [00:00<?, ?batch/s]",
      "application/vnd.jupyter.widget-view+json": {
       "version_major": 2,
       "version_minor": 0,
       "model_id": "c4b38f9fde8a430eacea7838670139ba"
      }
     },
     "metadata": {},
     "output_type": "display_data"
    },
    {
     "data": {
      "text/plain": "Training batches on cuda:0:   0%|          | 0/3083 [00:00<?, ?batch/s]",
      "application/vnd.jupyter.widget-view+json": {
       "version_major": 2,
       "version_minor": 0,
       "model_id": "6016325dca5a40639610b3c25d57047f"
      }
     },
     "metadata": {},
     "output_type": "display_data"
    },
    {
     "data": {
      "text/plain": "Training batches on cuda:0:   0%|          | 0/3083 [00:00<?, ?batch/s]",
      "application/vnd.jupyter.widget-view+json": {
       "version_major": 2,
       "version_minor": 0,
       "model_id": "9c4fd5a0f69549aaab166eeca520e623"
      }
     },
     "metadata": {},
     "output_type": "display_data"
    },
    {
     "data": {
      "text/plain": "Training batches on cuda:0:   0%|          | 0/3083 [00:00<?, ?batch/s]",
      "application/vnd.jupyter.widget-view+json": {
       "version_major": 2,
       "version_minor": 0,
       "model_id": "372d0dafe32b4984b08a8d9bf492dd3b"
      }
     },
     "metadata": {},
     "output_type": "display_data"
    },
    {
     "data": {
      "text/plain": "Training batches on cuda:0:   0%|          | 0/3083 [00:00<?, ?batch/s]",
      "application/vnd.jupyter.widget-view+json": {
       "version_major": 2,
       "version_minor": 0,
       "model_id": "f334085142ad4c01a68c3ad4f8b7bf40"
      }
     },
     "metadata": {},
     "output_type": "display_data"
    },
    {
     "data": {
      "text/plain": "Training batches on cuda:0:   0%|          | 0/3083 [00:00<?, ?batch/s]",
      "application/vnd.jupyter.widget-view+json": {
       "version_major": 2,
       "version_minor": 0,
       "model_id": "344b2d4e13874db0a33859efa048117c"
      }
     },
     "metadata": {},
     "output_type": "display_data"
    },
    {
     "data": {
      "text/plain": "Training batches on cuda:0:   0%|          | 0/3083 [00:00<?, ?batch/s]",
      "application/vnd.jupyter.widget-view+json": {
       "version_major": 2,
       "version_minor": 0,
       "model_id": "da935d2cb54f4821805a1aa9902fc23d"
      }
     },
     "metadata": {},
     "output_type": "display_data"
    },
    {
     "name": "stderr",
     "output_type": "stream",
     "text": [
      "INFO:pykeen.evaluation.evaluator:Starting batch_size search for evaluation now...\n",
      "C:\\Users\\piotr\\AppData\\Local\\Programs\\Python\\Python310\\lib\\site-packages\\pykeen\\utils.py:545: RuntimeWarning: overflow encountered in scalar add\n",
      "  return sum(\n",
      "INFO:pykeen.evaluation.evaluator:Concluded batch_size search with batch_size=128.\n"
     ]
    },
    {
     "data": {
      "text/plain": "Evaluating on cuda:0:   0%|          | 0.00/98.6k [00:00<?, ?triple/s]",
      "application/vnd.jupyter.widget-view+json": {
       "version_major": 2,
       "version_minor": 0,
       "model_id": "c46149108a174de4a46865a79bd2650f"
      }
     },
     "metadata": {},
     "output_type": "display_data"
    },
    {
     "name": "stderr",
     "output_type": "stream",
     "text": [
      "INFO:pykeen.evaluation.evaluator:Evaluation took 1321.91s seconds\n"
     ]
    }
   ],
   "source": [
    "pipeline_result_TransH = pipeline(\n",
    "    training=training,\n",
    "    testing=testing,\n",
    "    validation=validation,\n",
    "    model=TransH,\n",
    "    epochs=20,\n",
    ")"
   ],
   "metadata": {
    "collapsed": false,
    "ExecuteTime": {
     "end_time": "2023-11-24T22:27:17.250533300Z",
     "start_time": "2023-11-24T21:47:13.978021700Z"
    }
   },
   "id": "2451ebd22b0ea915"
  },
  {
   "cell_type": "code",
   "execution_count": 17,
   "outputs": [
    {
     "name": "stderr",
     "output_type": "stream",
     "text": [
      "WARNING:pykeen.pipeline.api:No random seed is specified. Setting to 3012827844.\n",
      "INFO:pykeen.pipeline.api:Using device: None\n"
     ]
    },
    {
     "data": {
      "text/plain": "Training epochs on cuda:0:   0%|          | 0/20 [00:00<?, ?epoch/s]",
      "application/vnd.jupyter.widget-view+json": {
       "version_major": 2,
       "version_minor": 0,
       "model_id": "56068bcad13843c3bf47a48f0e58a0f4"
      }
     },
     "metadata": {},
     "output_type": "display_data"
    },
    {
     "data": {
      "text/plain": "Training batches on cuda:0:   0%|          | 0/3083 [00:00<?, ?batch/s]",
      "application/vnd.jupyter.widget-view+json": {
       "version_major": 2,
       "version_minor": 0,
       "model_id": "b702a9fd279340c7985cf678129d0ca9"
      }
     },
     "metadata": {},
     "output_type": "display_data"
    },
    {
     "data": {
      "text/plain": "Training batches on cuda:0:   0%|          | 0/3083 [00:00<?, ?batch/s]",
      "application/vnd.jupyter.widget-view+json": {
       "version_major": 2,
       "version_minor": 0,
       "model_id": "cd79503af09845fc9aaca5ce869a10c8"
      }
     },
     "metadata": {},
     "output_type": "display_data"
    },
    {
     "data": {
      "text/plain": "Training batches on cuda:0:   0%|          | 0/3083 [00:00<?, ?batch/s]",
      "application/vnd.jupyter.widget-view+json": {
       "version_major": 2,
       "version_minor": 0,
       "model_id": "62a12b8630d8446ab3bed73d254d4400"
      }
     },
     "metadata": {},
     "output_type": "display_data"
    },
    {
     "data": {
      "text/plain": "Training batches on cuda:0:   0%|          | 0/3083 [00:00<?, ?batch/s]",
      "application/vnd.jupyter.widget-view+json": {
       "version_major": 2,
       "version_minor": 0,
       "model_id": "89643594b81e4fc6af33f4ee8a459969"
      }
     },
     "metadata": {},
     "output_type": "display_data"
    },
    {
     "data": {
      "text/plain": "Training batches on cuda:0:   0%|          | 0/3083 [00:00<?, ?batch/s]",
      "application/vnd.jupyter.widget-view+json": {
       "version_major": 2,
       "version_minor": 0,
       "model_id": "d702e4431a3341c7908c56d74837df07"
      }
     },
     "metadata": {},
     "output_type": "display_data"
    },
    {
     "data": {
      "text/plain": "Training batches on cuda:0:   0%|          | 0/3083 [00:00<?, ?batch/s]",
      "application/vnd.jupyter.widget-view+json": {
       "version_major": 2,
       "version_minor": 0,
       "model_id": "e28d49a1eba246e5b85371a065e2f9e4"
      }
     },
     "metadata": {},
     "output_type": "display_data"
    },
    {
     "data": {
      "text/plain": "Training batches on cuda:0:   0%|          | 0/3083 [00:00<?, ?batch/s]",
      "application/vnd.jupyter.widget-view+json": {
       "version_major": 2,
       "version_minor": 0,
       "model_id": "c25a10c9ff594e159ddfa9f4c8a22c70"
      }
     },
     "metadata": {},
     "output_type": "display_data"
    },
    {
     "data": {
      "text/plain": "Training batches on cuda:0:   0%|          | 0/3083 [00:00<?, ?batch/s]",
      "application/vnd.jupyter.widget-view+json": {
       "version_major": 2,
       "version_minor": 0,
       "model_id": "28e78fc4a6b24441bc33481da93f3e1a"
      }
     },
     "metadata": {},
     "output_type": "display_data"
    },
    {
     "data": {
      "text/plain": "Training batches on cuda:0:   0%|          | 0/3083 [00:00<?, ?batch/s]",
      "application/vnd.jupyter.widget-view+json": {
       "version_major": 2,
       "version_minor": 0,
       "model_id": "02c596d00f8d40bd864a9f9e1a496419"
      }
     },
     "metadata": {},
     "output_type": "display_data"
    },
    {
     "data": {
      "text/plain": "Training batches on cuda:0:   0%|          | 0/3083 [00:00<?, ?batch/s]",
      "application/vnd.jupyter.widget-view+json": {
       "version_major": 2,
       "version_minor": 0,
       "model_id": "c72a4e8a1a964232b0f0dc473ea6c299"
      }
     },
     "metadata": {},
     "output_type": "display_data"
    },
    {
     "data": {
      "text/plain": "Training batches on cuda:0:   0%|          | 0/3083 [00:00<?, ?batch/s]",
      "application/vnd.jupyter.widget-view+json": {
       "version_major": 2,
       "version_minor": 0,
       "model_id": "4e190cf7cf5643078b73d72513a94376"
      }
     },
     "metadata": {},
     "output_type": "display_data"
    },
    {
     "data": {
      "text/plain": "Training batches on cuda:0:   0%|          | 0/3083 [00:00<?, ?batch/s]",
      "application/vnd.jupyter.widget-view+json": {
       "version_major": 2,
       "version_minor": 0,
       "model_id": "9eef772c19fc4bcc98b9ae44c17ad88e"
      }
     },
     "metadata": {},
     "output_type": "display_data"
    },
    {
     "data": {
      "text/plain": "Training batches on cuda:0:   0%|          | 0/3083 [00:00<?, ?batch/s]",
      "application/vnd.jupyter.widget-view+json": {
       "version_major": 2,
       "version_minor": 0,
       "model_id": "f865995cfd234296a2fc23c3b5ed94f6"
      }
     },
     "metadata": {},
     "output_type": "display_data"
    },
    {
     "data": {
      "text/plain": "Training batches on cuda:0:   0%|          | 0/3083 [00:00<?, ?batch/s]",
      "application/vnd.jupyter.widget-view+json": {
       "version_major": 2,
       "version_minor": 0,
       "model_id": "fac072c996fe486ab878ba4f6c5afd27"
      }
     },
     "metadata": {},
     "output_type": "display_data"
    },
    {
     "data": {
      "text/plain": "Training batches on cuda:0:   0%|          | 0/3083 [00:00<?, ?batch/s]",
      "application/vnd.jupyter.widget-view+json": {
       "version_major": 2,
       "version_minor": 0,
       "model_id": "b7fb8176736d48928325427635e7940b"
      }
     },
     "metadata": {},
     "output_type": "display_data"
    },
    {
     "data": {
      "text/plain": "Training batches on cuda:0:   0%|          | 0/3083 [00:00<?, ?batch/s]",
      "application/vnd.jupyter.widget-view+json": {
       "version_major": 2,
       "version_minor": 0,
       "model_id": "acc54acefd0c4051884a6559e3310249"
      }
     },
     "metadata": {},
     "output_type": "display_data"
    },
    {
     "data": {
      "text/plain": "Training batches on cuda:0:   0%|          | 0/3083 [00:00<?, ?batch/s]",
      "application/vnd.jupyter.widget-view+json": {
       "version_major": 2,
       "version_minor": 0,
       "model_id": "a53b78714eb84fae9d75d5203ed07739"
      }
     },
     "metadata": {},
     "output_type": "display_data"
    },
    {
     "data": {
      "text/plain": "Training batches on cuda:0:   0%|          | 0/3083 [00:00<?, ?batch/s]",
      "application/vnd.jupyter.widget-view+json": {
       "version_major": 2,
       "version_minor": 0,
       "model_id": "a2a2dd26d7a546b39375a0bfa4922690"
      }
     },
     "metadata": {},
     "output_type": "display_data"
    },
    {
     "data": {
      "text/plain": "Training batches on cuda:0:   0%|          | 0/3083 [00:00<?, ?batch/s]",
      "application/vnd.jupyter.widget-view+json": {
       "version_major": 2,
       "version_minor": 0,
       "model_id": "3875b710a3854b379b3896fc7b96c7f8"
      }
     },
     "metadata": {},
     "output_type": "display_data"
    },
    {
     "data": {
      "text/plain": "Training batches on cuda:0:   0%|          | 0/3083 [00:00<?, ?batch/s]",
      "application/vnd.jupyter.widget-view+json": {
       "version_major": 2,
       "version_minor": 0,
       "model_id": "d8953b8927f34e1d8196995fa06ce2e9"
      }
     },
     "metadata": {},
     "output_type": "display_data"
    },
    {
     "name": "stderr",
     "output_type": "stream",
     "text": [
      "INFO:pykeen.evaluation.evaluator:Starting batch_size search for evaluation now...\n",
      "INFO:pykeen.evaluation.evaluator:Concluded batch_size search with batch_size=512.\n"
     ]
    },
    {
     "data": {
      "text/plain": "Evaluating on cuda:0:   0%|          | 0.00/98.6k [00:00<?, ?triple/s]",
      "application/vnd.jupyter.widget-view+json": {
       "version_major": 2,
       "version_minor": 0,
       "model_id": "ddfe587990f144b8a16f7bc7da10d59c"
      }
     },
     "metadata": {},
     "output_type": "display_data"
    },
    {
     "name": "stderr",
     "output_type": "stream",
     "text": [
      "INFO:pykeen.evaluation.evaluator:Evaluation took 386.02s seconds\n"
     ]
    }
   ],
   "source": [
    "pipeline_result_RESCAL = pipeline(\n",
    "    training=training,\n",
    "    testing=testing,\n",
    "    validation=validation,\n",
    "    model=RESCAL,\n",
    "    epochs=20,\n",
    ")"
   ],
   "metadata": {
    "collapsed": false,
    "ExecuteTime": {
     "end_time": "2023-11-24T22:27:18.508900700Z",
     "start_time": "2023-11-24T22:15:52.565245300Z"
    }
   },
   "id": "616f30ca6a1c24a3"
  },
  {
   "cell_type": "code",
   "execution_count": 18,
   "outputs": [],
   "source": [
    "def predict_TransR(track_id: str, k: int) -> list[str]:\n",
    "    return (\n",
    "        predict_target(\n",
    "            model=pipeline_result_TransR.model,\n",
    "            head=track_id,\n",
    "            relation=\"follows\",\n",
    "            triples_factory=pipeline_result.training,\n",
    "        )\n",
    "        .df[:k][\"tail_label\"]\n",
    "        .to_list()\n",
    "    )\n",
    "\n",
    "\n",
    "def predict_TransH(track_id: str, k: int) -> list[str]:\n",
    "    return (\n",
    "        predict_target(\n",
    "            model=pipeline_result_TransH.model,\n",
    "            head=track_id,\n",
    "            relation=\"follows\",\n",
    "            triples_factory=pipeline_result.training,\n",
    "        )\n",
    "        .df[:k][\"tail_label\"]\n",
    "        .to_list()\n",
    "    )\n",
    "\n",
    "\n",
    "def predict_RESCAL(track_id: str, k: int) -> list[str]:\n",
    "    return (\n",
    "        predict_target(\n",
    "            model=pipeline_result_RESCAL.model,\n",
    "            head=track_id,\n",
    "            relation=\"follows\",\n",
    "            triples_factory=pipeline_result.training,\n",
    "        )\n",
    "        .df[:k][\"tail_label\"]\n",
    "        .to_list()\n",
    "    )"
   ],
   "metadata": {
    "collapsed": false,
    "ExecuteTime": {
     "end_time": "2023-11-24T22:27:18.509900900Z",
     "start_time": "2023-11-24T22:27:17.911167Z"
    }
   },
   "id": "a0caf124f46695a4"
  },
  {
   "cell_type": "code",
   "execution_count": 19,
   "outputs": [
    {
     "name": "stdout",
     "output_type": "stream",
     "text": [
      "calculating prediction for iteration 0\n",
      "calculating prediction for iteration 100\n",
      "calculating prediction for iteration 200\n",
      "calculating prediction for iteration 300\n",
      "calculating prediction for iteration 400\n",
      "calculating prediction for iteration 500\n",
      "calculating prediction for iteration 600\n",
      "calculating prediction for iteration 700\n",
      "calculating prediction for iteration 800\n",
      "calculating prediction for iteration 900\n"
     ]
    }
   ],
   "source": [
    "predictions_TransR = []\n",
    "predictions_TransH = []\n",
    "predictions_RESCAL = []\n",
    "actual_tracks = [\n",
    "    playlist[cutoff_idx : cutoff_idx + k] for playlist in long_enough_test_playlists\n",
    "]\n",
    "for i, playlist in enumerate(long_enough_test_playlists):\n",
    "    if i % 100 == 0:\n",
    "        print(f\"calculating prediction for iteration {i}\")\n",
    "    predictions_TransR.append(predict_TransR(playlist[cutoff_idx], k))\n",
    "    predictions_TransH.append(predict_TransH(playlist[cutoff_idx], k))\n",
    "    predictions_RESCAL.append(predict_RESCAL(playlist[cutoff_idx], k))"
   ],
   "metadata": {
    "collapsed": false,
    "ExecuteTime": {
     "end_time": "2023-11-24T22:55:36.339983300Z",
     "start_time": "2023-11-24T22:27:17.996171400Z"
    }
   },
   "id": "726703b114da4844"
  },
  {
   "cell_type": "code",
   "execution_count": 20,
   "outputs": [],
   "source": [
    "precisions_TransR = [precision(p, a) for p, a in zip(predictions_TransR, actual_tracks)]\n",
    "precisions_TransH = [precision(p, a) for p, a in zip(predictions_TransH, actual_tracks)]\n",
    "precisions_RESCAL = [precision(p, a) for p, a in zip(predictions_RESCAL, actual_tracks)]\n",
    "recalls_TransR = [recall(p, a) for p, a in zip(predictions_TransR, actual_tracks)]\n",
    "recalls_TransH = [recall(p, a) for p, a in zip(predictions_TransH, actual_tracks)]\n",
    "recalls_RESCAL = [recall(p, a) for p, a in zip(predictions_RESCAL, actual_tracks)]"
   ],
   "metadata": {
    "collapsed": false,
    "ExecuteTime": {
     "end_time": "2023-11-24T22:55:36.373983400Z",
     "start_time": "2023-11-24T22:55:36.341982600Z"
    }
   },
   "id": "7124048798a3996a"
  },
  {
   "cell_type": "code",
   "execution_count": 22,
   "outputs": [
    {
     "data": {
      "text/plain": "<Figure size 2100x1400 with 6 Axes>",
      "image/png": "[encoded data removed]"
     },
     "metadata": {},
     "output_type": "display_data"
    }
   ],
   "source": [
    "# histogram\n",
    "fig, ax = plt.subplots(3, 2, figsize=(21, 14))\n",
    "\n",
    "ax[0][0].hist(precisions_TransR, bins=20)\n",
    "ax[0][0].set_title(\"Precision TransR\")\n",
    "ax[0][1].hist(recalls_TransR, bins=20)\n",
    "ax[0][1].set_title(\"Recall TransR\")\n",
    "ax[1][0].hist(precisions_TransH, bins=20)\n",
    "ax[1][0].set_title(\"Precision TransH\")\n",
    "ax[1][1].hist(recalls_TransH, bins=20)\n",
    "ax[1][1].set_title(\"Recall TransH\")\n",
    "ax[2][0].hist(precisions_RESCAL, bins=20)\n",
    "ax[2][0].set_title(\"Precision RESCAL\")\n",
    "ax[2][1].hist(recalls_RESCAL, bins=20)\n",
    "ax[2][1].set_title(\"Recall RESCAL\")\n",
    "plt.show()"
   ],
   "metadata": {
    "collapsed": false,
    "ExecuteTime": {
     "end_time": "2023-11-24T23:01:27.212760100Z",
     "start_time": "2023-11-24T23:01:26.570085200Z"
    }
   },
   "id": "f32e0a1c8a75ed68"
  },
  {
   "cell_type": "code",
   "execution_count": null,
   "outputs": [],
   "source": [],
   "metadata": {
    "collapsed": false
   },
   "id": "4bf69980d9e17c4e"
  }
 ],
 "metadata": {
  "kernelspec": {
   "display_name": "Python 3 (ipykernel)",
   "language": "python",
   "name": "python3"
  },
  "language_info": {
   "codemirror_mode": {
    "name": "ipython",
    "version": 3
   },
   "file_extension": ".py",
   "mimetype": "text/x-python",
   "name": "python",
   "nbconvert_exporter": "python",
   "pygments_lexer": "ipython3",
   "version": "3.9.6"
  }
 },
 "nbformat": 4,
 "nbformat_minor": 5
}
